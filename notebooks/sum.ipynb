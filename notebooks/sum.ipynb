{
 "cells": [
  {
   "cell_type": "code",
   "execution_count": 4,
   "metadata": {},
   "outputs": [
    {
     "name": "stderr",
     "output_type": "stream",
     "text": [
      "No model was supplied, defaulted to sshleifer/distilbart-cnn-12-6 (https://huggingface.co/sshleifer/distilbart-cnn-12-6)\n"
     ]
    }
   ],
   "source": [
    "from transformers import pipeline\n",
    "# Open and read the article\n",
    "to_tokenize = \"\"\"\n",
    "If you are starting a new project from scratch, check the alternatives here. For example, the project generator Full Stack FastAPI PostgreSQL might be a better alternative, as it is actively maintained and used. And it includes all the new features and improvements.\n",
    "You are still free to use the Couchbase-based generator if you want to, it should probably still work fine, and if you already have a project generated with it that's fine as well (and you probably already updated it to suit your needs). You can read more about it in the docs for the repo.\n",
    "\"\"\"\n",
    "\n",
    "# Initialize the HuggingFace summarization pipeline\n",
    "summarizer = pipeline(\"summarization\")\n"
   ]
  },
  {
   "cell_type": "code",
   "execution_count": 6,
   "metadata": {},
   "outputs": [
    {
     "name": "stderr",
     "output_type": "stream",
     "text": [
      "Your max_length is set to 300, but you input_length is only 121. You might consider decreasing max_length manually, e.g. summarizer('...', max_length=50)\n"
     ]
    },
    {
     "name": "stdout",
     "output_type": "stream",
     "text": [
      "{'summary_text': \" You are still free to use Couchbase-based generator if you want to, it should probably still work fine . If you already have a project generated with it that's fine as well (and you probably already updated it to suit your needs) If you are starting a new project from scratch, check the alternatives here . For example, the project generator Full Stack FastAPI Postgres might be a better alternative .\"}\n"
     ]
    }
   ],
   "source": [
    "\n",
    "summarized = summarizer(to_tokenize, min_length=75, max_length=300)\n"
   ]
  },
  {
   "cell_type": "code",
   "execution_count": 7,
   "metadata": {},
   "outputs": [
    {
     "name": "stdout",
     "output_type": "stream",
     "text": [
      " You are still free to use Couchbase-based generator if you want to, it should probably still work fine . If you already have a project generated with it that's fine as well (and you probably already updated it to suit your needs) If you are starting a new project from scratch, check the alternatives here . For example, the project generator Full Stack FastAPI Postgres might be a better alternative .\n"
     ]
    }
   ],
   "source": [
    "\n",
    "# Print summarized text\n",
    "print(summarized[0][\"summary_text\"])\n"
   ]
  }
 ],
 "metadata": {
  "interpreter": {
   "hash": "5caea8df2d6b3afe4c6a8fa5e4ec8aa952f5ed6f914beaca74edf16901303bb7"
  },
  "kernelspec": {
   "display_name": "Python 3.9.7 64-bit ('text': conda)",
   "name": "python3"
  },
  "language_info": {
   "codemirror_mode": {
    "name": "ipython",
    "version": 3
   },
   "file_extension": ".py",
   "mimetype": "text/x-python",
   "name": "python",
   "nbconvert_exporter": "python",
   "pygments_lexer": "ipython3",
   "version": "3.9.7"
  },
  "orig_nbformat": 4
 },
 "nbformat": 4,
 "nbformat_minor": 2
}
