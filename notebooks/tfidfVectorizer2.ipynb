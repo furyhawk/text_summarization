{
 "cells": [
  {
   "cell_type": "code",
   "execution_count": 1,
   "metadata": {},
   "outputs": [
    {
     "name": "stdout",
     "output_type": "stream",
     "text": [
      "You are working on a local system.\n",
      "Files will be searched relative to \"..\".\n"
     ]
    }
   ],
   "source": [
    "import sys, os\n",
    "ON_COLAB = 'google.colab' in sys.modules\n",
    "\n",
    "if ON_COLAB:\n",
    "    GIT_ROOT = 'https://github.com/furyhawk/text_summarization/raw/master'\n",
    "    os.system(f'wget {GIT_ROOT}/notebooks/setup.py')\n",
    "\n",
    "%run -i setup.py"
   ]
  },
  {
   "cell_type": "code",
   "execution_count": 2,
   "metadata": {},
   "outputs": [],
   "source": [
    "%run \"$BASE_DIR/settings.py\"\n",
    "\n",
    "%reload_ext autoreload\n",
    "%autoreload 2\n",
    "%config InlineBackend.figure_format = 'png'\n",
    "\n",
    "# to print output of all statements and not just the last\n",
    "from IPython.core.interactiveshell import InteractiveShell\n",
    "InteractiveShell.ast_node_interactivity = \"all\"\n",
    "\n",
    "# otherwise text between $ signs will be interpreted as formula and printed in italic\n",
    "pd.set_option('display.html.use_mathjax', False)\n",
    "\n",
    "# path to import blueprints packages\n",
    "sys.path.append(BASE_DIR + '/packages')"
   ]
  },
  {
   "cell_type": "code",
   "execution_count": 3,
   "metadata": {},
   "outputs": [],
   "source": [
    "# adjust matplotlib resolution\n",
    "matplotlib.rcParams.update({'figure.dpi': 200 })"
   ]
  },
  {
   "cell_type": "code",
   "execution_count": 4,
   "metadata": {},
   "outputs": [],
   "source": [
    "from rouge_score import rouge_scorer\n",
    "from sklearn.feature_extraction.text import TfidfVectorizer\n",
    "from nltk import tokenize\n",
    "import matplotlib.pyplot as plt\n",
    "import rouge_score\n"
   ]
  },
  {
   "cell_type": "code",
   "execution_count": 5,
   "metadata": {},
   "outputs": [],
   "source": [
    "import os.path\n",
    "import pandas as pd\n",
    "import numpy as np"
   ]
  },
  {
   "cell_type": "markdown",
   "metadata": {},
   "source": [
    "# Loading BBC News Summary dataset"
   ]
  },
  {
   "cell_type": "code",
   "execution_count": 6,
   "metadata": {},
   "outputs": [
    {
     "name": "stdout",
     "output_type": "stream",
     "text": [
      "\"Reading business articles\"\n"
     ]
    },
    {
     "name": "stderr",
     "output_type": "stream",
     "text": [
      "100%|██████████| 510/510 [00:10<00:00, 48.41it/s]\n"
     ]
    },
    {
     "name": "stdout",
     "output_type": "stream",
     "text": [
      "\"Reading entertainment articles\"\n"
     ]
    },
    {
     "name": "stderr",
     "output_type": "stream",
     "text": [
      "100%|██████████| 386/386 [00:07<00:00, 51.34it/s]\n"
     ]
    },
    {
     "name": "stdout",
     "output_type": "stream",
     "text": [
      "\"Reading politics articles\"\n"
     ]
    },
    {
     "name": "stderr",
     "output_type": "stream",
     "text": [
      "100%|██████████| 417/417 [00:08<00:00, 51.17it/s]\n"
     ]
    },
    {
     "name": "stdout",
     "output_type": "stream",
     "text": [
      "\"Reading sport articles\"\n"
     ]
    },
    {
     "name": "stderr",
     "output_type": "stream",
     "text": [
      "100%|██████████| 511/511 [00:09<00:00, 52.88it/s]\n"
     ]
    },
    {
     "name": "stdout",
     "output_type": "stream",
     "text": [
      "\"Reading tech articles\"\n"
     ]
    },
    {
     "name": "stderr",
     "output_type": "stream",
     "text": [
      "100%|██████████| 401/401 [00:08<00:00, 48.76it/s]\n"
     ]
    }
   ],
   "source": [
    "\n",
    "root_path = f'../data/BBC News Summary'\n",
    "\n",
    "types_of_articles = ['business', 'entertainment', 'politics', 'sport', 'tech']\n",
    "df = pd.DataFrame(columns=['title', 'article', 'summary'])\n",
    "\n",
    "for type_of_article in types_of_articles:\n",
    "    # type_of_article = 'business'  # entertainment, politices, sport, tech\n",
    "    num_of_article = len(os.listdir(\n",
    "        f\"{root_path}/News Articles/{type_of_article}\"))\n",
    "\n",
    "    print(f'\"Reading {type_of_article} articles\"')\n",
    "    dataframe = pd.DataFrame(columns=['title', 'article', 'summary'])\n",
    "\n",
    "    for i in tqdm(range(num_of_article)):\n",
    "        with open(f'{root_path}/News Articles/{type_of_article}/{(i+1):03d}.txt', 'r') as f:\n",
    "            article = f.read().partition(\"\\n\")\n",
    "        with open(f'{root_path}/Summaries/{type_of_article}/{(i+1):03d}.txt', 'r') as f:\n",
    "            summary = f.read()\n",
    "\n",
    "        dataframe.loc[i] = [article[0], article[2].replace(\n",
    "            '\\n', ' ').replace('\\r', ''), summary]\n",
    "\n",
    "    df = df.append(dataframe, ignore_index=True)\n"
   ]
  },
  {
   "cell_type": "code",
   "execution_count": 7,
   "metadata": {},
   "outputs": [
    {
     "data": {
      "text/html": [
       "<div>\n",
       "<style scoped>\n",
       "    .dataframe tbody tr th:only-of-type {\n",
       "        vertical-align: middle;\n",
       "    }\n",
       "\n",
       "    .dataframe tbody tr th {\n",
       "        vertical-align: top;\n",
       "    }\n",
       "\n",
       "    .dataframe thead th {\n",
       "        text-align: right;\n",
       "    }\n",
       "</style>\n",
       "<table border=\"1\" class=\"dataframe tex2jax_ignore\">\n",
       "  <thead>\n",
       "    <tr style=\"text-align: right;\">\n",
       "      <th></th>\n",
       "      <th>title</th>\n",
       "      <th>article</th>\n",
       "      <th>summary</th>\n",
       "    </tr>\n",
       "  </thead>\n",
       "  <tbody>\n",
       "    <tr>\n",
       "      <th>0</th>\n",
       "      <td>Ad sales boost Time Warner profit</td>\n",
       "      <td>Quarterly profits at US media giant TimeWarner jumped 76% to $1.13bn (Â£600m) for the three months to December, from $639m year-earlier.  The firm, which is now one of the biggest investors in Go...</td>\n",
       "      <td>TimeWarner said fourth quarter sales rose 2% to $11.1bn from $10.9bn.For the full-year, TimeWarner posted a profit of $3.36bn, up 27% from its 2003 performance, while revenues grew 6.4% to $42.09b...</td>\n",
       "    </tr>\n",
       "    <tr>\n",
       "      <th>1</th>\n",
       "      <td>Dollar gains on Greenspan speech</td>\n",
       "      <td>The dollar has hit its highest level against the euro in almost three months after the Federal Reserve head said the US trade deficit is set to stabilise.  And Alan Greenspan highlighted the US g...</td>\n",
       "      <td>The dollar has hit its highest level against the euro in almost three months after the Federal Reserve head said the US trade deficit is set to stabilise.China's currency remains pegged to the dol...</td>\n",
       "    </tr>\n",
       "    <tr>\n",
       "      <th>2</th>\n",
       "      <td>Yukos unit buyer faces loan claim</td>\n",
       "      <td>The owners of embattled Russian oil giant Yukos are to ask the buyer of its former production unit to pay back a $900m (Â£479m) loan.  State-owned Rosneft bought the Yugansk unit for $9.3bn in a ...</td>\n",
       "      <td>Yukos' owner Menatep Group says it will ask Rosneft to repay a loan that Yugansk had secured on its assets.State-owned Rosneft bought the Yugansk unit for $9.3bn in a sale forced by Russia to part...</td>\n",
       "    </tr>\n",
       "    <tr>\n",
       "      <th>3</th>\n",
       "      <td>High fuel prices hit BA's profits</td>\n",
       "      <td>British Airways has blamed high fuel prices for a 40% drop in profits.  Reporting its results for the three months to 31 December 2004, the airline made a pre-tax profit of Â£75m ($141m) compared...</td>\n",
       "      <td>Rod Eddington, BA's chief executive, said the results were \"respectable\" in a third quarter when fuel costs rose by Â£106m or 47.3%.To help offset the increased price of aviation fuel, BA last yea...</td>\n",
       "    </tr>\n",
       "    <tr>\n",
       "      <th>4</th>\n",
       "      <td>Pernod takeover talk lifts Domecq</td>\n",
       "      <td>Shares in UK drinks and food firm Allied Domecq have risen on speculation that it could be the target of a takeover by France's Pernod Ricard.  Reports in the Wall Street Journal and the Financia...</td>\n",
       "      <td>Pernod has reduced the debt it took on to fund the Seagram purchase to just 1.8bn euros, while Allied has improved the performance of its fast-food chains.Shares in UK drinks and food firm Allied ...</td>\n",
       "    </tr>\n",
       "    <tr>\n",
       "      <th>...</th>\n",
       "      <td>...</td>\n",
       "      <td>...</td>\n",
       "      <td>...</td>\n",
       "    </tr>\n",
       "    <tr>\n",
       "      <th>2220</th>\n",
       "      <td>BT program to beat dialler scams</td>\n",
       "      <td>BT is introducing two initiatives to help beat rogue dialler scams, which can cost dial-up net users thousands.  From May, dial-up net users will be able to download free software to stop compute...</td>\n",
       "      <td>BT is introducing two initiatives to help beat rogue dialler scams, which can cost dial-up net users thousands.Inadvertently downloaded by surfers, rogue diallers are programs which hijack modems ...</td>\n",
       "    </tr>\n",
       "    <tr>\n",
       "      <th>2221</th>\n",
       "      <td>Spam e-mails tempt net shoppers</td>\n",
       "      <td>Computer users across the world continue to ignore security warnings about spam e-mails and are being lured into buying goods, a report suggests.  More than a quarter have bought software through...</td>\n",
       "      <td>A third of them read unsolicited junk e-mail and 66% buy goods or services after receiving spam.More than a quarter have bought software through spam e-mails and 24% have bought clothes or jewelle...</td>\n",
       "    </tr>\n",
       "    <tr>\n",
       "      <th>2222</th>\n",
       "      <td>Be careful how you code</td>\n",
       "      <td>A new European directive could put software writers at risk of legal action, warns former programmer and technology analyst Bill Thompson.  If it gets its way, the Dutch government will conclude ...</td>\n",
       "      <td>This goes to the heart of the European project, and even those who do not care about software or patents should be worried.But small companies, and the free and open software movement do not have ...</td>\n",
       "    </tr>\n",
       "    <tr>\n",
       "      <th>2223</th>\n",
       "      <td>US cyber security chief resigns</td>\n",
       "      <td>The man making sure US computer networks are safe and secure has resigned after only a year in his post.  Amit Yoran was director of the National Cyber Security Division within the US Department ...</td>\n",
       "      <td>Amit Yoran was director of the National Cyber Security Division within the US Department of Homeland Security created following the 9/11 attacks.The Cyber Security Division also audited US governm...</td>\n",
       "    </tr>\n",
       "    <tr>\n",
       "      <th>2224</th>\n",
       "      <td>Losing yourself in online gaming</td>\n",
       "      <td>Online role playing games are time-consuming, but enthralling flights from reality. But are some people taking their fantasy lives too seriously?  When video game World of Warcraft hit the shops ...</td>\n",
       "      <td>He says that in the world of online gaming such behaviour \"wasn't that unusual; lots of people I knew in the game played EQ that much\".I think I'm obsessed with gaming in general, I spend far too ...</td>\n",
       "    </tr>\n",
       "  </tbody>\n",
       "</table>\n",
       "<p>2225 rows × 3 columns</p>\n",
       "</div>"
      ],
      "text/plain": [
       "                                  title  \\\n",
       "0     Ad sales boost Time Warner profit   \n",
       "1      Dollar gains on Greenspan speech   \n",
       "2     Yukos unit buyer faces loan claim   \n",
       "3     High fuel prices hit BA's profits   \n",
       "4     Pernod takeover talk lifts Domecq   \n",
       "...                                 ...   \n",
       "2220   BT program to beat dialler scams   \n",
       "2221    Spam e-mails tempt net shoppers   \n",
       "2222            Be careful how you code   \n",
       "2223    US cyber security chief resigns   \n",
       "2224   Losing yourself in online gaming   \n",
       "\n",
       "                                                                                                                                                                                                      article  \\\n",
       "0      Quarterly profits at US media giant TimeWarner jumped 76% to $1.13bn (Â£600m) for the three months to December, from $639m year-earlier.  The firm, which is now one of the biggest investors in Go...   \n",
       "1      The dollar has hit its highest level against the euro in almost three months after the Federal Reserve head said the US trade deficit is set to stabilise.  And Alan Greenspan highlighted the US g...   \n",
       "2      The owners of embattled Russian oil giant Yukos are to ask the buyer of its former production unit to pay back a $900m (Â£479m) loan.  State-owned Rosneft bought the Yugansk unit for $9.3bn in a ...   \n",
       "3      British Airways has blamed high fuel prices for a 40% drop in profits.  Reporting its results for the three months to 31 December 2004, the airline made a pre-tax profit of Â£75m ($141m) compared...   \n",
       "4      Shares in UK drinks and food firm Allied Domecq have risen on speculation that it could be the target of a takeover by France's Pernod Ricard.  Reports in the Wall Street Journal and the Financia...   \n",
       "...                                                                                                                                                                                                       ...   \n",
       "2220   BT is introducing two initiatives to help beat rogue dialler scams, which can cost dial-up net users thousands.  From May, dial-up net users will be able to download free software to stop compute...   \n",
       "2221   Computer users across the world continue to ignore security warnings about spam e-mails and are being lured into buying goods, a report suggests.  More than a quarter have bought software through...   \n",
       "2222   A new European directive could put software writers at risk of legal action, warns former programmer and technology analyst Bill Thompson.  If it gets its way, the Dutch government will conclude ...   \n",
       "2223   The man making sure US computer networks are safe and secure has resigned after only a year in his post.  Amit Yoran was director of the National Cyber Security Division within the US Department ...   \n",
       "2224   Online role playing games are time-consuming, but enthralling flights from reality. But are some people taking their fantasy lives too seriously?  When video game World of Warcraft hit the shops ...   \n",
       "\n",
       "                                                                                                                                                                                                      summary  \n",
       "0     TimeWarner said fourth quarter sales rose 2% to $11.1bn from $10.9bn.For the full-year, TimeWarner posted a profit of $3.36bn, up 27% from its 2003 performance, while revenues grew 6.4% to $42.09b...  \n",
       "1     The dollar has hit its highest level against the euro in almost three months after the Federal Reserve head said the US trade deficit is set to stabilise.China's currency remains pegged to the dol...  \n",
       "2     Yukos' owner Menatep Group says it will ask Rosneft to repay a loan that Yugansk had secured on its assets.State-owned Rosneft bought the Yugansk unit for $9.3bn in a sale forced by Russia to part...  \n",
       "3     Rod Eddington, BA's chief executive, said the results were \"respectable\" in a third quarter when fuel costs rose by Â£106m or 47.3%.To help offset the increased price of aviation fuel, BA last yea...  \n",
       "4     Pernod has reduced the debt it took on to fund the Seagram purchase to just 1.8bn euros, while Allied has improved the performance of its fast-food chains.Shares in UK drinks and food firm Allied ...  \n",
       "...                                                                                                                                                                                                       ...  \n",
       "2220  BT is introducing two initiatives to help beat rogue dialler scams, which can cost dial-up net users thousands.Inadvertently downloaded by surfers, rogue diallers are programs which hijack modems ...  \n",
       "2221  A third of them read unsolicited junk e-mail and 66% buy goods or services after receiving spam.More than a quarter have bought software through spam e-mails and 24% have bought clothes or jewelle...  \n",
       "2222  This goes to the heart of the European project, and even those who do not care about software or patents should be worried.But small companies, and the free and open software movement do not have ...  \n",
       "2223  Amit Yoran was director of the National Cyber Security Division within the US Department of Homeland Security created following the 9/11 attacks.The Cyber Security Division also audited US governm...  \n",
       "2224  He says that in the world of online gaming such behaviour \"wasn't that unusual; lots of people I knew in the game played EQ that much\".I think I'm obsessed with gaming in general, I spend far too ...  \n",
       "\n",
       "[2225 rows x 3 columns]"
      ]
     },
     "execution_count": 7,
     "metadata": {},
     "output_type": "execute_result"
    }
   ],
   "source": [
    "df"
   ]
  },
  {
   "cell_type": "markdown",
   "metadata": {},
   "source": [
    "# Summarizing text using topic representation\n",
    "## Identifying important words with TF-IDF values"
   ]
  },
  {
   "cell_type": "code",
   "execution_count": 8,
   "metadata": {},
   "outputs": [
    {
     "name": "stderr",
     "output_type": "stream",
     "text": [
      "[nltk_data] Downloading package punkt to\n",
      "[nltk_data]     C:\\Users\\furyx\\AppData\\Roaming\\nltk_data...\n",
      "[nltk_data]   Package punkt is already up-to-date!\n"
     ]
    },
    {
     "data": {
      "text/plain": [
       "True"
      ]
     },
     "execution_count": 8,
     "metadata": {},
     "output_type": "execute_result"
    },
    {
     "name": "stdout",
     "output_type": "stream",
     "text": [
      "\n",
      "Sample:  The dollar has hit its highest level against the euro in almost three months after the Federal Reserve head said the US trade deficit is set to stabilise.  And Alan Greenspan highlighted the US government's willingness to curb spending and rising household savings as factors which may help to reduce it. In late trading in New York, the dollar reached $1.2871 against the euro, from $1.2974 on Thursday. Market concerns about the deficit has hit the greenback in recent months. On Friday, Federal Reserve chairman Mr Greenspan's speech in London ahead of the meeting of G7 finance ministers sent the dollar higher after it had earlier tumbled on the back of worse-than-expected US jobs data. \"I think the chairman's taking a much more sanguine view on the current account deficit than he's taken for some time,\" said Robert Sinche, head of currency strategy at Bank of America in New York. \"He's taking a longer-term view, laying out a set of conditions under which the current account deficit can improve this year and next.\"  Worries about the deficit concerns about China do, however, remain. China's currency remains pegged to the dollar and the US currency's sharp falls in recent months have therefore made Chinese export prices highly competitive. But calls for a shift in Beijing's policy have fallen on deaf ears, despite recent comments in a major Chinese newspaper that the \"time is ripe\" for a loosening of the peg. The G7 meeting is thought unlikely to produce any meaningful movement in Chinese policy. In the meantime, the US Federal Reserve's decision on 2 February to boost interest rates by a quarter of a point - the sixth such move in as many months - has opened up a differential with European rates. The half-point window, some believe, could be enough to keep US assets looking more attractive, and could help prop up the dollar. The recent falls have partly been the result of big budget deficits, as well as the US's yawning current account gap, both of which need to be funded by the buying of US bonds and assets by foreign firms and governments. The White House will announce its budget on Monday, and many commentators believe the deficit will remain at close to half a trillion dollars. \n"
     ]
    }
   ],
   "source": [
    "from sklearn.feature_extraction.text import TfidfVectorizer\n",
    "from nltk import tokenize\n",
    "nltk.download('punkt')\n",
    "\n",
    "\n",
    "sample_text = df['article'].iloc[1]\n",
    "print(\"\\nSample:\", sample_text)\n",
    "sentences = tokenize.sent_tokenize(sample_text)\n",
    "tfidfVectorizer = TfidfVectorizer()\n",
    "words_tfidf = tfidfVectorizer.fit_transform(sentences)\n"
   ]
  },
  {
   "cell_type": "code",
   "execution_count": 9,
   "metadata": {},
   "outputs": [
    {
     "name": "stdout",
     "output_type": "stream",
     "text": [
      "On Friday, Federal Reserve chairman Mr Greenspan's speech in London ahead of the meeting of G7 finance ministers sent the dollar higher after it had earlier tumbled on the back of worse-than-expected US jobs data.\n",
      "\"I think the chairman's taking a much more sanguine view on the current account deficit than he's taken for some time,\" said Robert Sinche, head of currency strategy at Bank of America in New York.\n",
      "The recent falls have partly been the result of big budget deficits, as well as the US's yawning current account gap, both of which need to be funded by the buying of US bonds and assets by foreign firms and governments.\n"
     ]
    }
   ],
   "source": [
    "# Parameter to specify number of summary sentences required\n",
    "num_summary_sentence = 3\n",
    "\n",
    "# Sort the sentences in descending order by the sum of TF-IDF values\n",
    "sent_sum = words_tfidf.sum(axis=1)\n",
    "important_sent = np.argsort(sent_sum, axis=0)[::-1]\n",
    "\n",
    "# Print three most important sentences in the order they appear in the article\n",
    "for i in range(0, len(sentences)):\n",
    "    if i in important_sent[:num_summary_sentence]:\n",
    "        print (sentences[i])"
   ]
  },
  {
   "cell_type": "code",
   "execution_count": 42,
   "metadata": {},
   "outputs": [],
   "source": [
    "from datasets import Dataset, DatasetDict, load_metric\n",
    "raw_datasets = Dataset.from_pandas(df)\n",
    "\n",
    "metric = load_metric(\"rouge\")"
   ]
  },
  {
   "cell_type": "markdown",
   "metadata": {},
   "source": [
    "Splitting the dataset in train and test split"
   ]
  },
  {
   "cell_type": "code",
   "execution_count": 52,
   "metadata": {},
   "outputs": [
    {
     "data": {
      "text/plain": [
       "Dataset({\n",
       "    features: ['title', 'article', 'summary'],\n",
       "    num_rows: 223\n",
       "})"
      ]
     },
     "execution_count": 52,
     "metadata": {},
     "output_type": "execute_result"
    }
   ],
   "source": [
    "# 90% train, 10% test + validation\n",
    "train_testvalid = raw_datasets.train_test_split(test_size=0.1)\n",
    "\n",
    "# train_testvalid['test']\n",
    "# # Split the 10% test + validation in half test, half validation\n",
    "# test_valid = train_testvalid[\"test\"].train_test_split(test_size=0.5)\n",
    "# # gather everyone if you want to have a single DatasetDict\n",
    "# raw_datasets = DatasetDict({\n",
    "#     \"train\": train_testvalid[\"train\"],\n",
    "#     \"test\": test_valid[\"test\"],\n",
    "#     \"valid\": test_valid[\"train\"]})\n",
    "\n",
    "raw_datasets = train_testvalid['test']\n",
    "raw_datasets"
   ]
  },
  {
   "cell_type": "code",
   "execution_count": 83,
   "metadata": {},
   "outputs": [],
   "source": [
    "from sklearn.feature_extraction.text import TfidfVectorizer\n",
    "from nltk import tokenize\n",
    "\n",
    "\n",
    "def tfidf_summary(text, num_summary_sentence=3):\n",
    "    summary_sentence = ''\n",
    "    sentences = tokenize.sent_tokenize(text['article'])\n",
    "    tfidfVectorizer = TfidfVectorizer()\n",
    "    words_tfidf = tfidfVectorizer.fit_transform(sentences)\n",
    "    sentence_sum = words_tfidf.sum(axis=1)\n",
    "    important_sentences = np.argsort(sentence_sum, axis=0)[::-1]\n",
    "    for i in range(0, len(sentences)):\n",
    "        if i in important_sentences[:num_summary_sentence]:\n",
    "            summary_sentence = summary_sentence+sentences[i]\n",
    "    text['output'] = summary_sentence\n",
    "    return text\n"
   ]
  },
  {
   "cell_type": "code",
   "execution_count": 13,
   "metadata": {},
   "outputs": [],
   "source": [
    "from preparation import clean\n",
    "\n",
    "# Parameter to specify number of summary sentences required\n",
    "num_summary_sentence = 5\n",
    "\n"
   ]
  },
  {
   "cell_type": "code",
   "execution_count": 14,
   "metadata": {},
   "outputs": [],
   "source": [
    "import nltk\n",
    "import numpy as np\n",
    "\n",
    "def compute_metrics(eval_pred):\n",
    "    predictions, labels = eval_pred\n",
    "    decoded_preds = tokenizer.batch_decode(predictions, skip_special_tokens=True)\n",
    "    # Replace -100 in the labels as we can't decode them.\n",
    "    labels = np.where(labels != -100, labels, tokenizer.pad_token_id)\n",
    "    decoded_labels = tokenizer.batch_decode(labels, skip_special_tokens=True)\n",
    "    \n",
    "    # Rouge expects a newline after each sentence\n",
    "    decoded_preds = [\"\\n\".join(nltk.sent_tokenize(pred.strip())) for pred in decoded_preds]\n",
    "    decoded_labels = [\"\\n\".join(nltk.sent_tokenize(label.strip())) for label in decoded_labels]\n",
    "    \n",
    "    result = metric.compute(predictions=decoded_preds, references=decoded_labels, use_stemmer=True)\n",
    "    # Extract a few results\n",
    "    result = {key: value.mid.fmeasure * 100 for key, value in result.items()}\n",
    "    \n",
    "    # Add mean generated length\n",
    "    prediction_lens = [np.count_nonzero(pred != tokenizer.pad_token_id) for pred in predictions]\n",
    "    result[\"gen_len\"] = np.mean(prediction_lens)\n",
    "    \n",
    "    return {k: round(v, 4) for k, v in result.items()}"
   ]
  },
  {
   "cell_type": "code",
   "execution_count": 78,
   "metadata": {},
   "outputs": [
    {
     "name": "stdout",
     "output_type": "stream",
     "text": [
      " The prime minister has donned a life jacket and joined school children in a sailing dinghy as he sought to sell his party's education policies.  Tony Blair sailed across the lake in Bromsgrove, Worcestershire, while on a visit with Education Secretary Ruth Kelly to back school outings. Mr Blair later stressed Labour's election pledge to focus on education, when he met parents in the area. The Conservatives and Lib Dems both say his pledges are \"worthless\". All the parties are stepping up campaigning ahead of a General Election widely expected to be held on 5 May. Mr Blair, looking a little windswept, joined two girls from St Egwin's Middle School in Evesham and an instructor for a trip in the Wayfarer dinghy, closely followed by a boat full of photographers.  Afterwards he said outdoor activities were beneficial for children but accepted that lots of teachers now worried about taking part for fear of being sued if something went wrong. \"What we're doing is introducing some simple guidelines so if teachers follow those they are not going to be at risk of legal action,\" Mr Blair said. \"When you are doing these types of activities you've got to exercise some common sense there obviously. \"You can't have a situation where parents or teachers end up being worried that they're going to be subject to all sorts of legal action if they take children sailing or doing outdoor activity that is actually good for the kids and good for their health and their character.\"  The pledge on education - \"your child achieving more\" - was one of six election pledges unveiled by Mr Blair last week. If it wins a third term in the general election expected this year, Labour is committed to giving parents more choice between schools; allowing all secondary schools to take on specialist status; opening 200 city academies and creating 100,000 more sixth-form places. It aims to improve discipline in schools by adopting a \"zero tolerance\" approach to disruption of classes and introducing fixed penalty notices for truants. Labour also plans to give head teachers at groups of local schools control over funding for units to handle disruptive pupils.  Parents and teachers who met Mr Blair on Tuesday were invited to the informal discussion after writing to their MPs to raise concerns about education. It is the latest in a series of events designed to show the prime minister is speaking directly to voters in the run-up to the election - and that he has not lost touch. For the Conservatives, shadow education secretary Tim Collins said: \"Mr Blair&#191;s government is all talk. He must be judged on what he has done in two terms, not what he mendaciously claims he would do in a third. That judgment will be damning.\" The Liberal Democrats are promising to cut class sizes for the youngest children and ensure all children are taught by a qualified teacher in each subject. \n",
      "\n",
      "test text:  Mr Blair, looking a little windswept, joined two girls from St Egwin's Middle School in Evesham and an instructor for a trip in the Wayfarer dinghy, closely followed by a boat full of photographers.Afterwards he said outdoor activities were beneficial for children but accepted that lots of teachers now worried about taking part for fear of being sued if something went wrong.\"What we're doing is introducing some simple guidelines so if teachers follow those they are not going to be at risk of legal action,\" Mr Blair said.\"You can't have a situation where parents or teachers end up being worried that they're going to be subject to all sorts of legal action if they take children sailing or doing outdoor activity that is actually good for the kids and good for their health and their character.\"If it wins a third term in the general election expected this year, Labour is committed to giving parents more choice between schools; allowing all secondary schools to take on specialist status; opening 200 city academies and creating 100,000 more sixth-form places.\n"
     ]
    }
   ],
   "source": [
    "\n",
    "\n",
    "sample_text = raw_datasets[0] #clean(df.query(\"year==2014 and country=='SGP'\")['text'].values[0])\n",
    "\n",
    "print(sample_text['article'])\n",
    "test_text = tfidf_summary(sample_text, num_summary_sentence)['article']\n",
    "\n",
    "print(\"\\ntest text: \", test_text)"
   ]
  },
  {
   "cell_type": "code",
   "execution_count": 125,
   "metadata": {},
   "outputs": [
    {
     "name": "stdout",
     "output_type": "stream",
     "text": [
      "{'rouge1': Score(precision=0.6652360515021459, recall=0.8288770053475936, fmeasure=0.738095238095238), 'rouge2': Score(precision=0.6077586206896551, recall=0.7580645161290323, fmeasure=0.6746411483253589), 'rougeL': Score(precision=0.3948497854077253, recall=0.4919786096256685, fmeasure=0.4380952380952381)}\n"
     ]
    }
   ],
   "source": [
    "scorer = rouge_scorer.RougeScorer(\n",
    "    ['rouge1', 'rouge2', 'rougeL'], use_stemmer=True)\n",
    "scores = scorer.score(test_text, raw_datasets[0]['summary'])\n",
    "print(scores)\n"
   ]
  },
  {
   "cell_type": "code",
   "execution_count": 141,
   "metadata": {},
   "outputs": [
    {
     "name": "stderr",
     "output_type": "stream",
     "text": [
      "100%|██████████| 223/223 [00:00<00:00, 446.00ex/s]\n"
     ]
    }
   ],
   "source": [
    "updated_dataset = raw_datasets.map(lambda text: tfidf_summary(text))\n",
    "# raw_datasets['article']\n",
    "# updated_dataset['output']\n"
   ]
  },
  {
   "cell_type": "code",
   "execution_count": 144,
   "metadata": {},
   "outputs": [
    {
     "name": "stderr",
     "output_type": "stream",
     "text": [
      "100%|██████████| 223/223 [00:03<00:00, 70.18ex/s]\n"
     ]
    }
   ],
   "source": [
    "# {'rouge1': Score(precision=0.6652360515021459, recall=0.8288770053475936, fmeasure=0.738095238095238), 'rougeL': Score(precision=0.3948497854077253, recall=0.4919786096256685, fmeasure=0.4380952380952381)}\n",
    "\n",
    "def compute_metrics(row):\n",
    "    row['score'] = scorer.score(row['summary'], row['output'])\n",
    "    \n",
    "    # Extract a few results\n",
    "    result = {key: value.fmeasure for key, value in scores.items()}\n",
    "    # print(scores)\n",
    "    # print(result['rougeL'])\n",
    "    row['rouge1'] = result['rouge1']\n",
    "    row['rouge2'] = result['rouge2']\n",
    "    row['rougeL'] = result['rougeL']\n",
    "    return row\n",
    "    \n",
    "    \n",
    "updated_dataset = updated_dataset.map(compute_metrics)\n",
    "# # final_score is returned on process with process_id==0 and will be `None` on the other processes\n",
    "# final_score = metric.compute()\n",
    "# result\n",
    "# updated_dataset\n"
   ]
  },
  {
   "cell_type": "code",
   "execution_count": 145,
   "metadata": {},
   "outputs": [
    {
     "data": {
      "text/plain": [
       "Dataset({\n",
       "    features: ['title', 'article', 'summary', 'output', 'score', 'rouge1', 'rouge2', 'rougeL'],\n",
       "    num_rows: 223\n",
       "})"
      ]
     },
     "execution_count": 145,
     "metadata": {},
     "output_type": "execute_result"
    }
   ],
   "source": [
    "updated_dataset"
   ]
  },
  {
   "cell_type": "code",
   "execution_count": 151,
   "metadata": {},
   "outputs": [
    {
     "data": {
      "text/plain": [
       "0.4380952380952382"
      ]
     },
     "execution_count": 151,
     "metadata": {},
     "output_type": "execute_result"
    }
   ],
   "source": [
    "\n",
    "np.mean(updated_dataset['rougeL'])  # \n"
   ]
  }
 ],
 "metadata": {
  "interpreter": {
   "hash": "5caea8df2d6b3afe4c6a8fa5e4ec8aa952f5ed6f914beaca74edf16901303bb7"
  },
  "kernelspec": {
   "display_name": "Python 3.9.7 64-bit ('text': conda)",
   "name": "python3"
  },
  "language_info": {
   "codemirror_mode": {
    "name": "ipython",
    "version": 3
   },
   "file_extension": ".py",
   "mimetype": "text/x-python",
   "name": "python",
   "nbconvert_exporter": "python",
   "pygments_lexer": "ipython3",
   "version": "3.9.7"
  },
  "orig_nbformat": 4
 },
 "nbformat": 4,
 "nbformat_minor": 2
}
