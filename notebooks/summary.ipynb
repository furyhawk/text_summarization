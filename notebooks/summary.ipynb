{
 "cells": [
  {
   "cell_type": "code",
   "execution_count": 2,
   "metadata": {},
   "outputs": [
    {
     "name": "stdout",
     "output_type": "stream",
     "text": [
      "You are working on a local system.\n",
      "Files will be searched relative to \"..\".\n"
     ]
    }
   ],
   "source": [
    "import sys, os\n",
    "ON_COLAB = 'google.colab' in sys.modules\n",
    "\n",
    "if ON_COLAB:\n",
    "    GIT_ROOT = 'https://github.com/furyhawk/text_summarization/raw/master'\n",
    "    os.system(f'wget {GIT_ROOT}/notebooks/setup.py')\n",
    "\n",
    "%run -i setup.py"
   ]
  },
  {
   "cell_type": "code",
   "execution_count": 3,
   "metadata": {},
   "outputs": [],
   "source": [
    "%run \"$BASE_DIR/settings.py\"\n",
    "\n",
    "%reload_ext autoreload\n",
    "%autoreload 2\n",
    "%config InlineBackend.figure_format = 'png'\n",
    "\n",
    "# to print output of all statements and not just the last\n",
    "from IPython.core.interactiveshell import InteractiveShell\n",
    "InteractiveShell.ast_node_interactivity = \"all\"\n",
    "\n",
    "# otherwise text between $ signs will be interpreted as formula and printed in italic\n",
    "pd.set_option('display.html.use_mathjax', False)\n",
    "\n",
    "# path to import blueprints packages\n",
    "sys.path.append(BASE_DIR + '/packages')"
   ]
  },
  {
   "cell_type": "code",
   "execution_count": 4,
   "metadata": {},
   "outputs": [],
   "source": [
    "# adjust matplotlib resolution\n",
    "matplotlib.rcParams.update({'figure.dpi': 200 })"
   ]
  },
  {
   "cell_type": "code",
   "execution_count": 5,
   "metadata": {},
   "outputs": [],
   "source": [
    "from rouge_score import rouge_scorer\n",
    "from sklearn.feature_extraction.text import TfidfVectorizer\n",
    "from nltk import tokenize\n",
    "import matplotlib.pyplot as plt\n",
    "import html\n",
    "import re\n",
    "import random\n",
    "import rouge_score\n",
    "import wikipediaapi"
   ]
  },
  {
   "cell_type": "code",
   "execution_count": 6,
   "metadata": {},
   "outputs": [],
   "source": [
    "import requests\n",
    "from bs4 import BeautifulSoup\n",
    "import os.path\n",
    "from dateutil import parser\n",
    "import pandas as pd\n",
    "import numpy as np"
   ]
  },
  {
   "cell_type": "code",
   "execution_count": 6,
   "metadata": {},
   "outputs": [
    {
     "data": {
      "text/html": [
       "<div>\n",
       "<style scoped>\n",
       "    .dataframe tbody tr th:only-of-type {\n",
       "        vertical-align: middle;\n",
       "    }\n",
       "\n",
       "    .dataframe tbody tr th {\n",
       "        vertical-align: top;\n",
       "    }\n",
       "\n",
       "    .dataframe thead th {\n",
       "        text-align: right;\n",
       "    }\n",
       "</style>\n",
       "<table border=\"1\" class=\"dataframe tex2jax_ignore\">\n",
       "  <thead>\n",
       "    <tr style=\"text-align: right;\">\n",
       "      <th></th>\n",
       "      <th>session</th>\n",
       "      <th>year</th>\n",
       "      <th>country</th>\n",
       "      <th>text</th>\n",
       "    </tr>\n",
       "  </thead>\n",
       "  <tbody>\n",
       "    <tr>\n",
       "      <th>3871</th>\n",
       "      <td>42</td>\n",
       "      <td>1987</td>\n",
       "      <td>HND</td>\n",
       "      <td>﻿On behalf of the Government of Honduras I extend to you, Sir, sincere congratulations on your election as President of the forty-second session o...</td>\n",
       "    </tr>\n",
       "    <tr>\n",
       "      <th>4697</th>\n",
       "      <td>35</td>\n",
       "      <td>1980</td>\n",
       "      <td>THA</td>\n",
       "      <td>﻿My delegation takes pleasure in extending to Mr. Riidiger von Wechmar its sincere congratulations on his unanimous election to the presidency of ...</td>\n",
       "    </tr>\n",
       "  </tbody>\n",
       "</table>\n",
       "</div>"
      ],
      "text/plain": [
       "      session  year country  \\\n",
       "3871       42  1987     HND   \n",
       "4697       35  1980     THA   \n",
       "\n",
       "                                                                                                                                                       text  \n",
       "3871  ﻿On behalf of the Government of Honduras I extend to you, Sir, sincere congratulations on your election as President of the forty-second session o...  \n",
       "4697  ﻿My delegation takes pleasure in extending to Mr. Riidiger von Wechmar its sincere congratulations on his unanimous election to the presidency of ...  "
      ]
     },
     "execution_count": 6,
     "metadata": {},
     "output_type": "execute_result"
    }
   ],
   "source": [
    "pd.options.display.max_colwidth = 150 ###\n",
    "file = \"un-general-debates-blueprint.csv\"\n",
    "file = f\"{BASE_DIR}/data/un-general-debates/un-general-debates.csv.zip\" ### real location\n",
    "df = pd.read_csv(file)\n",
    "df.sample(2, random_state=53)"
   ]
  },
  {
   "cell_type": "markdown",
   "metadata": {},
   "source": [
    "# Summarizing text using topic representation\n",
    "## Identifying important words with TF-IDF values\n"
   ]
  },
  {
   "cell_type": "code",
   "execution_count": 7,
   "metadata": {},
   "outputs": [
    {
     "name": "stderr",
     "output_type": "stream",
     "text": [
      "[nltk_data] Downloading package punkt to\n",
      "[nltk_data]     C:\\Users\\furyx\\AppData\\Roaming\\nltk_data...\n",
      "[nltk_data]   Package punkt is already up-to-date!\n"
     ]
    },
    {
     "data": {
      "text/plain": [
       "True"
      ]
     },
     "execution_count": 7,
     "metadata": {},
     "output_type": "execute_result"
    },
    {
     "name": "stdout",
     "output_type": "stream",
     "text": [
      "\n",
      "Sample: ﻿\n",
      "May I begin by congratulating you. Sir, on your election to the presidency of the General Assembly at its forty-fourth session. Your wide experience in the United Nations makes you especially qualified to guide the Assembly and its deliberations. You have my best wishes for the demanding task that lies ahead of you. May I also express my thanks to the outgoing President, Mr. Dante Caputo, who so ably fulfilled his role on behalf of the Assembly. It gives me particular pleasure to pay tribute to the Secretary-General. We owe a great deal to his authority and leadership.\n",
      "As we are assembled here for the annual general debate, every Member state needs to reflect on certain fundamental questions. Is the United Nations doing everything possible in order to meet its challenges? Are we making progress? Can we say that the United Nations enters the last decade of this century with determination and justified self-confidence? Is my own country doing everything it can in order to help the world Organization? The answers to these questions must be sought in the actual work of the Organization and of its Member States. For my part, I shall try to emphasize some of the challenges we in Finland regard as particularly imports at the present time. It seems to us that the main challenges can be expressed in two words -insecurity and poverty. Both produce fear  d suffering. Neither can be dealt with by any single remedy.\n",
      "The United Nations was created first and foremost in order to maintain international peace and security. In this respect, the past year represents a mixture of success and disappointment. We are encouraged by the high-level dialogues that have continued between the major Powers. we have witnessed with satisfaction such concrete achievements as the continuing progress in the verified dismantling and destruction of American and Soviet intermediate-range nuclear weapons. As one of the participating States in the process of the Conference on Security and cooperation in Europe, Finland follow, closely and with ,much hope the new efforts to achieve substantive conventional disarmament in Europe.\n",
      "At the same time we are concerned about the violence that has erupted and continues in many parts of the world. Most of the underlying problem are already on the agenda of the General Assembly, and we shall express our views on them in due course. Now I want to speak about the global challenges. As regards the process of disarmament on the global level our hopes in Finland are fastened particularly on the preparation of a chemical weapons convention. The political will is there, as was demonstrated again at the conferences held in Paris and in Canberra this year. During this year, as before, Finnish experts have continued their research in order to help to develop appropriate methods that could meet the complex verification requirements  global and comprehensive chemical weapons convention. We expect progress from the protracted negotiations with growing impatience. We welcome the impetus recently given them in the bilateral talks between the United States and the Soviet Union.\n",
      "Security on the global level must take into account other factors in addition to armaments and military threats. Security requires confidence in the future. Such confidence must be felt both by Governments and by their peoples. Only a representative Government that respects human rights and that therefore enjoys the confidence of its own people can face the future with a sense of security and successfully maintain stable relations with other Governments. Some dramatic - in fact, tragic - events have recently illustrated the importance of respect for human rights. We hope that lessons have been learned.\n",
      "Confidence in the future also requires that the other global challenge, that of poverty, be overcome. The sufferings of poverty may not be in evidence everywhere, but the challenge requires global co-operation for development. The Assembly will meet next year in a special session devoted to international economic co-operation. Soon thereafter a new international development strategy for the 1990s should be adopted. A successful special session and a new and realistic strategy should help to bring about a new spirit of international economic co-operation.\n",
      "In the process of preparing both the development strategy and the special session emphasis should be on the development of human resources in all forms, including the recognition of a well-functioning private sector in balance with an effective public sector. In that context funding generated by national and international sources should be well co-ordinated. The necessary investments in developing countries require increasing domestic and external financing.\n",
      "The debt overhang has resulted in the transfer of resources from developing countries, which exceeded $US 50 billion last year, a trend that should be reversed. This requires that a political solution, including a functioning debt strategy, be found. The debt overhang cannot be overcome by the international community at the upcoming special session of the General Assembly and in the new international development strategy. It would be important for the efforts to reverse the transfer of resources from the developing countries if the target of 0.7 per cent of gross national product as development-and transfer were generally reached. For its part, Finland will this year reach that target set by the General Assembly.\n",
      "The structure of the United Nations in the economic and social fields should respond to the tasks to be specified in the strategy for the 1990s, thus -consolidating the role of the world Organization. The Finnish Government finds that the Secretary-General has a major catalytic role to play in putting forward concrete proposals to improve the Organization's effectiveness in those fields. That would also help Governments in agreeing on the areas where they are to concentrate the activities of the United Nations in the economic and social fields. Today I wish to emphasize two issues that must, in my opinion, have a Prominent place in this respect. Development cannot be sustainable if the world population continues to grow at its present rate. Development cannot be sustainable if the natural resources of the Earth continue to be depleted at the present rate. There is a growing awareness of such problems in all parts of the world. That awareness is more and more strongly reflected in the work of the United Nations, it has prompted a number of positive measures. More is needed.\n",
      "According to recent United Nations estimates the world population could stabilize in the twenty-first century at the level of 10 to 11 billion persons. An early stabilisation of population growth would, of course, facilitate the fight against poverty. To reach that goal, determined population policies, translated into national population plans as spelled out in the World Population Plan of Action, should be pursued vigorously.\n",
      "With regard to the protection of the environment, no problem has lately become\n",
      "so apparent and widely recognized as the problem of climate change. Both industrialized and developing countries are directly affected by the depletion of the ozone layer through increasing emissions of carbon dioxides, which produce the so-called greenhouse effect in the climate of the Earth, and by the increasing presence of substances in the atmosphere that cause acid rain and direct dangers to health.\n",
      "It is therefore hardly a surprise that we have witnessed increasing international activity in this field. Several initiatives have been taken to launch concerted international action to combat atmospheric pollution in all its aspects, including climatic change. It is our view that effective strategies and policies should be developed by the international community as soon as possible in all fields relating to environment. That is a major undertaking that requires consolidated effort by the General Assembly and by the relevant United Nations specialized and other agencies. Environmental problems have a universal character. Any new activities should be streamlined with already ongoing action and well-established treaty-making procedures. The General Assembly must play a pivotal role in that effort.\n",
      "Five months ago Finland hosted a Conference of the Parties to the Vienna Convention for the Protection of the Ozone Layer aid the Montreal Protocol on Substances that Deplete the Ozone Layer. Those instruments, of 1985 and 1987 respectively, have this year already been found inadequate in light of the latest advances in knowledge. At the Conference the representatives of the more than 80 States present agreed unanimously to the Helsinki Declaration on the Protection of  the Ozone Layer, which contains an ambitious undertaking to phase out completely the use of ozone-depleting chlorofluorocarbons by the year 2000, or sooner if possible, and to phase out other ozone-depleting substances as soon as possible. We expect that undertaking to be converted into a legally binding decision at next year's meeting of the Parties to the Montreal Protocol. Appropriate measures should also be undertaken to make environmentally sound substitutes widely available to developing countries as soon as possible.\n",
      "In the field of environment protection the problems that are typical in the industrialized countries are often also found in the big urban centres of the developing countries. The problems that are now typical in many developing countries - such as soil erosion and the destruction of forests - illustrate mistakes already committed by earlier generations, most of all in Europe. We can therefore all learn from each other. There is information available about the environment and its protection, and about earlier mistakes. The available knowledge needs to be applied and converted into practical programmes, not only on the level of global strategies, but also on the level of regional, national and local development.\n",
      "In our own development co-operation programmes, we in Finland have emphasized such activities as deforestation, where we feel that we have some experience and expertise. We see deforestation as urgent in order to help stop soil erosion, counteract the greenhouse effect and counterbalance the continued cutting of trees for fuel and for other immediate human needs. In this respect, the development of new and renewable soirees of energy is of crucial importance.\n",
      "On a broader scale, we look forward to the 1992 United Nations Conference on Environment and Development. We see it as representing probably the most important joint effort required of mankind during the remaining part of this century. This session of the General Assembly is called upon to take important decisions for the preparation of the Conference. In that connection, as in all our activities to face up to environmental problems, we in Finland will strongly emphasize the need to support the developing countries in order to ensure that their development is environmentally sustainable.\n",
      "A large part of the burden, particularly for financing research and the introduction of new environmentally sound technologies, will have to be borne by the industrialized countries. We accept our part of this burden, knowing of course that all states will have to share in the efforts according to their capabilities. Since concern for the environment is global, this concern should in our opinion give a further incentive to all States without exception to involve themselves\n",
      "actively in international co-operation for environmentally sound and sustainable development. We also think that the time is ripe for the preparation of structural reforms making the United Nations Organization more responsive to the problems of protecting the environment. My Government has an open mind regarding the various ideas that have been discussed. We would find it natural for this Assembly to take decisions ensuring environmental Questions a permanent and prominent place in the structure of the Organization.\n",
      "One of the activities of the United Nations which has rightly gained prominence during this year is peace-keeping. At the present time, Finland is the biggest contributor of personnel to the United Nations peace-keeping forces. Their total strength is close to 15,000, and the number of Finnish personnel is now almost 2,000. It is therefore with particular satisfaction that we in Finland share the pride felt in this house over the latest Nobel Peace Prize, which was awarded to the United Nations peace-keeping forces. In co-operation with the other Nordic countries, Finland has this year taken steps to share with other interested States its experiences concerning the training and preparation of national contingents for peace-keeping tasks.\n",
      "We are also satisfied at the reactivation of the United Nations Special Committee on Peace-keeping Operations. The accumulated experiences in this field have already grown to such an extent that it is high time indeed to make a thorough review of all practical proposals that may help to strengthen the role of the United Nations in peace-keeping.\n",
      "In this connection, I wish to emphasize the importance of finding a lasting solution to the financial difficulties that still affect current peace-keeping operations, thus indirectly undermining the financial basis of the whole Organization. The idea of having sufficient financial reserves for peacemaking and peace-keeping, particularly for the start-up phase of operations, which my   predecessor put forward in his address to the General Assembly last year, has received support in a number of Quarters. I note in particular that the Secretary-General, in his own report to the General Assembly, has referred to the possibility of establishing a special reserve fund for peace-keeping, to be supported by all Member States. We hope that this idea can soon be followed up in practice with full respect for the principle of collective responsibility. The first condition, in our view, is that Member states should accept the principle of financing all operations without exception through assessed contributions and that they should pay all their assessed contributions in full and on time.\n",
      "The principal factor explaining the recent growth in the participation of Finnish personnel in United Nations peace-keeping is the deployment of an enlarged battalion within the United Nations Transition Assistance Group (UNTAG) in Namibia. A sizable number of volunteer soldiers has thus been added to the two Finnish battalions and smaller units already serving in the Middle East and elsewhere.\n",
      "Namibia is a major test for the United Nations. The beginnings of the UOTAG operations to implement Security Council resolution 435 on the independence of Namibia were unexpectedly rough and difficult. It is still too early to draw conclusions from the whole process of transition to independence, but we believe that the programme has been brought back on track thanks to the persistent efforts of the Secretary-General and the competent performance of the UNTAG personnel. Of course, many problems still remain to be solved and call for our unrelenting attention. We are looking forward with confidence to the moment when we can welcome independent Namibia into our midst as a Member State of the United Nations. For Finland, Namibia will be a major partner in our development co-operation.  The situation in the Middle East continues to pose a persistent threat to international security. The dangers of the absence of peace in the area are demonstrated almost daily. Repressive measures continue in the territories illegally occupied by Israel. The cycle of violence has not been broken. The\n",
      "eking turmoil in Lebanon gives cause for deep concern. There must be a way to or the suffering of the Lebanese people by the common endeavours of the Lebanese themselves, the Arab League and the international community.\n",
      "It is pressingly urgent that the way should be prepared towards an international peace conference and, further, to a comprehensive settlement in the Middle East. There is an almost universal recognition of the basic principles for a settlement. The right of all States in the region to live within secure and recognized boundaries, as well as the right of the Palestinians to national determination, should be recognised. Democratic elections in the occupied territories could facilitate this process. If such elections are properly mentored and take place within the framework of a structured effort, they could provide a link in a process leading to a comprehensive settlement. The momentum for achieving a solution to this long-standing conflict will be lost unless all possible avenues are pursued vigorously and with an open mind. In this respect, the proposals made by President Mubarak of Egypt are welcome and merit serious consideration.\n",
      "The United Nations has manifestly demonstrated its relevance and strengthened its role as a forum for co-ordinated international action. Yet the world Organization and its member States can do more. Serious global problems call for urgent global solutions. Only a re-invigorated United Nations can answer the challenges the world will inevitably face in the 1990s and beyond. Let us unite our forces to make the United Nations capable of meeting those challenges. \n",
      "\n"
     ]
    }
   ],
   "source": [
    "from sklearn.feature_extraction.text import TfidfVectorizer\n",
    "from nltk import tokenize\n",
    "nltk.download('punkt')\n",
    "\n",
    "\n",
    "sample_text = df['text'].iloc[1]\n",
    "print(\"\\nSample:\", sample_text)\n",
    "sentences = tokenize.sent_tokenize(sample_text)\n",
    "tfidfVectorizer = TfidfVectorizer()\n",
    "words_tfidf = tfidfVectorizer.fit_transform(sentences)"
   ]
  },
  {
   "cell_type": "code",
   "execution_count": 8,
   "metadata": {},
   "outputs": [
    {
     "name": "stdout",
     "output_type": "stream",
     "text": [
      "Both industrialized and developing countries are directly affected by the depletion of the ozone layer through increasing emissions of carbon dioxides, which produce the so-called greenhouse effect in the climate of the Earth, and by the increasing presence of substances in the atmosphere that cause acid rain and direct dangers to health.\n",
      "At the Conference the representatives of the more than 80 States present agreed unanimously to the Helsinki Declaration on the Protection of  the Ozone Layer, which contains an ambitious undertaking to phase out completely the use of ozone-depleting chlorofluorocarbons by the year 2000, or sooner if possible, and to phase out other ozone-depleting substances as soon as possible.\n",
      "It is still too early to draw conclusions from the whole process of transition to independence, but we believe that the programme has been brought back on track thanks to the persistent efforts of the Secretary-General and the competent performance of the UNTAG personnel.\n"
     ]
    }
   ],
   "source": [
    "# Parameter to specify number of summary sentences required\n",
    "num_summary_sentence = 3\n",
    "\n",
    "# Sort the sentences in descending order by the sum of TF-IDF values\n",
    "sent_sum = words_tfidf.sum(axis=1)\n",
    "important_sent = np.argsort(sent_sum, axis=0)[::-1]\n",
    "\n",
    "# Print three most important sentences in the order they appear in the article\n",
    "for i in range(0, len(sentences)):\n",
    "    if i in important_sent[:num_summary_sentence]:\n",
    "        print (sentences[i])"
   ]
  },
  {
   "cell_type": "code",
   "execution_count": 9,
   "metadata": {},
   "outputs": [],
   "source": [
    "from sklearn.feature_extraction.text import TfidfVectorizer\n",
    "from nltk import tokenize\n",
    "\n",
    "def tfidf_summary(text, num_summary_sentence):\n",
    "    summary_sentence = []\n",
    "    sentences = tokenize.sent_tokenize(text)\n",
    "    tfidfVectorizer = TfidfVectorizer()\n",
    "    words_tfidf = tfidfVectorizer.fit_transform(sentences)\n",
    "    sentence_sum = words_tfidf.sum(axis=1)\n",
    "    important_sentences = np.argsort(sentence_sum, axis=0)[::-1]\n",
    "    for i in range(0, len(sentences)):\n",
    "        if i in important_sentences[:num_summary_sentence]:\n",
    "            summary_sentence.append(sentences[i])\n",
    "    return summary_sentence"
   ]
  },
  {
   "cell_type": "code",
   "execution_count": 10,
   "metadata": {},
   "outputs": [
    {
     "data": {
      "text/html": [
       "<div>\n",
       "<style scoped>\n",
       "    .dataframe tbody tr th:only-of-type {\n",
       "        vertical-align: middle;\n",
       "    }\n",
       "\n",
       "    .dataframe tbody tr th {\n",
       "        vertical-align: top;\n",
       "    }\n",
       "\n",
       "    .dataframe thead th {\n",
       "        text-align: right;\n",
       "    }\n",
       "</style>\n",
       "<table border=\"1\" class=\"dataframe tex2jax_ignore\">\n",
       "  <thead>\n",
       "    <tr style=\"text-align: right;\">\n",
       "      <th></th>\n",
       "      <th>session</th>\n",
       "      <th>year</th>\n",
       "      <th>country</th>\n",
       "      <th>text</th>\n",
       "    </tr>\n",
       "  </thead>\n",
       "  <tbody>\n",
       "    <tr>\n",
       "      <th>64</th>\n",
       "      <td>44</td>\n",
       "      <td>1989</td>\n",
       "      <td>SGP</td>\n",
       "      <td>﻿First of all, let me congratulate you on your election to the presidency of the General Assembly at its forty-fourth session. Your unique and ill...</td>\n",
       "    </tr>\n",
       "    <tr>\n",
       "      <th>160</th>\n",
       "      <td>25</td>\n",
       "      <td>1970</td>\n",
       "      <td>SGP</td>\n",
       "      <td>Mr. President, instead of offering you my congratulations as preceding speakers have done, I wish to thank you on behalf of my delegation. We tha...</td>\n",
       "    </tr>\n",
       "    <tr>\n",
       "      <th>240</th>\n",
       "      <td>68</td>\n",
       "      <td>2013</td>\n",
       "      <td>SGP</td>\n",
       "      <td>I warmly \\ncongratulate Mr. John Ashe on his election as President \\nat the sixty-eighth session of the General Assembly and \\nwish him success du...</td>\n",
       "    </tr>\n",
       "    <tr>\n",
       "      <th>449</th>\n",
       "      <td>40</td>\n",
       "      <td>1985</td>\n",
       "      <td>SGP</td>\n",
       "      <td>Allow me to congratulate the President on his assumption of this high office. There are few men in this hall who have been associated with the Uni...</td>\n",
       "    </tr>\n",
       "    <tr>\n",
       "      <th>661</th>\n",
       "      <td>63</td>\n",
       "      <td>2008</td>\n",
       "      <td>SGP</td>\n",
       "      <td>The collapse of the recent \\nDoha talks is deeply troubling. The Doha Development \\nRound was the first round of talks to be launched after \\nthe ...</td>\n",
       "    </tr>\n",
       "  </tbody>\n",
       "</table>\n",
       "</div>"
      ],
      "text/plain": [
       "     session  year country  \\\n",
       "64        44  1989     SGP   \n",
       "160       25  1970     SGP   \n",
       "240       68  2013     SGP   \n",
       "449       40  1985     SGP   \n",
       "661       63  2008     SGP   \n",
       "\n",
       "                                                                                                                                                      text  \n",
       "64   ﻿First of all, let me congratulate you on your election to the presidency of the General Assembly at its forty-fourth session. Your unique and ill...  \n",
       "160   Mr. President, instead of offering you my congratulations as preceding speakers have done, I wish to thank you on behalf of my delegation. We tha...  \n",
       "240  I warmly \\ncongratulate Mr. John Ashe on his election as President \\nat the sixty-eighth session of the General Assembly and \\nwish him success du...  \n",
       "449  Allow me to congratulate the President on his assumption of this high office. There are few men in this hall who have been associated with the Uni...  \n",
       "661  The collapse of the recent \\nDoha talks is deeply troubling. The Doha Development \\nRound was the first round of talks to be launched after \\nthe ...  "
      ]
     },
     "execution_count": 10,
     "metadata": {},
     "output_type": "execute_result"
    },
    {
     "name": "stdout",
     "output_type": "stream",
     "text": [
      "\n",
      "test text:  ['Security Council resolution 2178 (2014), on foreign terrorist fighters, which Singapore co-sponsored, is an important step to combat global terrorism and will be critical to cutting off financial and material support for ISIS and preventing the movement of foreign terrorist fighters.', 'Regarding the principles for sustainable development, Singapore is participating actively in the discussions for the post-2015 period, focusing on those areas where we can contribute — key principles that were critical to our development path and might be relevant to other developing countries.', 'As noted on page 17 of the report of the High-level Panel of Eminent Persons on the Post-2015 Development Agenda, cities are where the battle for sustainable development will be won or lost.', 'This year, we will observe that Day together with relevant United Nations agencies and civil society organizations by focusing on the serious problems faced by women and girls who lack basic sanitation access.', 'Let us all work together to ensure that by the seventieth anniversary of the inception of the United Nations, in 2015, we can unite around a clear vision of how to provide our future generations the future we want.']\n"
     ]
    }
   ],
   "source": [
    "from preparation import clean\n",
    "\n",
    "# Parameter to specify number of summary sentences required\n",
    "num_summary_sentence = 5\n",
    "\n",
    "where = df['country'].isin(['SGP'])\n",
    "sgp_df = data=df[where]\n",
    "sgp_df.head()\n",
    "\n",
    "sample_text = clean(df.query(\"year==2014 and country=='SGP'\")['text'].values[0])\n",
    "test_text = tfidf_summary(sample_text, num_summary_sentence)\n",
    "\n",
    "print(\"\\ntest text: \", test_text)"
   ]
  },
  {
   "cell_type": "code",
   "execution_count": 11,
   "metadata": {},
   "outputs": [
    {
     "ename": "NameError",
     "evalue": "name 'article1' is not defined",
     "output_type": "error",
     "traceback": [
      "\u001b[1;31m---------------------------------------------------------------------------\u001b[0m",
      "\u001b[1;31mNameError\u001b[0m                                 Traceback (most recent call last)",
      "\u001b[1;32mW:\\workspace\\text_summarization\\notebooks\\setup.py\u001b[0m in \u001b[0;36m<module>\u001b[1;34m\u001b[0m\n\u001b[0;32m      9\u001b[0m \u001b[0mstemmer\u001b[0m \u001b[1;33m=\u001b[0m \u001b[0mStemmer\u001b[0m\u001b[1;33m(\u001b[0m\u001b[0mLANGUAGE\u001b[0m\u001b[1;33m)\u001b[0m\u001b[1;33m\u001b[0m\u001b[1;33m\u001b[0m\u001b[0m\n\u001b[0;32m     10\u001b[0m \u001b[1;33m\u001b[0m\u001b[0m\n\u001b[1;32m---> 11\u001b[1;33m \u001b[0mparser\u001b[0m \u001b[1;33m=\u001b[0m \u001b[0mPlaintextParser\u001b[0m\u001b[1;33m.\u001b[0m\u001b[0mfrom_string\u001b[0m\u001b[1;33m(\u001b[0m\u001b[0marticle1\u001b[0m\u001b[1;33m[\u001b[0m\u001b[1;34m'text'\u001b[0m\u001b[1;33m]\u001b[0m\u001b[1;33m,\u001b[0m \u001b[0mTokenizer\u001b[0m\u001b[1;33m(\u001b[0m\u001b[0mLANGUAGE\u001b[0m\u001b[1;33m)\u001b[0m\u001b[1;33m)\u001b[0m\u001b[1;33m\u001b[0m\u001b[1;33m\u001b[0m\u001b[0m\n\u001b[0m\u001b[0;32m     12\u001b[0m \u001b[0msummarizer\u001b[0m \u001b[1;33m=\u001b[0m \u001b[0mLsaSummarizer\u001b[0m\u001b[1;33m(\u001b[0m\u001b[0mstemmer\u001b[0m\u001b[1;33m)\u001b[0m\u001b[1;33m\u001b[0m\u001b[1;33m\u001b[0m\u001b[0m\n\u001b[0;32m     13\u001b[0m \u001b[0msummarizer\u001b[0m\u001b[1;33m.\u001b[0m\u001b[0mstop_words\u001b[0m \u001b[1;33m=\u001b[0m \u001b[0mget_stop_words\u001b[0m\u001b[1;33m(\u001b[0m\u001b[0mLANGUAGE\u001b[0m\u001b[1;33m)\u001b[0m\u001b[1;33m\u001b[0m\u001b[1;33m\u001b[0m\u001b[0m\n",
      "\u001b[1;31mNameError\u001b[0m: name 'article1' is not defined"
     ]
    }
   ],
   "source": []
  },
  {
   "cell_type": "code",
   "execution_count": 12,
   "metadata": {},
   "outputs": [],
   "source": [
    "\n",
    "from sumy.parsers.plaintext import PlaintextParser\n",
    "from sumy.nlp.tokenizers import Tokenizer\n",
    "from sumy.nlp.stemmers import Stemmer\n",
    "from sumy.utils import get_stop_words\n",
    "from sumy.summarizers.lsa import LsaSummarizer\n",
    "\n",
    "def lsa_summary(text, num_summary_sentence):\n",
    "    summary_sentence = []\n",
    "    LANGUAGE = \"english\"\n",
    "    stemmer = Stemmer(LANGUAGE)\n",
    "    parser = PlaintextParser.from_string(text, Tokenizer(LANGUAGE))\n",
    "    summarizer = LsaSummarizer(stemmer)\n",
    "    summarizer.stop_words = get_stop_words(LANGUAGE)\n",
    "    for sentence in summarizer(parser.document, num_summary_sentence):\n",
    "        summary_sentence.append(str(sentence))\n",
    "    return summary_sentence"
   ]
  },
  {
   "cell_type": "code",
   "execution_count": 13,
   "metadata": {},
   "outputs": [],
   "source": [
    "def download_article(url):\n",
    "    # check if article already there\n",
    "    filename = url.split(\"/\")[-1] + \".html\"\n",
    "    filename = f\"{BASE_DIR}/notebooks/\" + filename\n",
    "    if not os.path.isfile(filename):\n",
    "        r = requests.get(url)\n",
    "        with open(filename, \"w+\") as f:\n",
    "            f.write(r.text)\n",
    "    return filename\n"
   ]
  },
  {
   "cell_type": "code",
   "execution_count": 14,
   "metadata": {},
   "outputs": [],
   "source": [
    "def parse_article(article_file):\n",
    "    with open(article_file, \"r\") as f:\n",
    "        html = f.read()\n",
    "    r = {}\n",
    "    soup = BeautifulSoup(html, 'html.parser')\n",
    "    r['id'] = soup.select_one(\"div.StandardArticle_inner-container\")['id']\n",
    "    r['url'] = soup.find(\"link\", {'rel': 'canonical'})['href']\n",
    "    r['headline'] = soup.h1.text\n",
    "    r['section'] = soup.select_one(\"div.ArticleHeader_channel a\").text\n",
    "    \n",
    "    r['text'] = soup.select_one(\"div.StandardArticleBody_body\").text\n",
    "    r['authors'] = [a.text \n",
    "                    for a in soup.select(\"div.BylineBar_first-container.ArticleHeader_byline-bar\\\n",
    "                                          div.BylineBar_byline span\")]\n",
    "    r['time'] = soup.find(\"meta\", { 'property': \"og:article:published_time\"})['content']\n",
    "    return r"
   ]
  },
  {
   "cell_type": "code",
   "execution_count": 15,
   "metadata": {},
   "outputs": [
    {
     "name": "stdout",
     "output_type": "stream",
     "text": [
      "Article Published on '2018-03-15T11:36:28+0000'\n",
      "'LONDON/SAN FRANCISCO (Reuters) - U.S. President Donald Trump has blocked microchip maker Broadcom Ltd’s (AVGO.O) $117 billion takeover of rival Qualcomm (QCOM.O) amid concerns that it would give China the upper hand in the next generation of mobile communications, or 5G. A 5G sign is seen at the Mobile World Congress in Barcelona, Spain February 28, 2018. REUTERS/Yves HermanBelow are some facts... 4G wireless and looks set to top the list of patent holders heading into the 5G cycle. Huawei, Nokia, Ericsson and others are also vying to amass 5G patents, which has helped spur complex cross-licensing agreements like the deal struck late last year Nokia and Huawei around handsets. Editing by Kim Miyoung in Singapore and Jason Neely in LondonOur Standards:The Thomson Reuters Trust Principles.'\n"
     ]
    }
   ],
   "source": [
    "import reprlib\n",
    "r = reprlib.Repr()\n",
    "r.maxstring = 800\n",
    "\n",
    "url1 = \"https://www.reuters.com/article/us-qualcomm-m-a-broadcom-5g/what-is-5g-and-who-are-the-major-players-idUSKCN1GR1IN\"\n",
    "article_name1 = download_article(url1)\n",
    "article1 = parse_article(article_name1)\n",
    "print ('Article Published on', r.repr(article1['time']))\n",
    "print (r.repr(article1['text']))"
   ]
  },
  {
   "cell_type": "code",
   "execution_count": 16,
   "metadata": {},
   "outputs": [
    {
     "name": "stdout",
     "output_type": "stream",
     "text": [
      "LONDON/SAN FRANCISCO (Reuters) - U.S. President Donald Trump has blocked microchip maker Broadcom Ltd’s (AVGO.O) $117 billion takeover of rival Qualcomm (QCOM.O) amid concerns that it would give China the upper hand in the next generation of mobile communications, or 5G. A 5G sign is seen at the Mobile World Congress in Barcelona, Spain February 28, 2018. REUTERS/Yves HermanBelow are some facts about 5G and major players. WHAT IS 5G? 5G networks, now in the final testing stage, will rely on denser arrays of small antennas and the cloud to offer data speeds up to 50 or 100 times faster than current 4G networks and serve as critical infrastructure for a range of industries. Deals to start building mass-market 5G networks are still largely a year away, but by 2025, 1.2 billion people are set to have access to 5G networks - a third of them in China, according to the global wireless trade group GSMA. Moving to new networks promises to enable new mobile services and even whole new business models, but could pose challenges for countries and industries unprepared to invest in the transition. Unlike the upgrades of cellular standards 2G in the early 1990s, 3G around the millennium and 4G in 2010, 5G standards will deliver not just faster phone and computer data but also help connect up cars, machines, cargo and crop equipment. WHY IS THE U.S. WORRIED? The Committee on Foreign Investment in the United States (CFIUS), which vets acquisitions of U.S. corporations by foreign companies, said the Broadcom takeover risked weakening Qualcomm, which would boost China over the United States in the 5G race. Acquiring Qualcomm would represent the jewel in the crown of Broadcom’s portfolio of communications chips, which supply wi-fi, power management, video and other features in smartphones alongside Qualcomm’s core baseband chips - radio modems that wirelessly connect phones to networks. The concern is that a takeover by Singapore-based Broadcom could see the firm cut research and development spending by Qualcomm or hive off strategically important parts of the company to other buyers, including in China, U.S. officials and analysts have said. 5G promises to open up the clubby world of telecom equipment by creating openings for a far wider range of players in hardware, software and semiconductors, many of them from Asia, increasing the dependence of Silicon Valley on foreign players. MAJOR PLAYERS Before the new technology becomes a reality for consumers, two transitions need to take place. Mobile operators have to upgrade their networks with 5G gear made by the likes of Huawei [HWT.UL] and ZTE 0000630.SZ of China, Sweden’s Ericsson (ERICb.ST) and Finland’s Nokia (NOKIA.HE). And phone makers need to make handsets with built-in 5G radios ready to hook up to networks.  Qualcomm (QCOM.O) is the dominant player in smartphone communications chips, making half of all core baseband radio chips in smartphones. It is one of the last big U.S. technology companies with a major role in mobile communications hardware.  Most other baseband chips come from Asia: MediaTek (2454.TW) of Taiwan holds about one quarter of the market, while Samsung Electronics (005930.KS) and Huawei [HWT.UL] - two big smartphone makers - develop chips for their own devices. Huawei does through a subsidiary known as HiSilicon.   Its dominant position in 5G comes from its mastery of two areas: getting its patents adopted in what are known as standards and then selling the chip designs that work with those standards. Slideshow (2 Images)The standards are set by a global body to ensure all phones work across different mobile networks, and whoever’s essential patents end up making it into the standard stands to reap huge royalty licensing revenue streams. Qualcomm has landed a number of these foundational patents, which means that both handset makers and telecommunications gear makers will have to pay it licensing fees.  It dominated standards setting in 3G and 4G wireless and looks set to top the list of patent holders heading into the 5G cycle. Huawei, Nokia, Ericsson and others are also vying to amass 5G patents, which has helped spur complex cross-licensing agreements like the deal struck late last year Nokia and Huawei around handsets. Editing by Kim Miyoung in Singapore and Jason Neely in LondonOur Standards:The Thomson Reuters Trust Principles.\n"
     ]
    }
   ],
   "source": [
    "print(article1['text'])"
   ]
  },
  {
   "cell_type": "code",
   "execution_count": 17,
   "metadata": {},
   "outputs": [
    {
     "name": "stdout",
     "output_type": "stream",
     "text": [
      "LONDON/SAN FRANCISCO (Reuters) - U.S. President Donald Trump has blocked microchip maker Broadcom Ltd’s (AVGO.O) $117 billion takeover of rival Qualcomm (QCOM.O) amid concerns that it would give China the upper hand in the next generation of mobile communications, or 5G.\n",
      "Moving to new networks promises to enable new mobile services and even whole new business models, but could pose challenges for countries and industries unprepared to invest in the transition.\n",
      "The concern is that a takeover by Singapore-based Broadcom could see the firm cut research and development spending by Qualcomm or hive off strategically important parts of the company to other buyers, including in China, U.S. officials and analysts have said.\n",
      "Mobile operators have to upgrade their networks with 5G gear made by the likes of Huawei [HWT.UL] and ZTE 0000630.SZ of China, Sweden’s Ericsson (ERICb.ST) and Finland’s Nokia (NOKIA.HE).\n",
      "Editing by Kim Miyoung in Singapore and Jason Neely in LondonOur Standards:The Thomson Reuters Trust Principles.\n"
     ]
    }
   ],
   "source": [
    "from sumy.parsers.plaintext import PlaintextParser\n",
    "from sumy.nlp.tokenizers import Tokenizer\n",
    "from sumy.nlp.stemmers import Stemmer\n",
    "from sumy.utils import get_stop_words\n",
    "\n",
    "from sumy.summarizers.lsa import LsaSummarizer\n",
    "\n",
    "LANGUAGE = \"english\"\n",
    "stemmer = Stemmer(LANGUAGE)\n",
    "\n",
    "parser = PlaintextParser.from_string(article1['text'], Tokenizer(LANGUAGE))\n",
    "summarizer = LsaSummarizer(stemmer)\n",
    "summarizer.stop_words = get_stop_words(LANGUAGE)\n",
    "\n",
    "for sentence in summarizer(parser.document, num_summary_sentence):\n",
    "    print (str(sentence))"
   ]
  },
  {
   "cell_type": "code",
   "execution_count": 18,
   "metadata": {},
   "outputs": [
    {
     "name": "stdout",
     "output_type": "stream",
     "text": [
      "Article Published '2018-03-15T11:36:28+0000'\n",
      "'NEW YORK A protracted trade war between China and the United States, the world’s largest economies, and a deteriorating global growth outlook has left investors apprehensive about the end to the longest expansion in American history. FILE PHOTO: Ships and shipping containers are pictured at the port of Long Beach in Long Beach, California, U.S., January 30, 2019.   REUTERS/Mike BlakeThe recent ...hton wrote in the June Cass Freight Index report.  12. MISERY INDEX The so-called Misery Index adds together the unemployment rate and the inflation rate. It typically rises during recessions and sometimes prior to downturns. It has slipped lower in 2019 and does not look very miserable.  Reporting by Saqib Iqbal Ahmed; Editing by Chizu NomiyamaOur Standards:The Thomson Reuters Trust Principles.'\n"
     ]
    }
   ],
   "source": [
    "\n",
    "r.maxstring = 800\n",
    "url2 = \"https://www.reuters.com/article/us-usa-economy-watchlist-graphic/predicting-the-next-u-s-recession-idUSKCN1V31JE\"\n",
    "article_name2 = download_article(url2)\n",
    "article2 = parse_article(article_name2)\n",
    "print ('Article Published', r.repr(article1['time']))\n",
    "print (r.repr(article2['text']))\n"
   ]
  },
  {
   "cell_type": "code",
   "execution_count": 19,
   "metadata": {},
   "outputs": [
    {
     "name": "stdout",
     "output_type": "stream",
     "text": [
      "Security Council resolution 2178 (2014), on foreign terrorist fighters, which Singapore co-sponsored, is an important step to combat global terrorism and will be critical to cutting off financial and material support for ISIS and preventing the movement of foreign terrorist fighters.\n",
      "Regarding the principles for sustainable development, Singapore is participating actively in the discussions for the post-2015 period, focusing on those areas where we can contribute — key principles that were critical to our development path and might be relevant to other developing countries.\n",
      "As noted on page 17 of the report of the High-level Panel of Eminent Persons on the Post-2015 Development Agenda, cities are where the battle for sustainable development will be won or lost.\n",
      "This year, we will observe that Day together with relevant United Nations agencies and civil society organizations by focusing on the serious problems faced by women and girls who lack basic sanitation access.\n",
      "Let us all work together to ensure that by the seventieth anniversary of the inception of the United Nations, in 2015, we can unite around a clear vision of how to provide our future generations the future we want.\n"
     ]
    }
   ],
   "source": [
    "\n",
    "summary_sentence = tfidf_summary(sample_text, num_summary_sentence)\n",
    "for sentence in summary_sentence:\n",
    "    print (sentence)"
   ]
  },
  {
   "cell_type": "code",
   "execution_count": 20,
   "metadata": {},
   "outputs": [
    {
     "name": "stdout",
     "output_type": "stream",
     "text": [
      "The President’s choice of the theme “Delivering on and implementing a transformative post-2015 development agenda” for this year’s session and his emphasis on a comprehensive, action-oriented post-2015 development agenda are particularly timely.\n",
      "Regarding the principles for sustainable development, Singapore is participating actively in the discussions for the post-2015 period, focusing on those areas where we can contribute — key principles that were critical to our development path and might be relevant to other developing countries.\n",
      "As noted on page 17 of the report of the High-level Panel of Eminent Persons on the Post-2015 Development Agenda, cities are where the battle for sustainable development will be won or lost.\n",
      "The outcome document of the United Nations Conference on Sustainable Development (resolution 66/288, annex) itself recognizes that well-planned cities promote economically, socially and environmentally sustainable societies.\n",
      "In 1992, we set up the Singapore Cooperation Programme to share our development experience, the successes and the failures alike, with other developing countries.\n"
     ]
    }
   ],
   "source": [
    "from sumy.summarizers.text_rank import TextRankSummarizer\n",
    "\n",
    "parser = PlaintextParser.from_string(sample_text, Tokenizer(LANGUAGE))\n",
    "summarizer = TextRankSummarizer(stemmer)\n",
    "summarizer.stop_words = get_stop_words(LANGUAGE)\n",
    "\n",
    "for sentence in summarizer(parser.document, num_summary_sentence):\n",
    "    print (str(sentence))"
   ]
  },
  {
   "cell_type": "code",
   "execution_count": 21,
   "metadata": {},
   "outputs": [],
   "source": [
    "from sumy.parsers.plaintext import PlaintextParser\n",
    "from sumy.nlp.tokenizers import Tokenizer\n",
    "from sumy.nlp.stemmers import Stemmer\n",
    "from sumy.utils import get_stop_words\n",
    "from sumy.summarizers.text_rank import TextRankSummarizer\n",
    "\n",
    "def textrank_summary(text, num_summary_sentence):\n",
    "    summary_sentence = []\n",
    "    LANGUAGE = \"english\"\n",
    "    stemmer = Stemmer(LANGUAGE)\n",
    "    parser = PlaintextParser.from_string(text, Tokenizer(LANGUAGE))\n",
    "    summarizer = TextRankSummarizer(stemmer)\n",
    "    summarizer.stop_words = get_stop_words(LANGUAGE)\n",
    "    for sentence in summarizer(parser.document, num_summary_sentence):\n",
    "        summary_sentence.append(str(sentence))\n",
    "    return summary_sentence"
   ]
  },
  {
   "cell_type": "code",
   "execution_count": 22,
   "metadata": {},
   "outputs": [
    {
     "name": "stdout",
     "output_type": "stream",
     "text": [
      "LONDON/SAN FRANCISCO (Reuters) - U.S. President Donald Trump has blocked microchip maker Broadcom Ltd’s (AVGO.O) $117 billion takeover of rival Qualcomm (QCOM.O) amid concerns that it would give China the upper hand in the next generation of mobile communications, or 5G.\n",
      "Acquiring Qualcomm would represent the jewel in the crown of Broadcom’s portfolio of communications chips, which supply wi-fi, power management, video and other features in smartphones alongside Qualcomm’s core baseband chips - radio modems that wirelessly connect phones to networks.\n",
      "Qualcomm (QCOM.O) is the dominant player in smartphone communications chips, making half of all core baseband radio chips in smartphones.\n",
      "Most other baseband chips come from Asia: MediaTek (2454.TW) of Taiwan holds about one quarter of the market, while Samsung Electronics (005930.KS) and Huawei [HWT.UL] - two big smartphone makers - develop chips for their own devices.\n",
      "Slideshow (2 Images)The standards are set by a global body to ensure all phones work across different mobile networks, and whoever’s essential patents end up making it into the standard stands to reap huge royalty licensing revenue streams.\n"
     ]
    }
   ],
   "source": [
    "parser = PlaintextParser.from_string(article1['text'], Tokenizer(LANGUAGE))\n",
    "summarizer = TextRankSummarizer(stemmer)\n",
    "summarizer.stop_words = get_stop_words(LANGUAGE)\n",
    "\n",
    "for sentence in summarizer(parser.document, num_summary_sentence):\n",
    "    print (str(sentence))"
   ]
  },
  {
   "cell_type": "code",
   "execution_count": null,
   "metadata": {},
   "outputs": [],
   "source": []
  },
  {
   "cell_type": "markdown",
   "metadata": {},
   "source": [
    "# Measuring the performance of Text Summarization methods"
   ]
  },
  {
   "cell_type": "code",
   "execution_count": 23,
   "metadata": {},
   "outputs": [],
   "source": [
    "def print_rouge_score(rouge_score):\n",
    "    for k,v in rouge_score.items():\n",
    "        print (k, 'Precision:', \"{:.2f}\".format(v.precision), 'Recall:', \"{:.2f}\".format(v.recall), 'fmeasure:', \"{:.2f}\".format(v.fmeasure))"
   ]
  },
  {
   "cell_type": "code",
   "execution_count": 24,
   "metadata": {},
   "outputs": [
    {
     "name": "stdout",
     "output_type": "stream",
     "text": [
      "rouge1 Precision: 0.06 Recall: 0.83 fmeasure: 0.11\n"
     ]
    }
   ],
   "source": [
    "num_summary_sentence = 3 ##\n",
    "gold_standard = article2['headline']\n",
    "summary = \"\"\n",
    "\n",
    "summary = ''.join(textrank_summary(article2['text'], num_summary_sentence))\n",
    "scorer = rouge_scorer.RougeScorer(['rouge1'], use_stemmer=True)\n",
    "scores = scorer.score(gold_standard, summary)\n",
    "print_rouge_score(scores)"
   ]
  },
  {
   "cell_type": "code",
   "execution_count": 30,
   "metadata": {},
   "outputs": [
    {
     "name": "stdout",
     "output_type": "stream",
     "text": [
      "\"Readingbusiness articles\"\n"
     ]
    },
    {
     "data": {
      "application/vnd.jupyter.widget-view+json": {
       "model_id": "8990453e763a4f8b9542c6530918d955",
       "version_major": 2,
       "version_minor": 0
      },
      "text/plain": [
       "  0%|          | 0/510 [00:00<?, ?it/s]"
      ]
     },
     "metadata": {},
     "output_type": "display_data"
    }
   ],
   "source": [
    "# \n",
    "\n",
    "type_of_article = 'business'  # entertainment, politices, sport, tech\n",
    "root_path = f'../data/BBC News Summary'\n",
    "num_of_article = len(os.listdir(f\"{root_path}/News Articles/{type_of_article}\"))\n",
    "\n",
    "print(f'\"Reading {type_of_article} articles\"')\n",
    "df = pd.DataFrame(columns=['title','article','summary'])\n",
    "\n",
    "for i in tqdm(range(num_of_article)):\n",
    "    with open(f'{root_path}/News Articles/{type_of_article}/{(i+1):03d}.txt', 'r') as f:\n",
    "        article = f.read() #.splitlines()\n",
    "    with open(f'{root_path}/Summaries/{type_of_article}/{(i+1):03d}.txt', 'r') as f:\n",
    "        summary = f.read() #.splitlines()\n",
    "    # if len(summary) >=2:\n",
    "    #     print(i)\n",
    "    df.loc[i] = [article[0],article[2:],summary]"
   ]
  },
  {
   "cell_type": "code",
   "execution_count": 26,
   "metadata": {},
   "outputs": [
    {
     "data": {
      "text/html": [
       "<div>\n",
       "<style scoped>\n",
       "    .dataframe tbody tr th:only-of-type {\n",
       "        vertical-align: middle;\n",
       "    }\n",
       "\n",
       "    .dataframe tbody tr th {\n",
       "        vertical-align: top;\n",
       "    }\n",
       "\n",
       "    .dataframe thead th {\n",
       "        text-align: right;\n",
       "    }\n",
       "</style>\n",
       "<table border=\"1\" class=\"dataframe tex2jax_ignore\">\n",
       "  <thead>\n",
       "    <tr style=\"text-align: right;\">\n",
       "      <th></th>\n",
       "      <th>title</th>\n",
       "      <th>article</th>\n",
       "      <th>summary</th>\n",
       "    </tr>\n",
       "  </thead>\n",
       "  <tbody>\n",
       "    <tr>\n",
       "      <th>0</th>\n",
       "      <td>A</td>\n",
       "      <td>sales boost Time Warner profit\\n\\nQuarterly profits at US media giant TimeWarner jumped 76% to $1.13bn (Â£600m) for the three months to December,...</td>\n",
       "      <td>TimeWarner said fourth quarter sales rose 2% to $11.1bn from $10.9bn.For the full-year, TimeWarner posted a profit of $3.36bn, up 27% from its 200...</td>\n",
       "    </tr>\n",
       "    <tr>\n",
       "      <th>1</th>\n",
       "      <td>D</td>\n",
       "      <td>llar gains on Greenspan speech\\n\\nThe dollar has hit its highest level against the euro in almost three months after the Federal Reserve head said...</td>\n",
       "      <td>The dollar has hit its highest level against the euro in almost three months after the Federal Reserve head said the US trade deficit is set to st...</td>\n",
       "    </tr>\n",
       "    <tr>\n",
       "      <th>2</th>\n",
       "      <td>Y</td>\n",
       "      <td>kos unit buyer faces loan claim\\n\\nThe owners of embattled Russian oil giant Yukos are to ask the buyer of its former production unit to pay back ...</td>\n",
       "      <td>Yukos' owner Menatep Group says it will ask Rosneft to repay a loan that Yugansk had secured on its assets.State-owned Rosneft bought the Yugansk ...</td>\n",
       "    </tr>\n",
       "    <tr>\n",
       "      <th>3</th>\n",
       "      <td>H</td>\n",
       "      <td>gh fuel prices hit BA's profits\\n\\nBritish Airways has blamed high fuel prices for a 40% drop in profits.\\n\\nReporting its results for the three m...</td>\n",
       "      <td>Rod Eddington, BA's chief executive, said the results were \"respectable\" in a third quarter when fuel costs rose by Â£106m or 47.3%.To help offset...</td>\n",
       "    </tr>\n",
       "    <tr>\n",
       "      <th>4</th>\n",
       "      <td>P</td>\n",
       "      <td>rnod takeover talk lifts Domecq\\n\\nShares in UK drinks and food firm Allied Domecq have risen on speculation that it could be the target of a take...</td>\n",
       "      <td>Pernod has reduced the debt it took on to fund the Seagram purchase to just 1.8bn euros, while Allied has improved the performance of its fast-foo...</td>\n",
       "    </tr>\n",
       "  </tbody>\n",
       "</table>\n",
       "</div>"
      ],
      "text/plain": [
       "  title  \\\n",
       "0     A   \n",
       "1     D   \n",
       "2     Y   \n",
       "3     H   \n",
       "4     P   \n",
       "\n",
       "                                                                                                                                                 article  \\\n",
       "0   sales boost Time Warner profit\\n\\nQuarterly profits at US media giant TimeWarner jumped 76% to $1.13bn (Â£600m) for the three months to December,...   \n",
       "1  llar gains on Greenspan speech\\n\\nThe dollar has hit its highest level against the euro in almost three months after the Federal Reserve head said...   \n",
       "2  kos unit buyer faces loan claim\\n\\nThe owners of embattled Russian oil giant Yukos are to ask the buyer of its former production unit to pay back ...   \n",
       "3  gh fuel prices hit BA's profits\\n\\nBritish Airways has blamed high fuel prices for a 40% drop in profits.\\n\\nReporting its results for the three m...   \n",
       "4  rnod takeover talk lifts Domecq\\n\\nShares in UK drinks and food firm Allied Domecq have risen on speculation that it could be the target of a take...   \n",
       "\n",
       "                                                                                                                                                 summary  \n",
       "0  TimeWarner said fourth quarter sales rose 2% to $11.1bn from $10.9bn.For the full-year, TimeWarner posted a profit of $3.36bn, up 27% from its 200...  \n",
       "1  The dollar has hit its highest level against the euro in almost three months after the Federal Reserve head said the US trade deficit is set to st...  \n",
       "2  Yukos' owner Menatep Group says it will ask Rosneft to repay a loan that Yugansk had secured on its assets.State-owned Rosneft bought the Yugansk ...  \n",
       "3  Rod Eddington, BA's chief executive, said the results were \"respectable\" in a third quarter when fuel costs rose by Â£106m or 47.3%.To help offset...  \n",
       "4  Pernod has reduced the debt it took on to fund the Seagram purchase to just 1.8bn euros, while Allied has improved the performance of its fast-foo...  "
      ]
     },
     "execution_count": 26,
     "metadata": {},
     "output_type": "execute_result"
    }
   ],
   "source": [
    "df.head()"
   ]
  },
  {
   "cell_type": "code",
   "execution_count": 27,
   "metadata": {},
   "outputs": [
    {
     "name": "stdout",
     "output_type": "stream",
     "text": [
      "sales boost Time Warner profit Quarterly profits at US media giant TimeWarner jumped 76% to $1.13bn (Â£600m) for the three months to December, from $639m year-earlier. The firm, which is now one of the biggest investors in Google, benefited from sales of high-speed internet connections and higher advert sales. TimeWarner said fourth quarter sales rose 2% to $11.1bn from $10.9bn. Its profits were buoyed by one-off gains which offset a profit dip at Warner Bros, and less users for AOL. Time Warner said on Friday that it now owns 8% of search-engine Google. But its own internet business, AOL, had has mixed fortunes. It lost 464,000 subscribers in the fourth quarter profits were lower than in the preceding three quarters. However, the company said AOL's underlying profit before exceptional items rose 8% on the back of stronger internet advertising revenues. It hopes to increase subscribers by offering the online service free to TimeWarner internet customers and will try to sign up AOL's existing customers for high-speed broadband. TimeWarner also has to restate 2000 and 2003 results following a probe by the US Securities Exchange Commission (SEC), which is close to concluding. Time Warner's fourth quarter profits were slightly better than analysts' expectations. But its film division saw profits slump 27% to $284m, helped by box-office flops Alexander and Catwoman, a sharp contrast to year-earlier, when the third and final film in the Lord of the Rings trilogy boosted results. For the full-year, TimeWarner posted a profit of $3.36bn, up 27% from its 2003 performance, while revenues grew 6.4% to $42.09bn. \"Our financial performance was strong, meeting or exceeding all of our full-year objectives and greatly enhancing our flexibility,\" chairman and chief executive Richard Parsons said. For 2005, TimeWarner is projecting operating earnings growth of around 5%, and also expects higher revenue and wider profit margins. TimeWarner is to restate its accounts as part of efforts to resolve an inquiry into AOL by US market regulators. It has already offered to pay $300m to settle charges, in a deal that is under review by the SEC. The company said it was unable to estimate the amount it needed to set aside for legal reserves, which it previously set at $500m. It intends to adjust the way it accounts for a deal with German music publisher Bertelsmann's purchase of a stake in AOL Europe, which it had reported as advertising revenue. It will now book the sale of its stake in AOL Europe as a loss on the value of that stake.\n"
     ]
    }
   ],
   "source": [
    "def print_article(article):\n",
    "    for item in article:\n",
    "        print(item)\n",
    "\n",
    "sample_text = clean(df['article'][0])\n",
    "print( sample_text)"
   ]
  },
  {
   "cell_type": "code",
   "execution_count": 28,
   "metadata": {},
   "outputs": [
    {
     "name": "stdout",
     "output_type": "stream",
     "text": [
      "TimeWarner said fourth quarter sales rose 2% to $11.1bn from $10.9bn.For the full-year, TimeWarner posted a profit of $3.36bn, up 27% from its 2003 performance, while revenues grew 6.4% to $42.09bn.Quarterly profits at US media giant TimeWarner jumped 76% to $1.13bn (Â£600m) for the three months to December, from $639m year-earlier.However, the company said AOL's underlying profit before exceptional items rose 8% on the back of stronger internet advertising revenues.Its profits were buoyed by one-off gains which offset a profit dip at Warner Bros, and less users for AOL.For 2005, TimeWarner is projecting operating earnings growth of around 5%, and also expects higher revenue and wider profit margins.It lost 464,000 subscribers in the fourth quarter profits were lower than in the preceding three quarters.Time Warner's fourth quarter profits were slightly better than analysts' expectations.\n"
     ]
    }
   ],
   "source": [
    "sample_summary = clean(df['summary'][0])\n",
    "print(sample_summary)"
   ]
  },
  {
   "cell_type": "code",
   "execution_count": 29,
   "metadata": {},
   "outputs": [
    {
     "name": "stdout",
     "output_type": "stream",
     "text": [
      "rouge1 Precision: 0.82 Recall: 0.70 fmeasure: 0.75\n",
      "sales boost Time Warner profit Quarterly profits at US media giant TimeWarner jumped 76% to $1.13bn (Â£600m) for the three months to December, from $639m year-earlier.Its profits were buoyed by one-off gains which offset a profit dip at Warner Bros, and less users for AOL.However, the company said AOL's underlying profit before exceptional items rose 8% on the back of stronger internet advertising revenues.It hopes to increase subscribers by offering the online service free to TimeWarner internet customers and will try to sign up AOL's existing customers for high-speed broadband.Time Warner's fourth quarter profits were slightly better than analysts' expectations.For 2005, TimeWarner is projecting operating earnings growth of around 5%, and also expects higher revenue and wider profit margins.\n"
     ]
    }
   ],
   "source": [
    "num_summary_sentence = 6 ##\n",
    "gold_standard = sample_summary\n",
    "summary = \"\"\n",
    "\n",
    "summary = ''.join(textrank_summary(sample_text, num_summary_sentence))\n",
    "scorer = rouge_scorer.RougeScorer(['rouge1'], use_stemmer=True)\n",
    "scores = scorer.score(gold_standard, summary)\n",
    "print_rouge_score(scores)\n",
    "print(summary)"
   ]
  },
  {
   "cell_type": "code",
   "execution_count": 7,
   "metadata": {},
   "outputs": [
    {
     "name": "stdout",
     "output_type": "stream",
     "text": [
      "\"Readingbusiness articles\"\n"
     ]
    },
    {
     "name": "stderr",
     "output_type": "stream",
     "text": [
      "100%|██████████| 510/510 [00:22<00:00, 22.19it/s]\n"
     ]
    }
   ],
   "source": [
    "type_of_article = 'business'  # entertainment, politices, sport, tech\n",
    "root_path = f'../data/BBC News Summary'\n",
    "num_of_article = len(os.listdir(f\"{root_path}/News Articles/{type_of_article}\"))\n",
    "\n",
    "print(f'\"Reading {type_of_article} articles\"')\n",
    "df = pd.DataFrame(columns=['title','article','summary'])\n",
    "\n",
    "for i in tqdm(range(num_of_article)):\n",
    "    with open(f'{root_path}/News Articles/{type_of_article}/{(i+1):03d}.txt', 'r') as f:\n",
    "        article = f.read() #.splitlines()\n",
    "    with open(f'{root_path}/Summaries/{type_of_article}/{(i+1):03d}.txt', 'r') as f:\n",
    "        summary = f.read() #.splitlines()\n",
    "    # if len(summary) >=2:\n",
    "    #     print(i)\n",
    "    df.loc[i] = [article[0],article[2:],summary]"
   ]
  },
  {
   "cell_type": "code",
   "execution_count": 10,
   "metadata": {},
   "outputs": [
    {
     "name": "stdout",
     "output_type": "stream",
     "text": [
      " sales boost Time Warner profit\n",
      "\n",
      "Quarterly profits at US media giant TimeWarner jumped 76% to $1.13bn (Â£600m) for the three months to December, from $639m year-earlier.\n",
      "\n",
      "The firm, which is now one of the biggest investors in Google, benefited from sales of high-speed internet connections and higher advert sales. TimeWarner said fourth quarter sales rose 2% to $11.1bn from $10.9bn. Its profits were buoyed by one-off gains which offset a profit dip at Warner Bros, and less users for AOL.\n",
      "\n",
      "Time Warner said on Friday that it now owns 8% of search-engine Google. But its own internet business, AOL, had has mixed fortunes. It lost 464,000 subscribers in the fourth quarter profits were lower than in the preceding three quarters. However, the company said AOL's underlying profit before exceptional items rose 8% on the back of stronger internet advertising revenues. It hopes to increase subscribers by offering the online service free to TimeWarner internet customers and will try to sign up AOL's existing customers for high-speed broadband. TimeWarner also has to restate 2000 and 2003 results following a probe by the US Securities Exchange Commission (SEC), which is close to concluding.\n",
      "\n",
      "Time Warner's fourth quarter profits were slightly better than analysts' expectations. But its film division saw profits slump 27% to $284m, helped by box-office flops Alexander and Catwoman, a sharp contrast to year-earlier, when the third and final film in the Lord of the Rings trilogy boosted results. For the full-year, TimeWarner posted a profit of $3.36bn, up 27% from its 2003 performance, while revenues grew 6.4% to $42.09bn. \"Our financial performance was strong, meeting or exceeding all of our full-year objectives and greatly enhancing our flexibility,\" chairman and chief executive Richard Parsons said. For 2005, TimeWarner is projecting operating earnings growth of around 5%, and also expects higher revenue and wider profit margins.\n",
      "\n",
      "TimeWarner is to restate its accounts as part of efforts to resolve an inquiry into AOL by US market regulators. It has already offered to pay $300m to settle charges, in a deal that is under review by the SEC. The company said it was unable to estimate the amount it needed to set aside for legal reserves, which it previously set at $500m. It intends to adjust the way it accounts for a deal with German music publisher Bertelsmann's purchase of a stake in AOL Europe, which it had reported as advertising revenue. It will now book the sale of its stake in AOL Europe as a loss on the value of that stake.\n",
      "\n"
     ]
    }
   ],
   "source": [
    "def print_article(article):\n",
    "    for item in article:\n",
    "        print(item)\n",
    "\n",
    "sample_text = df['article'][0]\n",
    "print( sample_text)\n"
   ]
  },
  {
   "cell_type": "code",
   "execution_count": 12,
   "metadata": {},
   "outputs": [
    {
     "name": "stderr",
     "output_type": "stream",
     "text": [
      "Downloading: 100%|██████████| 1.80k/1.80k [00:00<00:00, 601kB/s]\n",
      "Downloading: 100%|██████████| 1.22G/1.22G [00:25<00:00, 48.7MB/s]\n",
      "Downloading: 100%|██████████| 899k/899k [00:01<00:00, 716kB/s]\n",
      "Downloading: 100%|██████████| 456k/456k [00:01<00:00, 363kB/s]\n",
      "Downloading: 100%|██████████| 26.0/26.0 [00:00<00:00, 13.0kB/s]\n"
     ]
    },
    {
     "name": "stdout",
     "output_type": "stream",
     "text": [
      "[{'summary_text': ' Profits buoyed by one-off gains offset a profit dip at Warner Bros, and less users for AOL . For the full-year, TimeWarner posted a profit of $3.36bn, up 27% from 2003 . But its film division saw profits slump 27% to $284m, helped by box-office flops Alexander and Catwoman .'}]\n"
     ]
    }
   ],
   "source": [
    "\n",
    "#loading BART (bert summarizer)\n",
    "\n",
    "from transformers import pipeline\n",
    "# Open and read the article\n",
    "to_tokenize = sample_text\n",
    "\n",
    "# Initialize the HuggingFace summarization pipeline\n",
    "summarizer = pipeline(\"summarization\")\n",
    "summarized = summarizer(to_tokenize, min_length=75, max_length=300)\n",
    "\n",
    "# Print summarized text\n",
    "print(summarized)\n",
    "\n"
   ]
  },
  {
   "cell_type": "code",
   "execution_count": 14,
   "metadata": {},
   "outputs": [
    {
     "name": "stderr",
     "output_type": "stream",
     "text": [
      "Downloading: 100%|██████████| 482/482 [00:00<00:00, 241kB/s]\n",
      "Downloading: 100%|██████████| 899k/899k [00:01<00:00, 606kB/s]\n",
      "Downloading: 100%|██████████| 456k/456k [00:01<00:00, 375kB/s]\n",
      "Downloading: 100%|██████████| 1.36M/1.36M [00:01<00:00, 799kB/s] \n",
      "Downloading: 100%|██████████| 1.43G/1.43G [00:28<00:00, 49.8MB/s]\n",
      "Some weights of the model checkpoint at roberta-large were not used when initializing RobertaModel: ['lm_head.bias', 'lm_head.decoder.weight', 'lm_head.dense.weight', 'lm_head.dense.bias', 'lm_head.layer_norm.weight', 'lm_head.layer_norm.bias']\n",
      "- This IS expected if you are initializing RobertaModel from the checkpoint of a model trained on another task or with another architecture (e.g. initializing a BertForSequenceClassification model from a BertForPreTraining model).\n",
      "- This IS NOT expected if you are initializing RobertaModel from the checkpoint of a model that you expect to be exactly identical (initializing a BertForSequenceClassification model from a BertForSequenceClassification model).\n"
     ]
    },
    {
     "name": "stdout",
     "output_type": "stream",
     "text": [
      "calculating scores...\n",
      "computing bert embedding.\n"
     ]
    },
    {
     "name": "stderr",
     "output_type": "stream",
     "text": [
      "100%|██████████| 1/1 [00:08<00:00,  8.17s/it]\n"
     ]
    },
    {
     "name": "stdout",
     "output_type": "stream",
     "text": [
      "computing greedy matching.\n"
     ]
    },
    {
     "name": "stderr",
     "output_type": "stream",
     "text": [
      "100%|██████████| 1/1 [00:00<00:00, 52.63it/s]"
     ]
    },
    {
     "name": "stdout",
     "output_type": "stream",
     "text": [
      "done in 8.20 seconds, 0.12 sentences/sec\n"
     ]
    },
    {
     "name": "stderr",
     "output_type": "stream",
     "text": [
      "\n"
     ]
    },
    {
     "data": {
      "text/plain": [
       "(tensor([0.9163]), tensor([0.8220]), tensor([0.8666]))"
      ]
     },
     "execution_count": 14,
     "metadata": {},
     "output_type": "execute_result"
    }
   ],
   "source": [
    "\n",
    "\n",
    "from bert_score import score\n",
    "# bert score with full text\n",
    "P, R, F1 = score([summarized[0]['summary_text']], [sample_text], lang='en', verbose=True)\n",
    "P,R,F1\n",
    "\n"
   ]
  },
  {
   "cell_type": "code",
   "execution_count": 16,
   "metadata": {},
   "outputs": [
    {
     "name": "stdout",
     "output_type": "stream",
     "text": [
      "Full text length  2558\n",
      "Full text length  276\n"
     ]
    }
   ],
   "source": [
    "print(\"Full text length \",len(sample_text))\n",
    "print(\"Full text length \",len(summarized[0]['summary_text']))"
   ]
  },
  {
   "cell_type": "code",
   "execution_count": 18,
   "metadata": {},
   "outputs": [
    {
     "name": "stdout",
     "output_type": "stream",
     "text": [
      "Full text length  {'summary_text': ' Profits buoyed by one-off gains offset a profit dip at Warner Bros, and less users for AOL . For the full-year, TimeWarner posted a profit of $3.36bn, up 27% from 2003 . But its film division saw profits slump 27% to $284m, helped by box-office flops Alexander and Catwoman .'}\n"
     ]
    }
   ],
   "source": [
    "print(\"Full text length \", summarized[0]['summary_text'])\n"
   ]
  },
  {
   "cell_type": "code",
   "execution_count": null,
   "metadata": {},
   "outputs": [],
   "source": []
  }
 ],
 "metadata": {
  "interpreter": {
   "hash": "5caea8df2d6b3afe4c6a8fa5e4ec8aa952f5ed6f914beaca74edf16901303bb7"
  },
  "kernelspec": {
   "display_name": "Python 3 (ipykernel)",
   "language": "python",
   "name": "python3"
  },
  "language_info": {
   "codemirror_mode": {
    "name": "ipython",
    "version": 3
   },
   "file_extension": ".py",
   "mimetype": "text/x-python",
   "name": "python",
   "nbconvert_exporter": "python",
   "pygments_lexer": "ipython3",
   "version": "3.9.7"
  }
 },
 "nbformat": 4,
 "nbformat_minor": 4
}
