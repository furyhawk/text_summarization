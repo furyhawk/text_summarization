{
 "cells": [
  {
   "cell_type": "code",
   "execution_count": 1,
   "source": [
    "import sys, os\r\n",
    "ON_COLAB = 'google.colab' in sys.modules\r\n",
    "\r\n",
    "if ON_COLAB:\r\n",
    "    GIT_ROOT = 'https://github.com/furyhawk/text_summarization/raw/master'\r\n",
    "    os.system(f'wget {GIT_ROOT}/notebooks/setup.py')\r\n",
    "\r\n",
    "%run -i setup.py"
   ],
   "outputs": [
    {
     "output_type": "stream",
     "name": "stdout",
     "text": [
      "You are working on a local system.\n",
      "Files will be searched relative to \"..\".\n"
     ]
    }
   ],
   "metadata": {}
  },
  {
   "cell_type": "code",
   "execution_count": 3,
   "source": [
    "%run \"$BASE_DIR/settings.py\"\r\n",
    "\r\n",
    "%reload_ext autoreload\r\n",
    "%autoreload 2\r\n",
    "%config InlineBackend.figure_format = 'png'\r\n",
    "\r\n",
    "# to print output of all statements and not just the last\r\n",
    "from IPython.core.interactiveshell import InteractiveShell\r\n",
    "InteractiveShell.ast_node_interactivity = \"all\"\r\n",
    "\r\n",
    "# otherwise text between $ signs will be interpreted as formula and printed in italic\r\n",
    "pd.set_option('display.html.use_mathjax', False)\r\n",
    "\r\n",
    "# path to import blueprints packages\r\n",
    "sys.path.append(BASE_DIR + '/packages')"
   ],
   "outputs": [],
   "metadata": {}
  },
  {
   "cell_type": "code",
   "execution_count": 4,
   "source": [
    "# adjust matplotlib resolution\r\n",
    "matplotlib.rcParams.update({'figure.dpi': 200 })"
   ],
   "outputs": [],
   "metadata": {}
  },
  {
   "cell_type": "code",
   "execution_count": 5,
   "source": [
    "from rouge_score import rouge_scorer\r\n",
    "from sklearn.feature_extraction.text import TfidfVectorizer\r\n",
    "from nltk import tokenize\r\n",
    "import matplotlib.pyplot as plt\r\n",
    "import html\r\n",
    "import re\r\n",
    "import random\r\n",
    "import rouge_score\r\n",
    "import wikipediaapi"
   ],
   "outputs": [],
   "metadata": {}
  },
  {
   "cell_type": "code",
   "execution_count": 7,
   "source": [
    "import requests\r\n",
    "from bs4 import BeautifulSoup\r\n",
    "import os.path\r\n",
    "from dateutil import parser\r\n",
    "import pandas as pd\r\n",
    "import numpy as np"
   ],
   "outputs": [],
   "metadata": {}
  },
  {
   "cell_type": "code",
   "execution_count": 6,
   "source": [
    "pd.options.display.max_colwidth = 150 ###\r\n",
    "file = \"un-general-debates-blueprint.csv\"\r\n",
    "file = f\"{BASE_DIR}/data/un-general-debates/un-general-debates.csv.zip\" ### real location\r\n",
    "df = pd.read_csv(file)\r\n",
    "df.sample(2, random_state=53)"
   ],
   "outputs": [
    {
     "output_type": "execute_result",
     "data": {
      "text/html": [
       "<div>\n",
       "<style scoped>\n",
       "    .dataframe tbody tr th:only-of-type {\n",
       "        vertical-align: middle;\n",
       "    }\n",
       "\n",
       "    .dataframe tbody tr th {\n",
       "        vertical-align: top;\n",
       "    }\n",
       "\n",
       "    .dataframe thead th {\n",
       "        text-align: right;\n",
       "    }\n",
       "</style>\n",
       "<table border=\"1\" class=\"dataframe tex2jax_ignore\">\n",
       "  <thead>\n",
       "    <tr style=\"text-align: right;\">\n",
       "      <th></th>\n",
       "      <th>session</th>\n",
       "      <th>year</th>\n",
       "      <th>country</th>\n",
       "      <th>text</th>\n",
       "    </tr>\n",
       "  </thead>\n",
       "  <tbody>\n",
       "    <tr>\n",
       "      <th>3871</th>\n",
       "      <td>42</td>\n",
       "      <td>1987</td>\n",
       "      <td>HND</td>\n",
       "      <td>﻿On behalf of the Government of Honduras I extend to you, Sir, sincere congratulations on your election as President of the forty-second session o...</td>\n",
       "    </tr>\n",
       "    <tr>\n",
       "      <th>4697</th>\n",
       "      <td>35</td>\n",
       "      <td>1980</td>\n",
       "      <td>THA</td>\n",
       "      <td>﻿My delegation takes pleasure in extending to Mr. Riidiger von Wechmar its sincere congratulations on his unanimous election to the presidency of ...</td>\n",
       "    </tr>\n",
       "  </tbody>\n",
       "</table>\n",
       "</div>"
      ],
      "text/plain": [
       "      session  year country  \\\n",
       "3871       42  1987     HND   \n",
       "4697       35  1980     THA   \n",
       "\n",
       "                                                                                                                                                       text  \n",
       "3871  ﻿On behalf of the Government of Honduras I extend to you, Sir, sincere congratulations on your election as President of the forty-second session o...  \n",
       "4697  ﻿My delegation takes pleasure in extending to Mr. Riidiger von Wechmar its sincere congratulations on his unanimous election to the presidency of ...  "
      ]
     },
     "metadata": {},
     "execution_count": 6
    }
   ],
   "metadata": {}
  },
  {
   "cell_type": "markdown",
   "source": [
    "# Summarizing text using topic representation\r\n",
    "## Identifying important words with TF-IDF values\r\n"
   ],
   "metadata": {}
  },
  {
   "cell_type": "code",
   "execution_count": 11,
   "source": [
    "from sklearn.feature_extraction.text import TfidfVectorizer\r\n",
    "from nltk import tokenize\r\n",
    "nltk.download('punkt')\r\n",
    "\r\n",
    "\r\n",
    "sample_text = df['text'].iloc[1]\r\n",
    "print(\"\\nSample:\", sample_text)\r\n",
    "sentences = tokenize.sent_tokenize(sample_text)\r\n",
    "tfidfVectorizer = TfidfVectorizer()\r\n",
    "words_tfidf = tfidfVectorizer.fit_transform(sentences)"
   ],
   "outputs": [
    {
     "output_type": "stream",
     "name": "stderr",
     "text": [
      "[nltk_data] Downloading package punkt to\n",
      "[nltk_data]     C:\\Users\\furyx\\AppData\\Roaming\\nltk_data...\n",
      "[nltk_data]   Package punkt is already up-to-date!\n"
     ]
    },
    {
     "output_type": "execute_result",
     "data": {
      "text/plain": [
       "True"
      ]
     },
     "metadata": {},
     "execution_count": 11
    },
    {
     "output_type": "stream",
     "name": "stdout",
     "text": [
      "\n",
      "Sample: ﻿\n",
      "May I begin by congratulating you. Sir, on your election to the presidency of the General Assembly at its forty-fourth session. Your wide experience in the United Nations makes you especially qualified to guide the Assembly and its deliberations. You have my best wishes for the demanding task that lies ahead of you. May I also express my thanks to the outgoing President, Mr. Dante Caputo, who so ably fulfilled his role on behalf of the Assembly. It gives me particular pleasure to pay tribute to the Secretary-General. We owe a great deal to his authority and leadership.\n",
      "As we are assembled here for the annual general debate, every Member state needs to reflect on certain fundamental questions. Is the United Nations doing everything possible in order to meet its challenges? Are we making progress? Can we say that the United Nations enters the last decade of this century with determination and justified self-confidence? Is my own country doing everything it can in order to help the world Organization? The answers to these questions must be sought in the actual work of the Organization and of its Member States. For my part, I shall try to emphasize some of the challenges we in Finland regard as particularly imports at the present time. It seems to us that the main challenges can be expressed in two words -insecurity and poverty. Both produce fear  d suffering. Neither can be dealt with by any single remedy.\n",
      "The United Nations was created first and foremost in order to maintain international peace and security. In this respect, the past year represents a mixture of success and disappointment. We are encouraged by the high-level dialogues that have continued between the major Powers. we have witnessed with satisfaction such concrete achievements as the continuing progress in the verified dismantling and destruction of American and Soviet intermediate-range nuclear weapons. As one of the participating States in the process of the Conference on Security and cooperation in Europe, Finland follow, closely and with ,much hope the new efforts to achieve substantive conventional disarmament in Europe.\n",
      "At the same time we are concerned about the violence that has erupted and continues in many parts of the world. Most of the underlying problem are already on the agenda of the General Assembly, and we shall express our views on them in due course. Now I want to speak about the global challenges. As regards the process of disarmament on the global level our hopes in Finland are fastened particularly on the preparation of a chemical weapons convention. The political will is there, as was demonstrated again at the conferences held in Paris and in Canberra this year. During this year, as before, Finnish experts have continued their research in order to help to develop appropriate methods that could meet the complex verification requirements  global and comprehensive chemical weapons convention. We expect progress from the protracted negotiations with growing impatience. We welcome the impetus recently given them in the bilateral talks between the United States and the Soviet Union.\n",
      "Security on the global level must take into account other factors in addition to armaments and military threats. Security requires confidence in the future. Such confidence must be felt both by Governments and by their peoples. Only a representative Government that respects human rights and that therefore enjoys the confidence of its own people can face the future with a sense of security and successfully maintain stable relations with other Governments. Some dramatic - in fact, tragic - events have recently illustrated the importance of respect for human rights. We hope that lessons have been learned.\n",
      "Confidence in the future also requires that the other global challenge, that of poverty, be overcome. The sufferings of poverty may not be in evidence everywhere, but the challenge requires global co-operation for development. The Assembly will meet next year in a special session devoted to international economic co-operation. Soon thereafter a new international development strategy for the 1990s should be adopted. A successful special session and a new and realistic strategy should help to bring about a new spirit of international economic co-operation.\n",
      "In the process of preparing both the development strategy and the special session emphasis should be on the development of human resources in all forms, including the recognition of a well-functioning private sector in balance with an effective public sector. In that context funding generated by national and international sources should be well co-ordinated. The necessary investments in developing countries require increasing domestic and external financing.\n",
      "The debt overhang has resulted in the transfer of resources from developing countries, which exceeded $US 50 billion last year, a trend that should be reversed. This requires that a political solution, including a functioning debt strategy, be found. The debt overhang cannot be overcome by the international community at the upcoming special session of the General Assembly and in the new international development strategy. It would be important for the efforts to reverse the transfer of resources from the developing countries if the target of 0.7 per cent of gross national product as development-and transfer were generally reached. For its part, Finland will this year reach that target set by the General Assembly.\n",
      "The structure of the United Nations in the economic and social fields should respond to the tasks to be specified in the strategy for the 1990s, thus -consolidating the role of the world Organization. The Finnish Government finds that the Secretary-General has a major catalytic role to play in putting forward concrete proposals to improve the Organization's effectiveness in those fields. That would also help Governments in agreeing on the areas where they are to concentrate the activities of the United Nations in the economic and social fields. Today I wish to emphasize two issues that must, in my opinion, have a Prominent place in this respect. Development cannot be sustainable if the world population continues to grow at its present rate. Development cannot be sustainable if the natural resources of the Earth continue to be depleted at the present rate. There is a growing awareness of such problems in all parts of the world. That awareness is more and more strongly reflected in the work of the United Nations, it has prompted a number of positive measures. More is needed.\n",
      "According to recent United Nations estimates the world population could stabilize in the twenty-first century at the level of 10 to 11 billion persons. An early stabilisation of population growth would, of course, facilitate the fight against poverty. To reach that goal, determined population policies, translated into national population plans as spelled out in the World Population Plan of Action, should be pursued vigorously.\n",
      "With regard to the protection of the environment, no problem has lately become\n",
      "so apparent and widely recognized as the problem of climate change. Both industrialized and developing countries are directly affected by the depletion of the ozone layer through increasing emissions of carbon dioxides, which produce the so-called greenhouse effect in the climate of the Earth, and by the increasing presence of substances in the atmosphere that cause acid rain and direct dangers to health.\n",
      "It is therefore hardly a surprise that we have witnessed increasing international activity in this field. Several initiatives have been taken to launch concerted international action to combat atmospheric pollution in all its aspects, including climatic change. It is our view that effective strategies and policies should be developed by the international community as soon as possible in all fields relating to environment. That is a major undertaking that requires consolidated effort by the General Assembly and by the relevant United Nations specialized and other agencies. Environmental problems have a universal character. Any new activities should be streamlined with already ongoing action and well-established treaty-making procedures. The General Assembly must play a pivotal role in that effort.\n",
      "Five months ago Finland hosted a Conference of the Parties to the Vienna Convention for the Protection of the Ozone Layer aid the Montreal Protocol on Substances that Deplete the Ozone Layer. Those instruments, of 1985 and 1987 respectively, have this year already been found inadequate in light of the latest advances in knowledge. At the Conference the representatives of the more than 80 States present agreed unanimously to the Helsinki Declaration on the Protection of  the Ozone Layer, which contains an ambitious undertaking to phase out completely the use of ozone-depleting chlorofluorocarbons by the year 2000, or sooner if possible, and to phase out other ozone-depleting substances as soon as possible. We expect that undertaking to be converted into a legally binding decision at next year's meeting of the Parties to the Montreal Protocol. Appropriate measures should also be undertaken to make environmentally sound substitutes widely available to developing countries as soon as possible.\n",
      "In the field of environment protection the problems that are typical in the industrialized countries are often also found in the big urban centres of the developing countries. The problems that are now typical in many developing countries - such as soil erosion and the destruction of forests - illustrate mistakes already committed by earlier generations, most of all in Europe. We can therefore all learn from each other. There is information available about the environment and its protection, and about earlier mistakes. The available knowledge needs to be applied and converted into practical programmes, not only on the level of global strategies, but also on the level of regional, national and local development.\n",
      "In our own development co-operation programmes, we in Finland have emphasized such activities as deforestation, where we feel that we have some experience and expertise. We see deforestation as urgent in order to help stop soil erosion, counteract the greenhouse effect and counterbalance the continued cutting of trees for fuel and for other immediate human needs. In this respect, the development of new and renewable soirees of energy is of crucial importance.\n",
      "On a broader scale, we look forward to the 1992 United Nations Conference on Environment and Development. We see it as representing probably the most important joint effort required of mankind during the remaining part of this century. This session of the General Assembly is called upon to take important decisions for the preparation of the Conference. In that connection, as in all our activities to face up to environmental problems, we in Finland will strongly emphasize the need to support the developing countries in order to ensure that their development is environmentally sustainable.\n",
      "A large part of the burden, particularly for financing research and the introduction of new environmentally sound technologies, will have to be borne by the industrialized countries. We accept our part of this burden, knowing of course that all states will have to share in the efforts according to their capabilities. Since concern for the environment is global, this concern should in our opinion give a further incentive to all States without exception to involve themselves\n",
      "actively in international co-operation for environmentally sound and sustainable development. We also think that the time is ripe for the preparation of structural reforms making the United Nations Organization more responsive to the problems of protecting the environment. My Government has an open mind regarding the various ideas that have been discussed. We would find it natural for this Assembly to take decisions ensuring environmental Questions a permanent and prominent place in the structure of the Organization.\n",
      "One of the activities of the United Nations which has rightly gained prominence during this year is peace-keeping. At the present time, Finland is the biggest contributor of personnel to the United Nations peace-keeping forces. Their total strength is close to 15,000, and the number of Finnish personnel is now almost 2,000. It is therefore with particular satisfaction that we in Finland share the pride felt in this house over the latest Nobel Peace Prize, which was awarded to the United Nations peace-keeping forces. In co-operation with the other Nordic countries, Finland has this year taken steps to share with other interested States its experiences concerning the training and preparation of national contingents for peace-keeping tasks.\n",
      "We are also satisfied at the reactivation of the United Nations Special Committee on Peace-keeping Operations. The accumulated experiences in this field have already grown to such an extent that it is high time indeed to make a thorough review of all practical proposals that may help to strengthen the role of the United Nations in peace-keeping.\n",
      "In this connection, I wish to emphasize the importance of finding a lasting solution to the financial difficulties that still affect current peace-keeping operations, thus indirectly undermining the financial basis of the whole Organization. The idea of having sufficient financial reserves for peacemaking and peace-keeping, particularly for the start-up phase of operations, which my   predecessor put forward in his address to the General Assembly last year, has received support in a number of Quarters. I note in particular that the Secretary-General, in his own report to the General Assembly, has referred to the possibility of establishing a special reserve fund for peace-keeping, to be supported by all Member States. We hope that this idea can soon be followed up in practice with full respect for the principle of collective responsibility. The first condition, in our view, is that Member states should accept the principle of financing all operations without exception through assessed contributions and that they should pay all their assessed contributions in full and on time.\n",
      "The principal factor explaining the recent growth in the participation of Finnish personnel in United Nations peace-keeping is the deployment of an enlarged battalion within the United Nations Transition Assistance Group (UNTAG) in Namibia. A sizable number of volunteer soldiers has thus been added to the two Finnish battalions and smaller units already serving in the Middle East and elsewhere.\n",
      "Namibia is a major test for the United Nations. The beginnings of the UOTAG operations to implement Security Council resolution 435 on the independence of Namibia were unexpectedly rough and difficult. It is still too early to draw conclusions from the whole process of transition to independence, but we believe that the programme has been brought back on track thanks to the persistent efforts of the Secretary-General and the competent performance of the UNTAG personnel. Of course, many problems still remain to be solved and call for our unrelenting attention. We are looking forward with confidence to the moment when we can welcome independent Namibia into our midst as a Member State of the United Nations. For Finland, Namibia will be a major partner in our development co-operation.  The situation in the Middle East continues to pose a persistent threat to international security. The dangers of the absence of peace in the area are demonstrated almost daily. Repressive measures continue in the territories illegally occupied by Israel. The cycle of violence has not been broken. The\n",
      "eking turmoil in Lebanon gives cause for deep concern. There must be a way to or the suffering of the Lebanese people by the common endeavours of the Lebanese themselves, the Arab League and the international community.\n",
      "It is pressingly urgent that the way should be prepared towards an international peace conference and, further, to a comprehensive settlement in the Middle East. There is an almost universal recognition of the basic principles for a settlement. The right of all States in the region to live within secure and recognized boundaries, as well as the right of the Palestinians to national determination, should be recognised. Democratic elections in the occupied territories could facilitate this process. If such elections are properly mentored and take place within the framework of a structured effort, they could provide a link in a process leading to a comprehensive settlement. The momentum for achieving a solution to this long-standing conflict will be lost unless all possible avenues are pursued vigorously and with an open mind. In this respect, the proposals made by President Mubarak of Egypt are welcome and merit serious consideration.\n",
      "The United Nations has manifestly demonstrated its relevance and strengthened its role as a forum for co-ordinated international action. Yet the world Organization and its member States can do more. Serious global problems call for urgent global solutions. Only a re-invigorated United Nations can answer the challenges the world will inevitably face in the 1990s and beyond. Let us unite our forces to make the United Nations capable of meeting those challenges. \n",
      "\n"
     ]
    }
   ],
   "metadata": {}
  },
  {
   "cell_type": "code",
   "execution_count": 12,
   "source": [
    "# Parameter to specify number of summary sentences required\r\n",
    "num_summary_sentence = 3\r\n",
    "\r\n",
    "# Sort the sentences in descending order by the sum of TF-IDF values\r\n",
    "sent_sum = words_tfidf.sum(axis=1)\r\n",
    "important_sent = np.argsort(sent_sum, axis=0)[::-1]\r\n",
    "\r\n",
    "# Print three most important sentences in the order they appear in the article\r\n",
    "for i in range(0, len(sentences)):\r\n",
    "    if i in important_sent[:num_summary_sentence]:\r\n",
    "        print (sentences[i])"
   ],
   "outputs": [
    {
     "output_type": "stream",
     "name": "stdout",
     "text": [
      "Both industrialized and developing countries are directly affected by the depletion of the ozone layer through increasing emissions of carbon dioxides, which produce the so-called greenhouse effect in the climate of the Earth, and by the increasing presence of substances in the atmosphere that cause acid rain and direct dangers to health.\n",
      "At the Conference the representatives of the more than 80 States present agreed unanimously to the Helsinki Declaration on the Protection of  the Ozone Layer, which contains an ambitious undertaking to phase out completely the use of ozone-depleting chlorofluorocarbons by the year 2000, or sooner if possible, and to phase out other ozone-depleting substances as soon as possible.\n",
      "It is still too early to draw conclusions from the whole process of transition to independence, but we believe that the programme has been brought back on track thanks to the persistent efforts of the Secretary-General and the competent performance of the UNTAG personnel.\n"
     ]
    }
   ],
   "metadata": {}
  },
  {
   "cell_type": "code",
   "execution_count": 13,
   "source": [
    "from sklearn.feature_extraction.text import TfidfVectorizer\r\n",
    "from nltk import tokenize\r\n",
    "\r\n",
    "def tfidf_summary(text, num_summary_sentence):\r\n",
    "    summary_sentence = []\r\n",
    "    sentences = tokenize.sent_tokenize(text)\r\n",
    "    tfidfVectorizer = TfidfVectorizer()\r\n",
    "    words_tfidf = tfidfVectorizer.fit_transform(sentences)\r\n",
    "    sentence_sum = words_tfidf.sum(axis=1)\r\n",
    "    important_sentences = np.argsort(sentence_sum, axis=0)[::-1]\r\n",
    "    for i in range(0, len(sentences)):\r\n",
    "        if i in important_sentences[:num_summary_sentence]:\r\n",
    "            summary_sentence.append(sentences[i])\r\n",
    "    return summary_sentence"
   ],
   "outputs": [],
   "metadata": {}
  },
  {
   "cell_type": "code",
   "execution_count": 16,
   "source": [
    "where = df['country'].isin(['SGP'])\r\n",
    "sgp_df = data=df[where]\r\n",
    "sgp_df.head()\r\n",
    "\r\n",
    "sample_text = df.query(\"year==2014 and country=='SGP'\")['text'].values[0]\r\n",
    "test_text = tfidf_summary(sample_text, 5)\r\n",
    "\r\n",
    "print(\"\\ntest text: \", test_text)"
   ],
   "outputs": [
    {
     "output_type": "execute_result",
     "data": {
      "text/html": [
       "<div>\n",
       "<style scoped>\n",
       "    .dataframe tbody tr th:only-of-type {\n",
       "        vertical-align: middle;\n",
       "    }\n",
       "\n",
       "    .dataframe tbody tr th {\n",
       "        vertical-align: top;\n",
       "    }\n",
       "\n",
       "    .dataframe thead th {\n",
       "        text-align: right;\n",
       "    }\n",
       "</style>\n",
       "<table border=\"1\" class=\"dataframe tex2jax_ignore\">\n",
       "  <thead>\n",
       "    <tr style=\"text-align: right;\">\n",
       "      <th></th>\n",
       "      <th>session</th>\n",
       "      <th>year</th>\n",
       "      <th>country</th>\n",
       "      <th>text</th>\n",
       "    </tr>\n",
       "  </thead>\n",
       "  <tbody>\n",
       "    <tr>\n",
       "      <th>64</th>\n",
       "      <td>44</td>\n",
       "      <td>1989</td>\n",
       "      <td>SGP</td>\n",
       "      <td>﻿First of all, let me congratulate you on your election to the presidency of the General Assembly at its forty-fourth session. Your unique and ill...</td>\n",
       "    </tr>\n",
       "    <tr>\n",
       "      <th>160</th>\n",
       "      <td>25</td>\n",
       "      <td>1970</td>\n",
       "      <td>SGP</td>\n",
       "      <td>Mr. President, instead of offering you my congratulations as preceding speakers have done, I wish to thank you on behalf of my delegation. We tha...</td>\n",
       "    </tr>\n",
       "    <tr>\n",
       "      <th>240</th>\n",
       "      <td>68</td>\n",
       "      <td>2013</td>\n",
       "      <td>SGP</td>\n",
       "      <td>I warmly \\ncongratulate Mr. John Ashe on his election as President \\nat the sixty-eighth session of the General Assembly and \\nwish him success du...</td>\n",
       "    </tr>\n",
       "    <tr>\n",
       "      <th>449</th>\n",
       "      <td>40</td>\n",
       "      <td>1985</td>\n",
       "      <td>SGP</td>\n",
       "      <td>Allow me to congratulate the President on his assumption of this high office. There are few men in this hall who have been associated with the Uni...</td>\n",
       "    </tr>\n",
       "    <tr>\n",
       "      <th>661</th>\n",
       "      <td>63</td>\n",
       "      <td>2008</td>\n",
       "      <td>SGP</td>\n",
       "      <td>The collapse of the recent \\nDoha talks is deeply troubling. The Doha Development \\nRound was the first round of talks to be launched after \\nthe ...</td>\n",
       "    </tr>\n",
       "  </tbody>\n",
       "</table>\n",
       "</div>"
      ],
      "text/plain": [
       "     session  year country  \\\n",
       "64        44  1989     SGP   \n",
       "160       25  1970     SGP   \n",
       "240       68  2013     SGP   \n",
       "449       40  1985     SGP   \n",
       "661       63  2008     SGP   \n",
       "\n",
       "                                                                                                                                                      text  \n",
       "64   ﻿First of all, let me congratulate you on your election to the presidency of the General Assembly at its forty-fourth session. Your unique and ill...  \n",
       "160   Mr. President, instead of offering you my congratulations as preceding speakers have done, I wish to thank you on behalf of my delegation. We tha...  \n",
       "240  I warmly \\ncongratulate Mr. John Ashe on his election as President \\nat the sixty-eighth session of the General Assembly and \\nwish him success du...  \n",
       "449  Allow me to congratulate the President on his assumption of this high office. There are few men in this hall who have been associated with the Uni...  \n",
       "661  The collapse of the recent \\nDoha talks is deeply troubling. The Doha Development \\nRound was the first round of talks to be launched after \\nthe ...  "
      ]
     },
     "metadata": {},
     "execution_count": 16
    },
    {
     "output_type": "stream",
     "name": "stdout",
     "text": [
      "\n",
      "test text:  ['Security \\nCouncil resolution 2178 (2014), on foreign terrorist \\nfighters, which Singapore co-sponsored, is an important \\nstep to combat global terrorism and will be critical to \\ncutting off financial and material support for ISIS and \\npreventing the movement of foreign terrorist fighters.', 'Regarding the principles for sustainable development, \\nSingapore is participating actively in the discussions \\nfor the post-2015 period, focusing on those areas where \\nwe can contribute — key principles that were critical \\nto our development path and might be relevant to other \\ndeveloping countries.', 'As noted on page \\n17 of the report of the High-level Panel of Eminent \\nPersons on the Post-2015 Development Agenda, cities \\nare where the battle for sustainable development \\nwill be won or lost.', 'This year, we \\nwill observe that Day together with relevant United \\nNations agencies and civil society organizations by \\nfocusing on the serious problems faced by women and \\ngirls who lack basic sanitation access.', 'Let us all work together to ensure that by the \\nseventieth anniversary of the inception of the United \\nNations, in 2015, we can unite around a clear vision \\nof how to provide our future generations the future we \\nwant.']\n"
     ]
    }
   ],
   "metadata": {}
  }
 ],
 "metadata": {
  "orig_nbformat": 4,
  "language_info": {
   "name": "python",
   "version": "3.9.7",
   "mimetype": "text/x-python",
   "codemirror_mode": {
    "name": "ipython",
    "version": 3
   },
   "pygments_lexer": "ipython3",
   "nbconvert_exporter": "python",
   "file_extension": ".py"
  },
  "kernelspec": {
   "name": "python3",
   "display_name": "Python 3.9.7 64-bit ('text': conda)"
  },
  "interpreter": {
   "hash": "5caea8df2d6b3afe4c6a8fa5e4ec8aa952f5ed6f914beaca74edf16901303bb7"
  }
 },
 "nbformat": 4,
 "nbformat_minor": 2
}