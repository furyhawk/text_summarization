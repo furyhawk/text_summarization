{
 "cells": [
  {
   "cell_type": "code",
   "execution_count": 1,
   "source": [
    "import sys, os\r\n",
    "ON_COLAB = 'google.colab' in sys.modules\r\n",
    "\r\n",
    "if ON_COLAB:\r\n",
    "    GIT_ROOT = 'https://github.com/furyhawk/text_summarization/raw/master'\r\n",
    "    os.system(f'wget {GIT_ROOT}/notebooks/setup.py')\r\n",
    "\r\n",
    "%run -i setup.py"
   ],
   "outputs": [
    {
     "output_type": "stream",
     "name": "stdout",
     "text": [
      "You are working on a local system.\n",
      "Files will be searched relative to \"..\".\n"
     ]
    }
   ],
   "metadata": {}
  },
  {
   "cell_type": "code",
   "execution_count": 2,
   "source": [
    "%run \"$BASE_DIR/settings.py\"\r\n",
    "\r\n",
    "%reload_ext autoreload\r\n",
    "%autoreload 2\r\n",
    "%config InlineBackend.figure_format = 'png'\r\n",
    "\r\n",
    "# to print output of all statements and not just the last\r\n",
    "from IPython.core.interactiveshell import InteractiveShell\r\n",
    "InteractiveShell.ast_node_interactivity = \"all\"\r\n",
    "\r\n",
    "# otherwise text between $ signs will be interpreted as formula and printed in italic\r\n",
    "pd.set_option('display.html.use_mathjax', False)\r\n",
    "\r\n",
    "# path to import blueprints packages\r\n",
    "sys.path.append(BASE_DIR + '/packages')"
   ],
   "outputs": [],
   "metadata": {}
  },
  {
   "cell_type": "code",
   "execution_count": 3,
   "source": [
    "# adjust matplotlib resolution\r\n",
    "matplotlib.rcParams.update({'figure.dpi': 200 })"
   ],
   "outputs": [],
   "metadata": {}
  },
  {
   "cell_type": "code",
   "execution_count": 4,
   "source": [
    "from rouge_score import rouge_scorer\r\n",
    "from sklearn.feature_extraction.text import TfidfVectorizer\r\n",
    "from nltk import tokenize\r\n",
    "import matplotlib.pyplot as plt\r\n",
    "import html\r\n",
    "import re\r\n",
    "import random\r\n",
    "import rouge_score\r\n",
    "import wikipediaapi"
   ],
   "outputs": [],
   "metadata": {}
  },
  {
   "cell_type": "code",
   "execution_count": 5,
   "source": [
    "import requests\r\n",
    "from bs4 import BeautifulSoup\r\n",
    "import os.path\r\n",
    "from dateutil import parser\r\n",
    "import pandas as pd\r\n",
    "import numpy as np"
   ],
   "outputs": [],
   "metadata": {}
  },
  {
   "cell_type": "code",
   "execution_count": 6,
   "source": [
    "pd.options.display.max_colwidth = 150 ###\r\n",
    "file = \"un-general-debates-blueprint.csv\"\r\n",
    "file = f\"{BASE_DIR}/data/un-general-debates/un-general-debates.csv.zip\" ### real location\r\n",
    "df = pd.read_csv(file)\r\n",
    "df.sample(2, random_state=53)"
   ],
   "outputs": [
    {
     "output_type": "execute_result",
     "data": {
      "text/html": [
       "<div>\n",
       "<style scoped>\n",
       "    .dataframe tbody tr th:only-of-type {\n",
       "        vertical-align: middle;\n",
       "    }\n",
       "\n",
       "    .dataframe tbody tr th {\n",
       "        vertical-align: top;\n",
       "    }\n",
       "\n",
       "    .dataframe thead th {\n",
       "        text-align: right;\n",
       "    }\n",
       "</style>\n",
       "<table border=\"1\" class=\"dataframe tex2jax_ignore\">\n",
       "  <thead>\n",
       "    <tr style=\"text-align: right;\">\n",
       "      <th></th>\n",
       "      <th>session</th>\n",
       "      <th>year</th>\n",
       "      <th>country</th>\n",
       "      <th>text</th>\n",
       "    </tr>\n",
       "  </thead>\n",
       "  <tbody>\n",
       "    <tr>\n",
       "      <th>3871</th>\n",
       "      <td>42</td>\n",
       "      <td>1987</td>\n",
       "      <td>HND</td>\n",
       "      <td>﻿On behalf of the Government of Honduras I extend to you, Sir, sincere congratulations on your election as President of the forty-second session o...</td>\n",
       "    </tr>\n",
       "    <tr>\n",
       "      <th>4697</th>\n",
       "      <td>35</td>\n",
       "      <td>1980</td>\n",
       "      <td>THA</td>\n",
       "      <td>﻿My delegation takes pleasure in extending to Mr. Riidiger von Wechmar its sincere congratulations on his unanimous election to the presidency of ...</td>\n",
       "    </tr>\n",
       "  </tbody>\n",
       "</table>\n",
       "</div>"
      ],
      "text/plain": [
       "      session  year country  \\\n",
       "3871       42  1987     HND   \n",
       "4697       35  1980     THA   \n",
       "\n",
       "                                                                                                                                                       text  \n",
       "3871  ﻿On behalf of the Government of Honduras I extend to you, Sir, sincere congratulations on your election as President of the forty-second session o...  \n",
       "4697  ﻿My delegation takes pleasure in extending to Mr. Riidiger von Wechmar its sincere congratulations on his unanimous election to the presidency of ...  "
      ]
     },
     "metadata": {},
     "execution_count": 6
    }
   ],
   "metadata": {}
  },
  {
   "cell_type": "markdown",
   "source": [
    "# Summarizing text using topic representation\r\n",
    "## Identifying important words with TF-IDF values\r\n"
   ],
   "metadata": {}
  },
  {
   "cell_type": "code",
   "execution_count": 7,
   "source": [
    "from sklearn.feature_extraction.text import TfidfVectorizer\r\n",
    "from nltk import tokenize\r\n",
    "nltk.download('punkt')\r\n",
    "\r\n",
    "\r\n",
    "sample_text = df['text'].iloc[1]\r\n",
    "print(\"\\nSample:\", sample_text)\r\n",
    "sentences = tokenize.sent_tokenize(sample_text)\r\n",
    "tfidfVectorizer = TfidfVectorizer()\r\n",
    "words_tfidf = tfidfVectorizer.fit_transform(sentences)"
   ],
   "outputs": [
    {
     "output_type": "stream",
     "name": "stderr",
     "text": [
      "[nltk_data] Downloading package punkt to\n",
      "[nltk_data]     C:\\Users\\furyx\\AppData\\Roaming\\nltk_data...\n",
      "[nltk_data]   Unzipping tokenizers\\punkt.zip.\n"
     ]
    },
    {
     "output_type": "execute_result",
     "data": {
      "text/plain": [
       "True"
      ]
     },
     "metadata": {},
     "execution_count": 7
    },
    {
     "output_type": "stream",
     "name": "stdout",
     "text": [
      "\n",
      "Sample: ﻿\n",
      "May I begin by congratulating you. Sir, on your election to the presidency of the General Assembly at its forty-fourth session. Your wide experience in the United Nations makes you especially qualified to guide the Assembly and its deliberations. You have my best wishes for the demanding task that lies ahead of you. May I also express my thanks to the outgoing President, Mr. Dante Caputo, who so ably fulfilled his role on behalf of the Assembly. It gives me particular pleasure to pay tribute to the Secretary-General. We owe a great deal to his authority and leadership.\n",
      "As we are assembled here for the annual general debate, every Member state needs to reflect on certain fundamental questions. Is the United Nations doing everything possible in order to meet its challenges? Are we making progress? Can we say that the United Nations enters the last decade of this century with determination and justified self-confidence? Is my own country doing everything it can in order to help the world Organization? The answers to these questions must be sought in the actual work of the Organization and of its Member States. For my part, I shall try to emphasize some of the challenges we in Finland regard as particularly imports at the present time. It seems to us that the main challenges can be expressed in two words -insecurity and poverty. Both produce fear  d suffering. Neither can be dealt with by any single remedy.\n",
      "The United Nations was created first and foremost in order to maintain international peace and security. In this respect, the past year represents a mixture of success and disappointment. We are encouraged by the high-level dialogues that have continued between the major Powers. we have witnessed with satisfaction such concrete achievements as the continuing progress in the verified dismantling and destruction of American and Soviet intermediate-range nuclear weapons. As one of the participating States in the process of the Conference on Security and cooperation in Europe, Finland follow, closely and with ,much hope the new efforts to achieve substantive conventional disarmament in Europe.\n",
      "At the same time we are concerned about the violence that has erupted and continues in many parts of the world. Most of the underlying problem are already on the agenda of the General Assembly, and we shall express our views on them in due course. Now I want to speak about the global challenges. As regards the process of disarmament on the global level our hopes in Finland are fastened particularly on the preparation of a chemical weapons convention. The political will is there, as was demonstrated again at the conferences held in Paris and in Canberra this year. During this year, as before, Finnish experts have continued their research in order to help to develop appropriate methods that could meet the complex verification requirements  global and comprehensive chemical weapons convention. We expect progress from the protracted negotiations with growing impatience. We welcome the impetus recently given them in the bilateral talks between the United States and the Soviet Union.\n",
      "Security on the global level must take into account other factors in addition to armaments and military threats. Security requires confidence in the future. Such confidence must be felt both by Governments and by their peoples. Only a representative Government that respects human rights and that therefore enjoys the confidence of its own people can face the future with a sense of security and successfully maintain stable relations with other Governments. Some dramatic - in fact, tragic - events have recently illustrated the importance of respect for human rights. We hope that lessons have been learned.\n",
      "Confidence in the future also requires that the other global challenge, that of poverty, be overcome. The sufferings of poverty may not be in evidence everywhere, but the challenge requires global co-operation for development. The Assembly will meet next year in a special session devoted to international economic co-operation. Soon thereafter a new international development strategy for the 1990s should be adopted. A successful special session and a new and realistic strategy should help to bring about a new spirit of international economic co-operation.\n",
      "In the process of preparing both the development strategy and the special session emphasis should be on the development of human resources in all forms, including the recognition of a well-functioning private sector in balance with an effective public sector. In that context funding generated by national and international sources should be well co-ordinated. The necessary investments in developing countries require increasing domestic and external financing.\n",
      "The debt overhang has resulted in the transfer of resources from developing countries, which exceeded $US 50 billion last year, a trend that should be reversed. This requires that a political solution, including a functioning debt strategy, be found. The debt overhang cannot be overcome by the international community at the upcoming special session of the General Assembly and in the new international development strategy. It would be important for the efforts to reverse the transfer of resources from the developing countries if the target of 0.7 per cent of gross national product as development-and transfer were generally reached. For its part, Finland will this year reach that target set by the General Assembly.\n",
      "The structure of the United Nations in the economic and social fields should respond to the tasks to be specified in the strategy for the 1990s, thus -consolidating the role of the world Organization. The Finnish Government finds that the Secretary-General has a major catalytic role to play in putting forward concrete proposals to improve the Organization's effectiveness in those fields. That would also help Governments in agreeing on the areas where they are to concentrate the activities of the United Nations in the economic and social fields. Today I wish to emphasize two issues that must, in my opinion, have a Prominent place in this respect. Development cannot be sustainable if the world population continues to grow at its present rate. Development cannot be sustainable if the natural resources of the Earth continue to be depleted at the present rate. There is a growing awareness of such problems in all parts of the world. That awareness is more and more strongly reflected in the work of the United Nations, it has prompted a number of positive measures. More is needed.\n",
      "According to recent United Nations estimates the world population could stabilize in the twenty-first century at the level of 10 to 11 billion persons. An early stabilisation of population growth would, of course, facilitate the fight against poverty. To reach that goal, determined population policies, translated into national population plans as spelled out in the World Population Plan of Action, should be pursued vigorously.\n",
      "With regard to the protection of the environment, no problem has lately become\n",
      "so apparent and widely recognized as the problem of climate change. Both industrialized and developing countries are directly affected by the depletion of the ozone layer through increasing emissions of carbon dioxides, which produce the so-called greenhouse effect in the climate of the Earth, and by the increasing presence of substances in the atmosphere that cause acid rain and direct dangers to health.\n",
      "It is therefore hardly a surprise that we have witnessed increasing international activity in this field. Several initiatives have been taken to launch concerted international action to combat atmospheric pollution in all its aspects, including climatic change. It is our view that effective strategies and policies should be developed by the international community as soon as possible in all fields relating to environment. That is a major undertaking that requires consolidated effort by the General Assembly and by the relevant United Nations specialized and other agencies. Environmental problems have a universal character. Any new activities should be streamlined with already ongoing action and well-established treaty-making procedures. The General Assembly must play a pivotal role in that effort.\n",
      "Five months ago Finland hosted a Conference of the Parties to the Vienna Convention for the Protection of the Ozone Layer aid the Montreal Protocol on Substances that Deplete the Ozone Layer. Those instruments, of 1985 and 1987 respectively, have this year already been found inadequate in light of the latest advances in knowledge. At the Conference the representatives of the more than 80 States present agreed unanimously to the Helsinki Declaration on the Protection of  the Ozone Layer, which contains an ambitious undertaking to phase out completely the use of ozone-depleting chlorofluorocarbons by the year 2000, or sooner if possible, and to phase out other ozone-depleting substances as soon as possible. We expect that undertaking to be converted into a legally binding decision at next year's meeting of the Parties to the Montreal Protocol. Appropriate measures should also be undertaken to make environmentally sound substitutes widely available to developing countries as soon as possible.\n",
      "In the field of environment protection the problems that are typical in the industrialized countries are often also found in the big urban centres of the developing countries. The problems that are now typical in many developing countries - such as soil erosion and the destruction of forests - illustrate mistakes already committed by earlier generations, most of all in Europe. We can therefore all learn from each other. There is information available about the environment and its protection, and about earlier mistakes. The available knowledge needs to be applied and converted into practical programmes, not only on the level of global strategies, but also on the level of regional, national and local development.\n",
      "In our own development co-operation programmes, we in Finland have emphasized such activities as deforestation, where we feel that we have some experience and expertise. We see deforestation as urgent in order to help stop soil erosion, counteract the greenhouse effect and counterbalance the continued cutting of trees for fuel and for other immediate human needs. In this respect, the development of new and renewable soirees of energy is of crucial importance.\n",
      "On a broader scale, we look forward to the 1992 United Nations Conference on Environment and Development. We see it as representing probably the most important joint effort required of mankind during the remaining part of this century. This session of the General Assembly is called upon to take important decisions for the preparation of the Conference. In that connection, as in all our activities to face up to environmental problems, we in Finland will strongly emphasize the need to support the developing countries in order to ensure that their development is environmentally sustainable.\n",
      "A large part of the burden, particularly for financing research and the introduction of new environmentally sound technologies, will have to be borne by the industrialized countries. We accept our part of this burden, knowing of course that all states will have to share in the efforts according to their capabilities. Since concern for the environment is global, this concern should in our opinion give a further incentive to all States without exception to involve themselves\n",
      "actively in international co-operation for environmentally sound and sustainable development. We also think that the time is ripe for the preparation of structural reforms making the United Nations Organization more responsive to the problems of protecting the environment. My Government has an open mind regarding the various ideas that have been discussed. We would find it natural for this Assembly to take decisions ensuring environmental Questions a permanent and prominent place in the structure of the Organization.\n",
      "One of the activities of the United Nations which has rightly gained prominence during this year is peace-keeping. At the present time, Finland is the biggest contributor of personnel to the United Nations peace-keeping forces. Their total strength is close to 15,000, and the number of Finnish personnel is now almost 2,000. It is therefore with particular satisfaction that we in Finland share the pride felt in this house over the latest Nobel Peace Prize, which was awarded to the United Nations peace-keeping forces. In co-operation with the other Nordic countries, Finland has this year taken steps to share with other interested States its experiences concerning the training and preparation of national contingents for peace-keeping tasks.\n",
      "We are also satisfied at the reactivation of the United Nations Special Committee on Peace-keeping Operations. The accumulated experiences in this field have already grown to such an extent that it is high time indeed to make a thorough review of all practical proposals that may help to strengthen the role of the United Nations in peace-keeping.\n",
      "In this connection, I wish to emphasize the importance of finding a lasting solution to the financial difficulties that still affect current peace-keeping operations, thus indirectly undermining the financial basis of the whole Organization. The idea of having sufficient financial reserves for peacemaking and peace-keeping, particularly for the start-up phase of operations, which my   predecessor put forward in his address to the General Assembly last year, has received support in a number of Quarters. I note in particular that the Secretary-General, in his own report to the General Assembly, has referred to the possibility of establishing a special reserve fund for peace-keeping, to be supported by all Member States. We hope that this idea can soon be followed up in practice with full respect for the principle of collective responsibility. The first condition, in our view, is that Member states should accept the principle of financing all operations without exception through assessed contributions and that they should pay all their assessed contributions in full and on time.\n",
      "The principal factor explaining the recent growth in the participation of Finnish personnel in United Nations peace-keeping is the deployment of an enlarged battalion within the United Nations Transition Assistance Group (UNTAG) in Namibia. A sizable number of volunteer soldiers has thus been added to the two Finnish battalions and smaller units already serving in the Middle East and elsewhere.\n",
      "Namibia is a major test for the United Nations. The beginnings of the UOTAG operations to implement Security Council resolution 435 on the independence of Namibia were unexpectedly rough and difficult. It is still too early to draw conclusions from the whole process of transition to independence, but we believe that the programme has been brought back on track thanks to the persistent efforts of the Secretary-General and the competent performance of the UNTAG personnel. Of course, many problems still remain to be solved and call for our unrelenting attention. We are looking forward with confidence to the moment when we can welcome independent Namibia into our midst as a Member State of the United Nations. For Finland, Namibia will be a major partner in our development co-operation.  The situation in the Middle East continues to pose a persistent threat to international security. The dangers of the absence of peace in the area are demonstrated almost daily. Repressive measures continue in the territories illegally occupied by Israel. The cycle of violence has not been broken. The\n",
      "eking turmoil in Lebanon gives cause for deep concern. There must be a way to or the suffering of the Lebanese people by the common endeavours of the Lebanese themselves, the Arab League and the international community.\n",
      "It is pressingly urgent that the way should be prepared towards an international peace conference and, further, to a comprehensive settlement in the Middle East. There is an almost universal recognition of the basic principles for a settlement. The right of all States in the region to live within secure and recognized boundaries, as well as the right of the Palestinians to national determination, should be recognised. Democratic elections in the occupied territories could facilitate this process. If such elections are properly mentored and take place within the framework of a structured effort, they could provide a link in a process leading to a comprehensive settlement. The momentum for achieving a solution to this long-standing conflict will be lost unless all possible avenues are pursued vigorously and with an open mind. In this respect, the proposals made by President Mubarak of Egypt are welcome and merit serious consideration.\n",
      "The United Nations has manifestly demonstrated its relevance and strengthened its role as a forum for co-ordinated international action. Yet the world Organization and its member States can do more. Serious global problems call for urgent global solutions. Only a re-invigorated United Nations can answer the challenges the world will inevitably face in the 1990s and beyond. Let us unite our forces to make the United Nations capable of meeting those challenges. \n",
      "\n"
     ]
    }
   ],
   "metadata": {}
  },
  {
   "cell_type": "code",
   "execution_count": 8,
   "source": [
    "# Parameter to specify number of summary sentences required\r\n",
    "num_summary_sentence = 3\r\n",
    "\r\n",
    "# Sort the sentences in descending order by the sum of TF-IDF values\r\n",
    "sent_sum = words_tfidf.sum(axis=1)\r\n",
    "important_sent = np.argsort(sent_sum, axis=0)[::-1]\r\n",
    "\r\n",
    "# Print three most important sentences in the order they appear in the article\r\n",
    "for i in range(0, len(sentences)):\r\n",
    "    if i in important_sent[:num_summary_sentence]:\r\n",
    "        print (sentences[i])"
   ],
   "outputs": [
    {
     "output_type": "stream",
     "name": "stdout",
     "text": [
      "Both industrialized and developing countries are directly affected by the depletion of the ozone layer through increasing emissions of carbon dioxides, which produce the so-called greenhouse effect in the climate of the Earth, and by the increasing presence of substances in the atmosphere that cause acid rain and direct dangers to health.\n",
      "At the Conference the representatives of the more than 80 States present agreed unanimously to the Helsinki Declaration on the Protection of  the Ozone Layer, which contains an ambitious undertaking to phase out completely the use of ozone-depleting chlorofluorocarbons by the year 2000, or sooner if possible, and to phase out other ozone-depleting substances as soon as possible.\n",
      "It is still too early to draw conclusions from the whole process of transition to independence, but we believe that the programme has been brought back on track thanks to the persistent efforts of the Secretary-General and the competent performance of the UNTAG personnel.\n"
     ]
    }
   ],
   "metadata": {}
  },
  {
   "cell_type": "code",
   "execution_count": 9,
   "source": [
    "from sklearn.feature_extraction.text import TfidfVectorizer\r\n",
    "from nltk import tokenize\r\n",
    "\r\n",
    "def tfidf_summary(text, num_summary_sentence):\r\n",
    "    summary_sentence = []\r\n",
    "    sentences = tokenize.sent_tokenize(text)\r\n",
    "    tfidfVectorizer = TfidfVectorizer()\r\n",
    "    words_tfidf = tfidfVectorizer.fit_transform(sentences)\r\n",
    "    sentence_sum = words_tfidf.sum(axis=1)\r\n",
    "    important_sentences = np.argsort(sentence_sum, axis=0)[::-1]\r\n",
    "    for i in range(0, len(sentences)):\r\n",
    "        if i in important_sentences[:num_summary_sentence]:\r\n",
    "            summary_sentence.append(sentences[i])\r\n",
    "    return summary_sentence"
   ],
   "outputs": [],
   "metadata": {}
  },
  {
   "cell_type": "code",
   "execution_count": 16,
   "source": [
    "from preparation import clean\r\n",
    "\r\n",
    "# Parameter to specify number of summary sentences required\r\n",
    "num_summary_sentence = 5\r\n",
    "\r\n",
    "where = df['country'].isin(['SGP'])\r\n",
    "sgp_df = data=df[where]\r\n",
    "sgp_df.head()\r\n",
    "\r\n",
    "sample_text = clean(df.query(\"year==2014 and country=='SGP'\")['text'].values[0])\r\n",
    "test_text = tfidf_summary(sample_text, num_summary_sentence)\r\n",
    "\r\n",
    "print(\"\\ntest text: \", test_text)"
   ],
   "outputs": [
    {
     "output_type": "execute_result",
     "data": {
      "text/html": [
       "<div>\n",
       "<style scoped>\n",
       "    .dataframe tbody tr th:only-of-type {\n",
       "        vertical-align: middle;\n",
       "    }\n",
       "\n",
       "    .dataframe tbody tr th {\n",
       "        vertical-align: top;\n",
       "    }\n",
       "\n",
       "    .dataframe thead th {\n",
       "        text-align: right;\n",
       "    }\n",
       "</style>\n",
       "<table border=\"1\" class=\"dataframe tex2jax_ignore\">\n",
       "  <thead>\n",
       "    <tr style=\"text-align: right;\">\n",
       "      <th></th>\n",
       "      <th>session</th>\n",
       "      <th>year</th>\n",
       "      <th>country</th>\n",
       "      <th>text</th>\n",
       "    </tr>\n",
       "  </thead>\n",
       "  <tbody>\n",
       "    <tr>\n",
       "      <th>64</th>\n",
       "      <td>44</td>\n",
       "      <td>1989</td>\n",
       "      <td>SGP</td>\n",
       "      <td>﻿First of all, let me congratulate you on your election to the presidency of the General Assembly at its forty-fourth session. Your unique and ill...</td>\n",
       "    </tr>\n",
       "    <tr>\n",
       "      <th>160</th>\n",
       "      <td>25</td>\n",
       "      <td>1970</td>\n",
       "      <td>SGP</td>\n",
       "      <td>Mr. President, instead of offering you my congratulations as preceding speakers have done, I wish to thank you on behalf of my delegation. We tha...</td>\n",
       "    </tr>\n",
       "    <tr>\n",
       "      <th>240</th>\n",
       "      <td>68</td>\n",
       "      <td>2013</td>\n",
       "      <td>SGP</td>\n",
       "      <td>I warmly \\ncongratulate Mr. John Ashe on his election as President \\nat the sixty-eighth session of the General Assembly and \\nwish him success du...</td>\n",
       "    </tr>\n",
       "    <tr>\n",
       "      <th>449</th>\n",
       "      <td>40</td>\n",
       "      <td>1985</td>\n",
       "      <td>SGP</td>\n",
       "      <td>Allow me to congratulate the President on his assumption of this high office. There are few men in this hall who have been associated with the Uni...</td>\n",
       "    </tr>\n",
       "    <tr>\n",
       "      <th>661</th>\n",
       "      <td>63</td>\n",
       "      <td>2008</td>\n",
       "      <td>SGP</td>\n",
       "      <td>The collapse of the recent \\nDoha talks is deeply troubling. The Doha Development \\nRound was the first round of talks to be launched after \\nthe ...</td>\n",
       "    </tr>\n",
       "  </tbody>\n",
       "</table>\n",
       "</div>"
      ],
      "text/plain": [
       "     session  year country  \\\n",
       "64        44  1989     SGP   \n",
       "160       25  1970     SGP   \n",
       "240       68  2013     SGP   \n",
       "449       40  1985     SGP   \n",
       "661       63  2008     SGP   \n",
       "\n",
       "                                                                                                                                                      text  \n",
       "64   ﻿First of all, let me congratulate you on your election to the presidency of the General Assembly at its forty-fourth session. Your unique and ill...  \n",
       "160   Mr. President, instead of offering you my congratulations as preceding speakers have done, I wish to thank you on behalf of my delegation. We tha...  \n",
       "240  I warmly \\ncongratulate Mr. John Ashe on his election as President \\nat the sixty-eighth session of the General Assembly and \\nwish him success du...  \n",
       "449  Allow me to congratulate the President on his assumption of this high office. There are few men in this hall who have been associated with the Uni...  \n",
       "661  The collapse of the recent \\nDoha talks is deeply troubling. The Doha Development \\nRound was the first round of talks to be launched after \\nthe ...  "
      ]
     },
     "metadata": {},
     "execution_count": 16
    },
    {
     "output_type": "stream",
     "name": "stdout",
     "text": [
      "\n",
      "test text:  ['Security Council resolution 2178 (2014), on foreign terrorist fighters, which Singapore co-sponsored, is an important step to combat global terrorism and will be critical to cutting off financial and material support for ISIS and preventing the movement of foreign terrorist fighters.', 'Regarding the principles for sustainable development, Singapore is participating actively in the discussions for the post-2015 period, focusing on those areas where we can contribute — key principles that were critical to our development path and might be relevant to other developing countries.', 'As noted on page 17 of the report of the High-level Panel of Eminent Persons on the Post-2015 Development Agenda, cities are where the battle for sustainable development will be won or lost.', 'This year, we will observe that Day together with relevant United Nations agencies and civil society organizations by focusing on the serious problems faced by women and girls who lack basic sanitation access.', 'Let us all work together to ensure that by the seventieth anniversary of the inception of the United Nations, in 2015, we can unite around a clear vision of how to provide our future generations the future we want.']\n"
     ]
    }
   ],
   "metadata": {}
  },
  {
   "cell_type": "code",
   "execution_count": 34,
   "source": [
    "from sumy.parsers.plaintext import PlaintextParser\r\n",
    "from sumy.nlp.tokenizers import Tokenizer\r\n",
    "from sumy.nlp.stemmers import Stemmer\r\n",
    "from sumy.utils import get_stop_words\r\n",
    "\r\n",
    "from sumy.summarizers.lsa import LsaSummarizer\r\n",
    "\r\n",
    "LANGUAGE = \"english\"\r\n",
    "stemmer = Stemmer(LANGUAGE)\r\n",
    "\r\n",
    "parser = PlaintextParser.from_string(article1['text'], Tokenizer(LANGUAGE))\r\n",
    "summarizer = LsaSummarizer(stemmer)\r\n",
    "summarizer.stop_words = get_stop_words(LANGUAGE)\r\n",
    "\r\n",
    "for sentence in summarizer(parser.document, num_summary_sentence):\r\n",
    "    print (str(sentence))"
   ],
   "outputs": [
    {
     "output_type": "stream",
     "name": "stdout",
     "text": [
      "LONDON/SAN FRANCISCO (Reuters) - U.S. President Donald Trump has blocked microchip maker Broadcom Ltd’s (AVGO.O) $117 billion takeover of rival Qualcomm (QCOM.O) amid concerns that it would give China the upper hand in the next generation of mobile communications, or 5G.\n",
      "Moving to new networks promises to enable new mobile services and even whole new business models, but could pose challenges for countries and industries unprepared to invest in the transition.\n",
      "The concern is that a takeover by Singapore-based Broadcom could see the firm cut research and development spending by Qualcomm or hive off strategically important parts of the company to other buyers, including in China, U.S. officials and analysts have said.\n"
     ]
    }
   ],
   "metadata": {}
  },
  {
   "cell_type": "code",
   "execution_count": 35,
   "source": [
    "\r\n",
    "from sumy.parsers.plaintext import PlaintextParser\r\n",
    "from sumy.nlp.tokenizers import Tokenizer\r\n",
    "from sumy.nlp.stemmers import Stemmer\r\n",
    "from sumy.utils import get_stop_words\r\n",
    "from sumy.summarizers.lsa import LsaSummarizer\r\n",
    "\r\n",
    "def lsa_summary(text, num_summary_sentence):\r\n",
    "    summary_sentence = []\r\n",
    "    LANGUAGE = \"english\"\r\n",
    "    stemmer = Stemmer(LANGUAGE)\r\n",
    "    parser = PlaintextParser.from_string(text, Tokenizer(LANGUAGE))\r\n",
    "    summarizer = LsaSummarizer(stemmer)\r\n",
    "    summarizer.stop_words = get_stop_words(LANGUAGE)\r\n",
    "    for sentence in summarizer(parser.document, num_summary_sentence):\r\n",
    "        summary_sentence.append(str(sentence))\r\n",
    "    return summary_sentence"
   ],
   "outputs": [],
   "metadata": {}
  },
  {
   "cell_type": "code",
   "execution_count": 24,
   "source": [
    "def download_article(url):\r\n",
    "    # check if article already there\r\n",
    "    filename = url.split(\"/\")[-1] + \".html\"\r\n",
    "    filename = f\"{BASE_DIR}/notebooks/\" + filename\r\n",
    "    if not os.path.isfile(filename):\r\n",
    "        r = requests.get(url)\r\n",
    "        with open(filename, \"w+\") as f:\r\n",
    "            f.write(r.text)\r\n",
    "    return filename\r\n"
   ],
   "outputs": [],
   "metadata": {}
  },
  {
   "cell_type": "code",
   "execution_count": 25,
   "source": [
    "def parse_article(article_file):\r\n",
    "    with open(article_file, \"r\") as f:\r\n",
    "        html = f.read()\r\n",
    "    r = {}\r\n",
    "    soup = BeautifulSoup(html, 'html.parser')\r\n",
    "    r['id'] = soup.select_one(\"div.StandardArticle_inner-container\")['id']\r\n",
    "    r['url'] = soup.find(\"link\", {'rel': 'canonical'})['href']\r\n",
    "    r['headline'] = soup.h1.text\r\n",
    "    r['section'] = soup.select_one(\"div.ArticleHeader_channel a\").text\r\n",
    "    \r\n",
    "    r['text'] = soup.select_one(\"div.StandardArticleBody_body\").text\r\n",
    "    r['authors'] = [a.text \r\n",
    "                    for a in soup.select(\"div.BylineBar_first-container.ArticleHeader_byline-bar\\\r\n",
    "                                          div.BylineBar_byline span\")]\r\n",
    "    r['time'] = soup.find(\"meta\", { 'property': \"og:article:published_time\"})['content']\r\n",
    "    return r"
   ],
   "outputs": [],
   "metadata": {}
  },
  {
   "cell_type": "code",
   "execution_count": 28,
   "source": [
    "import reprlib\r\n",
    "r = reprlib.Repr()\r\n",
    "r.maxstring = 800\r\n",
    "\r\n",
    "url1 = \"https://www.reuters.com/article/us-qualcomm-m-a-broadcom-5g/what-is-5g-and-who-are-the-major-players-idUSKCN1GR1IN\"\r\n",
    "article_name1 = download_article(url1)\r\n",
    "article1 = parse_article(article_name1)\r\n",
    "print ('Article Published on', r.repr(article1['time']))\r\n",
    "print (r.repr(article1['text']))"
   ],
   "outputs": [
    {
     "output_type": "stream",
     "name": "stdout",
     "text": [
      "Article Published on '2018-03-15T11:36:28+0000'\n",
      "'LONDON/SAN FRANCISCO (Reuters) - U.S. President Donald Trump has blocked microchip maker Broadcom Ltd’s (AVGO.O) $117 billion takeover of rival Qualcomm (QCOM.O) amid concerns that it would give China the upper hand in the next generation of mobile communications, or 5G. A 5G sign is seen at the Mobile World Congress in Barcelona, Spain February 28, 2018. REUTERS/Yves HermanBelow are some facts... 4G wireless and looks set to top the list of patent holders heading into the 5G cycle. Huawei, Nokia, Ericsson and others are also vying to amass 5G patents, which has helped spur complex cross-licensing agreements like the deal struck late last year Nokia and Huawei around handsets. Editing by Kim Miyoung in Singapore and Jason Neely in LondonOur Standards:The Thomson Reuters Trust Principles.'\n"
     ]
    }
   ],
   "metadata": {}
  },
  {
   "cell_type": "code",
   "execution_count": 29,
   "source": [
    "print(article1['text'])\r\n",
    "\r\n"
   ],
   "outputs": [
    {
     "output_type": "stream",
     "name": "stdout",
     "text": [
      "LONDON/SAN FRANCISCO (Reuters) - U.S. President Donald Trump has blocked microchip maker Broadcom Ltd’s (AVGO.O) $117 billion takeover of rival Qualcomm (QCOM.O) amid concerns that it would give China the upper hand in the next generation of mobile communications, or 5G. A 5G sign is seen at the Mobile World Congress in Barcelona, Spain February 28, 2018. REUTERS/Yves HermanBelow are some facts about 5G and major players. WHAT IS 5G? 5G networks, now in the final testing stage, will rely on denser arrays of small antennas and the cloud to offer data speeds up to 50 or 100 times faster than current 4G networks and serve as critical infrastructure for a range of industries. Deals to start building mass-market 5G networks are still largely a year away, but by 2025, 1.2 billion people are set to have access to 5G networks - a third of them in China, according to the global wireless trade group GSMA. Moving to new networks promises to enable new mobile services and even whole new business models, but could pose challenges for countries and industries unprepared to invest in the transition. Unlike the upgrades of cellular standards 2G in the early 1990s, 3G around the millennium and 4G in 2010, 5G standards will deliver not just faster phone and computer data but also help connect up cars, machines, cargo and crop equipment. WHY IS THE U.S. WORRIED? The Committee on Foreign Investment in the United States (CFIUS), which vets acquisitions of U.S. corporations by foreign companies, said the Broadcom takeover risked weakening Qualcomm, which would boost China over the United States in the 5G race. Acquiring Qualcomm would represent the jewel in the crown of Broadcom’s portfolio of communications chips, which supply wi-fi, power management, video and other features in smartphones alongside Qualcomm’s core baseband chips - radio modems that wirelessly connect phones to networks. The concern is that a takeover by Singapore-based Broadcom could see the firm cut research and development spending by Qualcomm or hive off strategically important parts of the company to other buyers, including in China, U.S. officials and analysts have said. 5G promises to open up the clubby world of telecom equipment by creating openings for a far wider range of players in hardware, software and semiconductors, many of them from Asia, increasing the dependence of Silicon Valley on foreign players. MAJOR PLAYERS Before the new technology becomes a reality for consumers, two transitions need to take place. Mobile operators have to upgrade their networks with 5G gear made by the likes of Huawei [HWT.UL] and ZTE 0000630.SZ of China, Sweden’s Ericsson (ERICb.ST) and Finland’s Nokia (NOKIA.HE). And phone makers need to make handsets with built-in 5G radios ready to hook up to networks.  Qualcomm (QCOM.O) is the dominant player in smartphone communications chips, making half of all core baseband radio chips in smartphones. It is one of the last big U.S. technology companies with a major role in mobile communications hardware.  Most other baseband chips come from Asia: MediaTek (2454.TW) of Taiwan holds about one quarter of the market, while Samsung Electronics (005930.KS) and Huawei [HWT.UL] - two big smartphone makers - develop chips for their own devices. Huawei does through a subsidiary known as HiSilicon.   Its dominant position in 5G comes from its mastery of two areas: getting its patents adopted in what are known as standards and then selling the chip designs that work with those standards. Slideshow (2 Images)The standards are set by a global body to ensure all phones work across different mobile networks, and whoever’s essential patents end up making it into the standard stands to reap huge royalty licensing revenue streams. Qualcomm has landed a number of these foundational patents, which means that both handset makers and telecommunications gear makers will have to pay it licensing fees.  It dominated standards setting in 3G and 4G wireless and looks set to top the list of patent holders heading into the 5G cycle. Huawei, Nokia, Ericsson and others are also vying to amass 5G patents, which has helped spur complex cross-licensing agreements like the deal struck late last year Nokia and Huawei around handsets. Editing by Kim Miyoung in Singapore and Jason Neely in LondonOur Standards:The Thomson Reuters Trust Principles.\n"
     ]
    }
   ],
   "metadata": {}
  },
  {
   "cell_type": "code",
   "execution_count": 30,
   "source": [
    "\r\n",
    "r.maxstring = 800\r\n",
    "url2 = \"https://www.reuters.com/article/us-usa-economy-watchlist-graphic/predicting-the-next-u-s-recession-idUSKCN1V31JE\"\r\n",
    "article_name2 = download_article(url2)\r\n",
    "article2 = parse_article(article_name2)\r\n",
    "print ('Article Published', r.repr(article1['time']))\r\n",
    "print (r.repr(article2['text']))\r\n"
   ],
   "outputs": [
    {
     "output_type": "stream",
     "name": "stdout",
     "text": [
      "Article Published '2018-03-15T11:36:28+0000'\n",
      "'NEW YORK A protracted trade war between China and the United States, the world’s largest economies, and a deteriorating global growth outlook has left investors apprehensive about the end to the longest expansion in American history. FILE PHOTO: Ships and shipping containers are pictured at the port of Long Beach in Long Beach, California, U.S., January 30, 2019.   REUTERS/Mike BlakeThe recent ...hton wrote in the June Cass Freight Index report.  12. MISERY INDEX The so-called Misery Index adds together the unemployment rate and the inflation rate. It typically rises during recessions and sometimes prior to downturns. It has slipped lower in 2019 and does not look very miserable.  Reporting by Saqib Iqbal Ahmed; Editing by Chizu NomiyamaOur Standards:The Thomson Reuters Trust Principles.'\n"
     ]
    }
   ],
   "metadata": {}
  },
  {
   "cell_type": "code",
   "execution_count": 39,
   "source": [
    "\r\n",
    "summary_sentence = tfidf_summary(sample_text, num_summary_sentence)\r\n",
    "for sentence in summary_sentence:\r\n",
    "    print (sentence)"
   ],
   "outputs": [
    {
     "output_type": "stream",
     "name": "stdout",
     "text": [
      "Security Council resolution 2178 (2014), on foreign terrorist fighters, which Singapore co-sponsored, is an important step to combat global terrorism and will be critical to cutting off financial and material support for ISIS and preventing the movement of foreign terrorist fighters.\n",
      "Regarding the principles for sustainable development, Singapore is participating actively in the discussions for the post-2015 period, focusing on those areas where we can contribute — key principles that were critical to our development path and might be relevant to other developing countries.\n",
      "This year, we will observe that Day together with relevant United Nations agencies and civil society organizations by focusing on the serious problems faced by women and girls who lack basic sanitation access.\n"
     ]
    }
   ],
   "metadata": {}
  },
  {
   "cell_type": "code",
   "execution_count": 40,
   "source": [
    "from sumy.summarizers.text_rank import TextRankSummarizer\r\n",
    "\r\n",
    "parser = PlaintextParser.from_string(sample_text, Tokenizer(LANGUAGE))\r\n",
    "summarizer = TextRankSummarizer(stemmer)\r\n",
    "summarizer.stop_words = get_stop_words(LANGUAGE)\r\n",
    "\r\n",
    "for sentence in summarizer(parser.document, num_summary_sentence):\r\n",
    "    print (str(sentence))"
   ],
   "outputs": [
    {
     "output_type": "stream",
     "name": "stdout",
     "text": [
      "Regarding the principles for sustainable development, Singapore is participating actively in the discussions for the post-2015 period, focusing on those areas where we can contribute — key principles that were critical to our development path and might be relevant to other developing countries.\n",
      "The outcome document of the United Nations Conference on Sustainable Development (resolution 66/288, annex) itself recognizes that well-planned cities promote economically, socially and environmentally sustainable societies.\n",
      "In 1992, we set up the Singapore Cooperation Programme to share our development experience, the successes and the failures alike, with other developing countries.\n"
     ]
    }
   ],
   "metadata": {}
  },
  {
   "cell_type": "code",
   "execution_count": 38,
   "source": [
    "from sumy.parsers.plaintext import PlaintextParser\r\n",
    "from sumy.nlp.tokenizers import Tokenizer\r\n",
    "from sumy.nlp.stemmers import Stemmer\r\n",
    "from sumy.utils import get_stop_words\r\n",
    "from sumy.summarizers.text_rank import TextRankSummarizer\r\n",
    "\r\n",
    "def textrank_summary(text, num_summary_sentence):\r\n",
    "    summary_sentence = []\r\n",
    "    LANGUAGE = \"english\"\r\n",
    "    stemmer = Stemmer(LANGUAGE)\r\n",
    "    parser = PlaintextParser.from_string(text, Tokenizer(LANGUAGE))\r\n",
    "    summarizer = TextRankSummarizer(stemmer)\r\n",
    "    summarizer.stop_words = get_stop_words(LANGUAGE)\r\n",
    "    for sentence in summarizer(parser.document, num_summary_sentence):\r\n",
    "        summary_sentence.append(str(sentence))\r\n",
    "    return summary_sentence"
   ],
   "outputs": [],
   "metadata": {}
  },
  {
   "cell_type": "code",
   "execution_count": 42,
   "source": [
    "parser = PlaintextParser.from_string(article1['text'], Tokenizer(LANGUAGE))\r\n",
    "summarizer = TextRankSummarizer(stemmer)\r\n",
    "summarizer.stop_words = get_stop_words(LANGUAGE)\r\n",
    "\r\n",
    "for sentence in summarizer(parser.document, num_summary_sentence):\r\n",
    "    print (str(sentence))"
   ],
   "outputs": [
    {
     "output_type": "stream",
     "name": "stdout",
     "text": [
      "Acquiring Qualcomm would represent the jewel in the crown of Broadcom’s portfolio of communications chips, which supply wi-fi, power management, video and other features in smartphones alongside Qualcomm’s core baseband chips - radio modems that wirelessly connect phones to networks.\n",
      "Qualcomm (QCOM.O) is the dominant player in smartphone communications chips, making half of all core baseband radio chips in smartphones.\n",
      "Slideshow (2 Images)The standards are set by a global body to ensure all phones work across different mobile networks, and whoever’s essential patents end up making it into the standard stands to reap huge royalty licensing revenue streams.\n"
     ]
    }
   ],
   "metadata": {}
  },
  {
   "cell_type": "code",
   "execution_count": null,
   "source": [],
   "outputs": [],
   "metadata": {}
  },
  {
   "cell_type": "markdown",
   "source": [
    "# Measuring the performance of Text Summarization methods"
   ],
   "metadata": {}
  },
  {
   "cell_type": "code",
   "execution_count": 44,
   "source": [
    "def print_rouge_score(rouge_score):\r\n",
    "    for k,v in rouge_score.items():\r\n",
    "        print (k, 'Precision:', \"{:.2f}\".format(v.precision), 'Recall:', \"{:.2f}\".format(v.recall), 'fmeasure:', \"{:.2f}\".format(v.fmeasure))"
   ],
   "outputs": [],
   "metadata": {}
  },
  {
   "cell_type": "code",
   "execution_count": 45,
   "source": [
    "num_summary_sentence = 3 ##\r\n",
    "gold_standard = article2['headline']\r\n",
    "summary = \"\"\r\n",
    "\r\n",
    "summary = ''.join(textrank_summary(article2['text'], num_summary_sentence))\r\n",
    "scorer = rouge_scorer.RougeScorer(['rouge1'], use_stemmer=True)\r\n",
    "scores = scorer.score(gold_standard, summary)\r\n",
    "print_rouge_score(scores)"
   ],
   "outputs": [
    {
     "output_type": "stream",
     "name": "stdout",
     "text": [
      "rouge1 Precision: 0.06 Recall: 0.83 fmeasure: 0.11\n"
     ]
    }
   ],
   "metadata": {}
  },
  {
   "cell_type": "code",
   "execution_count": 64,
   "source": [
    "# \r\n",
    "\r\n",
    "type_of_article = 'business'  # entertainment, politices, sport, tech\r\n",
    "root_path = f'../data/BBC News Summary'\r\n",
    "num_of_article = len(os.listdir(f\"{root_path}/News Articles/{type_of_article}\"))\r\n",
    "\r\n",
    "print(f'\"Reading{type_of_article} articles\"')\r\n",
    "df = pd.DataFrame(columns=['title','article','summary'])\r\n",
    "\r\n",
    "for i in tqdm(range(num_of_article)):\r\n",
    "    with open(f'{root_path}/News Articles/{type_of_article}/{(i+1):03d}.txt', 'r') as f:\r\n",
    "        article = f.read() #.splitlines()\r\n",
    "    with open(f'{root_path}/Summaries/{type_of_article}/{(i+1):03d}.txt', 'r') as f:\r\n",
    "        summary = f.read() #.splitlines()\r\n",
    "    if len(summary) >=2:\r\n",
    "        print(i)\r\n",
    "    df.loc[i] = [article[0],article[2:],summary]"
   ],
   "outputs": [
    {
     "output_type": "stream",
     "name": "stdout",
     "text": [
      "\"Readingbusiness articles\"\n"
     ]
    },
    {
     "output_type": "stream",
     "name": "stderr",
     "text": [
      "  0%|          | 2/510 [00:00<00:27, 18.78it/s]"
     ]
    },
    {
     "output_type": "stream",
     "name": "stdout",
     "text": [
      "0\n",
      "1\n",
      "2\n"
     ]
    },
    {
     "output_type": "stream",
     "name": "stderr",
     "text": [
      "  1%|          | 4/510 [00:00<00:34, 14.88it/s]"
     ]
    },
    {
     "output_type": "stream",
     "name": "stdout",
     "text": [
      "3\n",
      "4\n"
     ]
    },
    {
     "output_type": "stream",
     "name": "stderr",
     "text": [
      "  2%|▏         | 8/510 [00:00<00:38, 12.90it/s]"
     ]
    },
    {
     "output_type": "stream",
     "name": "stdout",
     "text": [
      "5\n",
      "6\n",
      "7\n"
     ]
    },
    {
     "output_type": "stream",
     "name": "stderr",
     "text": [
      "  2%|▏         | 10/510 [00:00<00:38, 12.93it/s]"
     ]
    },
    {
     "output_type": "stream",
     "name": "stdout",
     "text": [
      "8\n",
      "9\n",
      "10\n",
      "11\n"
     ]
    },
    {
     "output_type": "stream",
     "name": "stderr",
     "text": [
      "  3%|▎         | 14/510 [00:00<00:32, 15.07it/s]"
     ]
    },
    {
     "output_type": "stream",
     "name": "stdout",
     "text": [
      "12\n",
      "13\n",
      "14\n",
      "15\n"
     ]
    },
    {
     "output_type": "stream",
     "name": "stderr",
     "text": [
      "  4%|▎         | 19/510 [00:01<00:36, 13.46it/s]"
     ]
    },
    {
     "output_type": "stream",
     "name": "stdout",
     "text": [
      "16\n",
      "17\n",
      "18\n"
     ]
    },
    {
     "output_type": "stream",
     "name": "stderr",
     "text": [
      "  4%|▍         | 21/510 [00:01<00:37, 13.12it/s]"
     ]
    },
    {
     "output_type": "stream",
     "name": "stdout",
     "text": [
      "19\n",
      "20\n",
      "21\n"
     ]
    },
    {
     "output_type": "stream",
     "name": "stderr",
     "text": [
      "  5%|▍         | 25/510 [00:01<00:35, 13.81it/s]"
     ]
    },
    {
     "output_type": "stream",
     "name": "stdout",
     "text": [
      "22\n",
      "23\n",
      "24\n",
      "25\n"
     ]
    },
    {
     "output_type": "stream",
     "name": "stderr",
     "text": [
      "  5%|▌         | 27/510 [00:02<00:37, 12.81it/s]"
     ]
    },
    {
     "output_type": "stream",
     "name": "stdout",
     "text": [
      "26\n",
      "27\n",
      "28\n"
     ]
    },
    {
     "output_type": "stream",
     "name": "stderr",
     "text": [
      "  6%|▋         | 33/510 [00:02<00:32, 14.46it/s]"
     ]
    },
    {
     "output_type": "stream",
     "name": "stdout",
     "text": [
      "29\n",
      "30\n",
      "31\n",
      "32\n"
     ]
    },
    {
     "output_type": "stream",
     "name": "stderr",
     "text": [
      "  7%|▋         | 35/510 [00:02<00:37, 12.52it/s]"
     ]
    },
    {
     "output_type": "stream",
     "name": "stdout",
     "text": [
      "33\n",
      "34\n"
     ]
    },
    {
     "output_type": "stream",
     "name": "stderr",
     "text": [
      "  7%|▋         | 37/510 [00:02<00:39, 11.83it/s]"
     ]
    },
    {
     "output_type": "stream",
     "name": "stdout",
     "text": [
      "35\n",
      "36\n",
      "37\n"
     ]
    },
    {
     "output_type": "stream",
     "name": "stderr",
     "text": [
      "  8%|▊         | 41/510 [00:03<00:37, 12.46it/s]"
     ]
    },
    {
     "output_type": "stream",
     "name": "stdout",
     "text": [
      "38\n",
      "39\n",
      "40\n",
      "41\n"
     ]
    },
    {
     "output_type": "stream",
     "name": "stderr",
     "text": [
      "  9%|▊         | 44/510 [00:03<00:31, 14.99it/s]"
     ]
    },
    {
     "output_type": "stream",
     "name": "stdout",
     "text": [
      "42\n",
      "43\n",
      "44\n"
     ]
    },
    {
     "output_type": "stream",
     "name": "stderr",
     "text": [
      "  9%|▉         | 46/510 [00:03<00:33, 13.67it/s]"
     ]
    },
    {
     "output_type": "stream",
     "name": "stdout",
     "text": [
      "45\n",
      "46\n",
      "47\n"
     ]
    },
    {
     "output_type": "stream",
     "name": "stderr",
     "text": [
      " 10%|▉         | 50/510 [00:03<00:36, 12.50it/s]"
     ]
    },
    {
     "output_type": "stream",
     "name": "stdout",
     "text": [
      "48\n",
      "49\n",
      "50\n",
      "51"
     ]
    },
    {
     "output_type": "stream",
     "name": "stderr",
     "text": [
      " 10%|█         | 52/510 [00:03<00:33, 13.84it/s]"
     ]
    },
    {
     "output_type": "stream",
     "name": "stdout",
     "text": [
      "\n",
      "52\n",
      "53\n"
     ]
    },
    {
     "output_type": "stream",
     "name": "stderr",
     "text": [
      " 11%|█         | 56/510 [00:04<00:36, 12.52it/s]"
     ]
    },
    {
     "output_type": "stream",
     "name": "stdout",
     "text": [
      "54\n",
      "55\n",
      "56\n"
     ]
    },
    {
     "output_type": "stream",
     "name": "stderr",
     "text": [
      " 12%|█▏        | 60/510 [00:04<00:37, 12.04it/s]"
     ]
    },
    {
     "output_type": "stream",
     "name": "stdout",
     "text": [
      "57\n",
      "58\n",
      "59\n"
     ]
    },
    {
     "output_type": "stream",
     "name": "stderr",
     "text": [
      " 12%|█▏        | 62/510 [00:04<00:39, 11.22it/s]"
     ]
    },
    {
     "output_type": "stream",
     "name": "stdout",
     "text": [
      "60\n",
      "61\n",
      "62\n"
     ]
    },
    {
     "output_type": "stream",
     "name": "stderr",
     "text": [
      " 13%|█▎        | 64/510 [00:04<00:37, 12.04it/s]"
     ]
    },
    {
     "output_type": "stream",
     "name": "stdout",
     "text": [
      "63\n",
      "64\n"
     ]
    },
    {
     "output_type": "stream",
     "name": "stderr",
     "text": [
      " 13%|█▎        | 66/510 [00:05<00:45,  9.71it/s]"
     ]
    },
    {
     "output_type": "stream",
     "name": "stdout",
     "text": [
      "65\n",
      "66\n",
      "67\n"
     ]
    },
    {
     "output_type": "stream",
     "name": "stderr",
     "text": [
      " 14%|█▎        | 70/510 [00:05<00:41, 10.63it/s]"
     ]
    },
    {
     "output_type": "stream",
     "name": "stdout",
     "text": [
      "68\n",
      "69\n"
     ]
    },
    {
     "output_type": "stream",
     "name": "stderr",
     "text": [
      " 14%|█▍        | 72/510 [00:05<00:43,  9.99it/s]"
     ]
    },
    {
     "output_type": "stream",
     "name": "stdout",
     "text": [
      "70\n",
      "71\n"
     ]
    },
    {
     "output_type": "stream",
     "name": "stderr",
     "text": [
      " 15%|█▍        | 74/510 [00:06<00:42, 10.32it/s]"
     ]
    },
    {
     "output_type": "stream",
     "name": "stdout",
     "text": [
      "72\n",
      "73\n"
     ]
    },
    {
     "output_type": "stream",
     "name": "stderr",
     "text": [
      " 15%|█▍        | 76/510 [00:06<00:49,  8.71it/s]"
     ]
    },
    {
     "output_type": "stream",
     "name": "stdout",
     "text": [
      "74\n",
      "75\n",
      "76\n",
      "77\n"
     ]
    },
    {
     "output_type": "stream",
     "name": "stderr",
     "text": [
      " 16%|█▌        | 80/510 [00:06<00:37, 11.43it/s]"
     ]
    },
    {
     "output_type": "stream",
     "name": "stdout",
     "text": [
      "78\n",
      "79\n",
      "80\n"
     ]
    },
    {
     "output_type": "stream",
     "name": "stderr",
     "text": [
      " 16%|█▌        | 82/510 [00:06<00:37, 11.57it/s]"
     ]
    },
    {
     "output_type": "stream",
     "name": "stdout",
     "text": [
      "81\n",
      "82\n"
     ]
    },
    {
     "output_type": "stream",
     "name": "stderr",
     "text": [
      " 17%|█▋        | 86/510 [00:07<00:39, 10.80it/s]"
     ]
    },
    {
     "output_type": "stream",
     "name": "stdout",
     "text": [
      "83\n",
      "84\n",
      "85\n"
     ]
    },
    {
     "output_type": "stream",
     "name": "stderr",
     "text": [
      " 17%|█▋        | 88/510 [00:07<00:39, 10.63it/s]"
     ]
    },
    {
     "output_type": "stream",
     "name": "stdout",
     "text": [
      "86\n",
      "87\n",
      "88\n"
     ]
    },
    {
     "output_type": "stream",
     "name": "stderr",
     "text": [
      " 18%|█▊        | 92/510 [00:07<00:36, 11.50it/s]"
     ]
    },
    {
     "output_type": "stream",
     "name": "stdout",
     "text": [
      "89\n",
      "90\n",
      "91\n",
      "92\n"
     ]
    },
    {
     "output_type": "stream",
     "name": "stderr",
     "text": [
      " 18%|█▊        | 94/510 [00:07<00:34, 12.14it/s]"
     ]
    },
    {
     "output_type": "stream",
     "name": "stdout",
     "text": [
      "93\n",
      "94\n",
      "95\n"
     ]
    },
    {
     "output_type": "stream",
     "name": "stderr",
     "text": [
      " 19%|█▉        | 98/510 [00:08<00:38, 10.76it/s]"
     ]
    },
    {
     "output_type": "stream",
     "name": "stdout",
     "text": [
      "96\n",
      "97\n"
     ]
    },
    {
     "output_type": "stream",
     "name": "stderr",
     "text": [
      " 20%|█▉        | 100/510 [00:08<00:37, 10.96it/s]"
     ]
    },
    {
     "output_type": "stream",
     "name": "stdout",
     "text": [
      "98\n",
      "99\n",
      "100\n",
      "101\n"
     ]
    },
    {
     "output_type": "stream",
     "name": "stderr",
     "text": [
      " 20%|██        | 104/510 [00:08<00:40,  9.94it/s]"
     ]
    },
    {
     "output_type": "stream",
     "name": "stdout",
     "text": [
      "102\n",
      "103\n"
     ]
    },
    {
     "output_type": "stream",
     "name": "stderr",
     "text": [
      " 21%|██        | 106/510 [00:09<00:40,  9.93it/s]"
     ]
    },
    {
     "output_type": "stream",
     "name": "stdout",
     "text": [
      "104\n",
      "105\n",
      "106\n",
      "107\n"
     ]
    },
    {
     "output_type": "stream",
     "name": "stderr",
     "text": [
      " 21%|██▏       | 109/510 [00:09<00:33, 12.08it/s]"
     ]
    },
    {
     "output_type": "stream",
     "name": "stdout",
     "text": [
      "108\n",
      "109\n",
      "110\n"
     ]
    },
    {
     "output_type": "stream",
     "name": "stderr",
     "text": [
      " 22%|██▏       | 113/510 [00:09<00:37, 10.65it/s]"
     ]
    },
    {
     "output_type": "stream",
     "name": "stdout",
     "text": [
      "111\n",
      "112\n",
      "113"
     ]
    },
    {
     "output_type": "stream",
     "name": "stderr",
     "text": [
      " 23%|██▎       | 115/510 [00:09<00:34, 11.41it/s]"
     ]
    },
    {
     "output_type": "stream",
     "name": "stdout",
     "text": [
      "\n",
      "114\n",
      "115\n",
      "116\n"
     ]
    },
    {
     "output_type": "stream",
     "name": "stderr",
     "text": [
      " 24%|██▎       | 121/510 [00:10<00:26, 14.72it/s]"
     ]
    },
    {
     "output_type": "stream",
     "name": "stdout",
     "text": [
      "117\n",
      "118\n",
      "119\n",
      "120\n"
     ]
    },
    {
     "output_type": "stream",
     "name": "stderr",
     "text": [
      " 24%|██▍       | 123/510 [00:10<00:28, 13.66it/s]"
     ]
    },
    {
     "output_type": "stream",
     "name": "stdout",
     "text": [
      "121\n",
      "122\n",
      "123"
     ]
    },
    {
     "output_type": "stream",
     "name": "stderr",
     "text": [
      " 25%|██▍       | 125/510 [00:10<00:30, 12.48it/s]"
     ]
    },
    {
     "output_type": "stream",
     "name": "stdout",
     "text": [
      "\n",
      "124\n",
      "125"
     ]
    },
    {
     "output_type": "stream",
     "name": "stderr",
     "text": [
      " 25%|██▍       | 127/510 [00:10<00:35, 10.89it/s]"
     ]
    },
    {
     "output_type": "stream",
     "name": "stdout",
     "text": [
      "\n",
      "126\n",
      "127"
     ]
    },
    {
     "output_type": "stream",
     "name": "stderr",
     "text": [
      " 25%|██▌       | 129/510 [00:10<00:34, 10.92it/s]"
     ]
    },
    {
     "output_type": "stream",
     "name": "stdout",
     "text": [
      "\n",
      "128\n",
      "129\n"
     ]
    },
    {
     "output_type": "stream",
     "name": "stderr",
     "text": [
      " 26%|██▌       | 133/510 [00:11<00:31, 12.13it/s]"
     ]
    },
    {
     "output_type": "stream",
     "name": "stdout",
     "text": [
      "130\n",
      "131\n",
      "132\n",
      "133\n"
     ]
    },
    {
     "output_type": "stream",
     "name": "stderr",
     "text": [
      " 26%|██▋       | 135/510 [00:11<00:30, 12.37it/s]"
     ]
    },
    {
     "output_type": "stream",
     "name": "stdout",
     "text": [
      "134\n",
      "135\n",
      "136\n"
     ]
    },
    {
     "output_type": "stream",
     "name": "stderr",
     "text": [
      " 27%|██▋       | 139/510 [00:11<00:31, 11.63it/s]"
     ]
    },
    {
     "output_type": "stream",
     "name": "stdout",
     "text": [
      "137\n",
      "138\n",
      "139\n"
     ]
    },
    {
     "output_type": "stream",
     "name": "stderr",
     "text": [
      " 28%|██▊       | 141/510 [00:11<00:34, 10.78it/s]"
     ]
    },
    {
     "output_type": "stream",
     "name": "stdout",
     "text": [
      "140\n",
      "141\n",
      "142\n"
     ]
    },
    {
     "output_type": "stream",
     "name": "stderr",
     "text": [
      " 28%|██▊       | 145/510 [00:12<00:33, 10.99it/s]"
     ]
    },
    {
     "output_type": "stream",
     "name": "stdout",
     "text": [
      "143\n",
      "144\n",
      "145\n"
     ]
    },
    {
     "output_type": "stream",
     "name": "stderr",
     "text": [
      " 29%|██▉       | 149/510 [00:12<00:29, 12.23it/s]"
     ]
    },
    {
     "output_type": "stream",
     "name": "stdout",
     "text": [
      "146\n",
      "147\n",
      "148\n"
     ]
    },
    {
     "output_type": "stream",
     "name": "stderr",
     "text": [
      " 30%|██▉       | 151/510 [00:12<00:27, 13.24it/s]"
     ]
    },
    {
     "output_type": "stream",
     "name": "stdout",
     "text": [
      "149\n",
      "150\n",
      "151\n",
      "152\n"
     ]
    },
    {
     "output_type": "stream",
     "name": "stderr",
     "text": [
      " 30%|███       | 155/510 [00:12<00:27, 12.83it/s]"
     ]
    },
    {
     "output_type": "stream",
     "name": "stdout",
     "text": [
      "153\n",
      "154\n",
      "155\n"
     ]
    },
    {
     "output_type": "stream",
     "name": "stderr",
     "text": [
      " 31%|███       | 159/510 [00:13<00:26, 13.29it/s]"
     ]
    },
    {
     "output_type": "stream",
     "name": "stdout",
     "text": [
      "156\n",
      "157\n",
      "158\n"
     ]
    },
    {
     "output_type": "stream",
     "name": "stderr",
     "text": [
      " 32%|███▏      | 163/510 [00:13<00:25, 13.58it/s]"
     ]
    },
    {
     "output_type": "stream",
     "name": "stdout",
     "text": [
      "159\n",
      "160\n",
      "161\n",
      "162\n",
      "163\n"
     ]
    },
    {
     "output_type": "stream",
     "name": "stderr",
     "text": [
      " 32%|███▏      | 165/510 [00:13<00:27, 12.55it/s]"
     ]
    },
    {
     "output_type": "stream",
     "name": "stdout",
     "text": [
      "164\n",
      "165\n",
      "166\n"
     ]
    },
    {
     "output_type": "stream",
     "name": "stderr",
     "text": [
      " 33%|███▎      | 169/510 [00:14<00:27, 12.53it/s]"
     ]
    },
    {
     "output_type": "stream",
     "name": "stdout",
     "text": [
      "167\n",
      "168\n",
      "169\n",
      "170\n"
     ]
    },
    {
     "output_type": "stream",
     "name": "stderr",
     "text": [
      " 34%|███▍      | 173/510 [00:14<00:25, 13.46it/s]"
     ]
    },
    {
     "output_type": "stream",
     "name": "stdout",
     "text": [
      "171\n",
      "172\n"
     ]
    },
    {
     "output_type": "stream",
     "name": "stderr",
     "text": [
      " 34%|███▍      | 175/510 [00:14<00:24, 13.81it/s]"
     ]
    },
    {
     "output_type": "stream",
     "name": "stdout",
     "text": [
      "173\n",
      "174\n",
      "175\n"
     ]
    },
    {
     "output_type": "stream",
     "name": "stderr",
     "text": [
      " 35%|███▌      | 179/510 [00:14<00:27, 12.24it/s]"
     ]
    },
    {
     "output_type": "stream",
     "name": "stdout",
     "text": [
      "176\n",
      "177\n",
      "178\n"
     ]
    },
    {
     "output_type": "stream",
     "name": "stderr",
     "text": [
      " 35%|███▌      | 181/510 [00:15<00:27, 12.07it/s]"
     ]
    },
    {
     "output_type": "stream",
     "name": "stdout",
     "text": [
      "179\n",
      "180\n",
      "181\n"
     ]
    },
    {
     "output_type": "stream",
     "name": "stderr",
     "text": [
      " 36%|███▌      | 183/510 [00:15<00:26, 12.52it/s]"
     ]
    },
    {
     "output_type": "stream",
     "name": "stdout",
     "text": [
      "182\n",
      "183\n",
      "184"
     ]
    },
    {
     "output_type": "stream",
     "name": "stderr",
     "text": [
      " 37%|███▋      | 187/510 [00:15<00:24, 12.95it/s]"
     ]
    },
    {
     "output_type": "stream",
     "name": "stdout",
     "text": [
      "\n",
      "185\n",
      "186\n",
      "187\n"
     ]
    },
    {
     "output_type": "stream",
     "name": "stderr",
     "text": [
      " 37%|███▋      | 189/510 [00:15<00:23, 13.45it/s]"
     ]
    },
    {
     "output_type": "stream",
     "name": "stdout",
     "text": [
      "188\n",
      "189\n"
     ]
    },
    {
     "output_type": "stream",
     "name": "stderr",
     "text": [
      " 37%|███▋      | 191/510 [00:15<00:28, 11.17it/s]"
     ]
    },
    {
     "output_type": "stream",
     "name": "stdout",
     "text": [
      "190\n",
      "191\n",
      "192\n"
     ]
    },
    {
     "output_type": "stream",
     "name": "stderr",
     "text": [
      " 38%|███▊      | 194/510 [00:16<00:27, 11.66it/s]"
     ]
    },
    {
     "output_type": "stream",
     "name": "stdout",
     "text": [
      "193\n",
      "194\n"
     ]
    },
    {
     "output_type": "stream",
     "name": "stderr",
     "text": [
      " 39%|███▉      | 198/510 [00:16<00:25, 12.27it/s]"
     ]
    },
    {
     "output_type": "stream",
     "name": "stdout",
     "text": [
      "195\n",
      "196\n",
      "197\n",
      "198\n"
     ]
    },
    {
     "output_type": "stream",
     "name": "stderr",
     "text": [
      " 40%|███▉      | 203/510 [00:16<00:20, 15.27it/s]"
     ]
    },
    {
     "output_type": "stream",
     "name": "stdout",
     "text": [
      "199\n",
      "200\n",
      "201\n",
      "202\n",
      "203\n"
     ]
    },
    {
     "output_type": "stream",
     "name": "stderr",
     "text": [
      " 40%|████      | 206/510 [00:16<00:18, 16.72it/s]"
     ]
    },
    {
     "output_type": "stream",
     "name": "stdout",
     "text": [
      "204\n",
      "205\n",
      "206\n",
      "207\n",
      "208\n"
     ]
    },
    {
     "output_type": "stream",
     "name": "stderr",
     "text": [
      " 42%|████▏     | 212/510 [00:17<00:15, 18.76it/s]"
     ]
    },
    {
     "output_type": "stream",
     "name": "stdout",
     "text": [
      "209\n",
      "210\n",
      "211\n",
      "212\n",
      "213\n"
     ]
    },
    {
     "output_type": "stream",
     "name": "stderr",
     "text": [
      " 43%|████▎     | 218/510 [00:17<00:13, 21.12it/s]"
     ]
    },
    {
     "output_type": "stream",
     "name": "stdout",
     "text": [
      "214\n",
      "215\n",
      "216\n",
      "217\n",
      "218\n"
     ]
    },
    {
     "output_type": "stream",
     "name": "stderr",
     "text": [
      " 43%|████▎     | 221/510 [00:17<00:14, 20.31it/s]"
     ]
    },
    {
     "output_type": "stream",
     "name": "stdout",
     "text": [
      "219\n",
      "220\n",
      "221\n",
      "222\n"
     ]
    },
    {
     "output_type": "stream",
     "name": "stderr",
     "text": [
      " 44%|████▍     | 224/510 [00:17<00:14, 19.93it/s]"
     ]
    },
    {
     "output_type": "stream",
     "name": "stdout",
     "text": [
      "223\n",
      "224\n",
      "225\n",
      "226\n"
     ]
    },
    {
     "output_type": "stream",
     "name": "stderr",
     "text": [
      " 45%|████▌     | 230/510 [00:18<00:14, 19.06it/s]"
     ]
    },
    {
     "output_type": "stream",
     "name": "stdout",
     "text": [
      "227\n",
      "228\n",
      "229\n",
      "230\n",
      "231\n"
     ]
    },
    {
     "output_type": "stream",
     "name": "stderr",
     "text": [
      " 46%|████▌     | 235/510 [00:18<00:14, 19.44it/s]"
     ]
    },
    {
     "output_type": "stream",
     "name": "stdout",
     "text": [
      "232\n",
      "233\n",
      "234\n",
      "235\n"
     ]
    },
    {
     "output_type": "stream",
     "name": "stderr",
     "text": [
      " 47%|████▋     | 240/510 [00:18<00:12, 21.21it/s]"
     ]
    },
    {
     "output_type": "stream",
     "name": "stdout",
     "text": [
      "236\n",
      "237\n",
      "238\n",
      "239\n",
      "240\n",
      "241\n"
     ]
    },
    {
     "output_type": "stream",
     "name": "stderr",
     "text": [
      " 48%|████▊     | 246/510 [00:18<00:13, 19.64it/s]"
     ]
    },
    {
     "output_type": "stream",
     "name": "stdout",
     "text": [
      "242\n",
      "243\n",
      "244\n",
      "245\n"
     ]
    },
    {
     "output_type": "stream",
     "name": "stderr",
     "text": [
      " 49%|████▉     | 249/510 [00:19<00:13, 18.91it/s]"
     ]
    },
    {
     "output_type": "stream",
     "name": "stdout",
     "text": [
      "246\n",
      "247\n",
      "248\n",
      "249\n"
     ]
    },
    {
     "output_type": "stream",
     "name": "stderr",
     "text": [
      " 50%|████▉     | 254/510 [00:19<00:12, 20.15it/s]"
     ]
    },
    {
     "output_type": "stream",
     "name": "stdout",
     "text": [
      "250\n",
      "251\n",
      "252\n",
      "253\n",
      "254\n"
     ]
    },
    {
     "output_type": "stream",
     "name": "stderr",
     "text": [
      " 51%|█████     | 260/510 [00:19<00:11, 21.75it/s]"
     ]
    },
    {
     "output_type": "stream",
     "name": "stdout",
     "text": [
      "255\n",
      "256\n",
      "257\n",
      "258\n",
      "259\n",
      "260\n"
     ]
    },
    {
     "output_type": "stream",
     "name": "stderr",
     "text": [
      " 52%|█████▏    | 266/510 [00:19<00:10, 22.71it/s]"
     ]
    },
    {
     "output_type": "stream",
     "name": "stdout",
     "text": [
      "261\n",
      "262\n",
      "263\n",
      "264\n",
      "265\n"
     ]
    },
    {
     "output_type": "stream",
     "name": "stderr",
     "text": [
      " 53%|█████▎    | 269/510 [00:19<00:10, 22.28it/s]"
     ]
    },
    {
     "output_type": "stream",
     "name": "stdout",
     "text": [
      "266\n",
      "267\n",
      "268\n",
      "269\n",
      "270\n"
     ]
    },
    {
     "output_type": "stream",
     "name": "stderr",
     "text": [
      " 54%|█████▍    | 275/510 [00:20<00:10, 22.55it/s]"
     ]
    },
    {
     "output_type": "stream",
     "name": "stdout",
     "text": [
      "271\n",
      "272\n",
      "273\n",
      "274\n",
      "275\n"
     ]
    },
    {
     "output_type": "stream",
     "name": "stderr",
     "text": [
      " 55%|█████▌    | 281/510 [00:20<00:10, 21.97it/s]"
     ]
    },
    {
     "output_type": "stream",
     "name": "stdout",
     "text": [
      "276\n",
      "277\n",
      "278\n",
      "279\n",
      "280\n"
     ]
    },
    {
     "output_type": "stream",
     "name": "stderr",
     "text": [
      " 56%|█████▌    | 284/510 [00:20<00:11, 20.51it/s]"
     ]
    },
    {
     "output_type": "stream",
     "name": "stdout",
     "text": [
      "281\n",
      "282\n",
      "283\n",
      "284"
     ]
    },
    {
     "output_type": "stream",
     "name": "stderr",
     "text": [
      " 56%|█████▋    | 287/510 [00:20<00:12, 18.46it/s]"
     ]
    },
    {
     "output_type": "stream",
     "name": "stdout",
     "text": [
      "\n",
      "285\n",
      "286\n",
      "287\n"
     ]
    },
    {
     "output_type": "stream",
     "name": "stderr",
     "text": [
      " 57%|█████▋    | 290/510 [00:20<00:11, 19.41it/s]"
     ]
    },
    {
     "output_type": "stream",
     "name": "stdout",
     "text": [
      "288\n",
      "289\n",
      "290\n",
      "291\n"
     ]
    },
    {
     "output_type": "stream",
     "name": "stderr",
     "text": [
      " 58%|█████▊    | 294/510 [00:21<00:13, 15.76it/s]"
     ]
    },
    {
     "output_type": "stream",
     "name": "stdout",
     "text": [
      "292\n",
      "293\n",
      "294\n"
     ]
    },
    {
     "output_type": "stream",
     "name": "stderr",
     "text": [
      " 58%|█████▊    | 298/510 [00:21<00:14, 14.60it/s]"
     ]
    },
    {
     "output_type": "stream",
     "name": "stdout",
     "text": [
      "295\n",
      "296\n",
      "297\n",
      "298\n"
     ]
    },
    {
     "output_type": "stream",
     "name": "stderr",
     "text": [
      " 59%|█████▉    | 302/510 [00:21<00:15, 13.75it/s]"
     ]
    },
    {
     "output_type": "stream",
     "name": "stdout",
     "text": [
      "299\n",
      "300\n",
      "301\n"
     ]
    },
    {
     "output_type": "stream",
     "name": "stderr",
     "text": [
      " 60%|█████▉    | 304/510 [00:22<00:15, 13.11it/s]"
     ]
    },
    {
     "output_type": "stream",
     "name": "stdout",
     "text": [
      "302\n",
      "303\n",
      "304\n"
     ]
    },
    {
     "output_type": "stream",
     "name": "stderr",
     "text": [
      " 60%|██████    | 308/510 [00:22<00:14, 13.62it/s]"
     ]
    },
    {
     "output_type": "stream",
     "name": "stdout",
     "text": [
      "305\n",
      "306\n",
      "307\n",
      "308\n",
      "309\n"
     ]
    },
    {
     "output_type": "stream",
     "name": "stderr",
     "text": [
      " 61%|██████▏   | 313/510 [00:22<00:14, 13.32it/s]"
     ]
    },
    {
     "output_type": "stream",
     "name": "stdout",
     "text": [
      "310\n",
      "311\n",
      "312\n",
      "313\n"
     ]
    },
    {
     "output_type": "stream",
     "name": "stderr",
     "text": [
      " 62%|██████▏   | 315/510 [00:23<00:20,  9.72it/s]"
     ]
    },
    {
     "output_type": "stream",
     "name": "stdout",
     "text": [
      "314\n",
      "315\n"
     ]
    },
    {
     "output_type": "stream",
     "name": "stderr",
     "text": [
      " 63%|██████▎   | 319/510 [00:23<00:18, 10.11it/s]"
     ]
    },
    {
     "output_type": "stream",
     "name": "stdout",
     "text": [
      "316\n",
      "317\n",
      "318\n",
      "319\n"
     ]
    },
    {
     "output_type": "stream",
     "name": "stderr",
     "text": [
      " 63%|██████▎   | 323/510 [00:23<00:16, 11.44it/s]"
     ]
    },
    {
     "output_type": "stream",
     "name": "stdout",
     "text": [
      "320\n",
      "321\n",
      "322\n"
     ]
    },
    {
     "output_type": "stream",
     "name": "stderr",
     "text": [
      " 64%|██████▎   | 325/510 [00:23<00:16, 11.01it/s]"
     ]
    },
    {
     "output_type": "stream",
     "name": "stdout",
     "text": [
      "323\n",
      "324\n"
     ]
    },
    {
     "output_type": "stream",
     "name": "stderr",
     "text": [
      " 64%|██████▍   | 327/510 [00:24<00:17, 10.22it/s]"
     ]
    },
    {
     "output_type": "stream",
     "name": "stdout",
     "text": [
      "325\n",
      "326\n",
      "327\n"
     ]
    },
    {
     "output_type": "stream",
     "name": "stderr",
     "text": [
      " 65%|██████▍   | 329/510 [00:24<00:17, 10.06it/s]"
     ]
    },
    {
     "output_type": "stream",
     "name": "stdout",
     "text": [
      "328\n",
      "329\n",
      "330\n"
     ]
    },
    {
     "output_type": "stream",
     "name": "stderr",
     "text": [
      " 65%|██████▌   | 333/510 [00:24<00:16, 10.61it/s]"
     ]
    },
    {
     "output_type": "stream",
     "name": "stdout",
     "text": [
      "331\n",
      "332\n",
      "333\n"
     ]
    },
    {
     "output_type": "stream",
     "name": "stderr",
     "text": [
      " 66%|██████▌   | 337/510 [00:25<00:14, 12.26it/s]"
     ]
    },
    {
     "output_type": "stream",
     "name": "stdout",
     "text": [
      "334\n",
      "335\n",
      "336\n",
      "337\n"
     ]
    },
    {
     "output_type": "stream",
     "name": "stderr",
     "text": [
      " 67%|██████▋   | 341/510 [00:25<00:12, 13.56it/s]"
     ]
    },
    {
     "output_type": "stream",
     "name": "stdout",
     "text": [
      "338\n",
      "339\n",
      "340\n",
      "341\n"
     ]
    },
    {
     "output_type": "stream",
     "name": "stderr",
     "text": [
      " 68%|██████▊   | 345/510 [00:25<00:14, 11.22it/s]"
     ]
    },
    {
     "output_type": "stream",
     "name": "stdout",
     "text": [
      "342\n",
      "343\n",
      "344\n"
     ]
    },
    {
     "output_type": "stream",
     "name": "stderr",
     "text": [
      " 68%|██████▊   | 347/510 [00:25<00:14, 11.49it/s]"
     ]
    },
    {
     "output_type": "stream",
     "name": "stdout",
     "text": [
      "345\n",
      "346\n"
     ]
    },
    {
     "output_type": "stream",
     "name": "stderr",
     "text": [
      " 68%|██████▊   | 349/510 [00:26<00:15, 10.48it/s]"
     ]
    },
    {
     "output_type": "stream",
     "name": "stdout",
     "text": [
      "347\n",
      "348\n"
     ]
    },
    {
     "output_type": "stream",
     "name": "stderr",
     "text": [
      " 69%|██████▉   | 351/510 [00:26<00:17,  9.32it/s]"
     ]
    },
    {
     "output_type": "stream",
     "name": "stdout",
     "text": [
      "349\n",
      "350\n",
      "351\n",
      "352\n"
     ]
    },
    {
     "output_type": "stream",
     "name": "stderr",
     "text": [
      " 70%|██████▉   | 356/510 [00:26<00:12, 12.09it/s]"
     ]
    },
    {
     "output_type": "stream",
     "name": "stdout",
     "text": [
      "353\n",
      "354\n",
      "355\n"
     ]
    },
    {
     "output_type": "stream",
     "name": "stderr",
     "text": [
      " 71%|███████   | 360/510 [00:27<00:11, 12.56it/s]"
     ]
    },
    {
     "output_type": "stream",
     "name": "stdout",
     "text": [
      "356\n",
      "357\n",
      "358\n",
      "359\n"
     ]
    },
    {
     "output_type": "stream",
     "name": "stderr",
     "text": [
      " 71%|███████   | 362/510 [00:27<00:11, 12.43it/s]"
     ]
    },
    {
     "output_type": "stream",
     "name": "stdout",
     "text": [
      "360\n",
      "361\n",
      "362\n"
     ]
    },
    {
     "output_type": "stream",
     "name": "stderr",
     "text": [
      " 72%|███████▏  | 366/510 [00:27<00:10, 14.01it/s]"
     ]
    },
    {
     "output_type": "stream",
     "name": "stdout",
     "text": [
      "363\n",
      "364\n",
      "365\n",
      "366\n",
      "367\n"
     ]
    },
    {
     "output_type": "stream",
     "name": "stderr",
     "text": [
      " 73%|███████▎  | 372/510 [00:27<00:08, 16.73it/s]"
     ]
    },
    {
     "output_type": "stream",
     "name": "stdout",
     "text": [
      "368\n",
      "369\n",
      "370\n",
      "371\n"
     ]
    },
    {
     "output_type": "stream",
     "name": "stderr",
     "text": [
      " 73%|███████▎  | 374/510 [00:27<00:07, 17.34it/s]"
     ]
    },
    {
     "output_type": "stream",
     "name": "stdout",
     "text": [
      "372\n",
      "373\n",
      "374\n"
     ]
    },
    {
     "output_type": "stream",
     "name": "stderr",
     "text": [
      " 74%|███████▍  | 378/510 [00:28<00:09, 14.29it/s]"
     ]
    },
    {
     "output_type": "stream",
     "name": "stdout",
     "text": [
      "375\n",
      "376\n",
      "377\n"
     ]
    },
    {
     "output_type": "stream",
     "name": "stderr",
     "text": [
      " 75%|███████▍  | 380/510 [00:28<00:09, 13.69it/s]"
     ]
    },
    {
     "output_type": "stream",
     "name": "stdout",
     "text": [
      "378\n",
      "379\n",
      "380\n"
     ]
    },
    {
     "output_type": "stream",
     "name": "stderr",
     "text": [
      " 75%|███████▍  | 382/510 [00:28<00:09, 13.08it/s]"
     ]
    },
    {
     "output_type": "stream",
     "name": "stdout",
     "text": [
      "381\n",
      "382\n",
      "383\n"
     ]
    },
    {
     "output_type": "stream",
     "name": "stderr",
     "text": [
      " 76%|███████▌  | 386/510 [00:28<00:09, 12.85it/s]"
     ]
    },
    {
     "output_type": "stream",
     "name": "stdout",
     "text": [
      "384\n",
      "385\n",
      "386\n",
      "387\n"
     ]
    },
    {
     "output_type": "stream",
     "name": "stderr",
     "text": [
      " 77%|███████▋  | 391/510 [00:29<00:08, 14.45it/s]"
     ]
    },
    {
     "output_type": "stream",
     "name": "stdout",
     "text": [
      "388\n",
      "389\n",
      "390\n"
     ]
    },
    {
     "output_type": "stream",
     "name": "stderr",
     "text": [
      " 77%|███████▋  | 393/510 [00:29<00:08, 13.00it/s]"
     ]
    },
    {
     "output_type": "stream",
     "name": "stdout",
     "text": [
      "391\n",
      "392\n",
      "393\n"
     ]
    },
    {
     "output_type": "stream",
     "name": "stderr",
     "text": [
      " 78%|███████▊  | 397/510 [00:29<00:08, 13.06it/s]"
     ]
    },
    {
     "output_type": "stream",
     "name": "stdout",
     "text": [
      "394\n",
      "395\n",
      "396\n"
     ]
    },
    {
     "output_type": "stream",
     "name": "stderr",
     "text": [
      " 78%|███████▊  | 399/510 [00:29<00:08, 12.88it/s]"
     ]
    },
    {
     "output_type": "stream",
     "name": "stdout",
     "text": [
      "397\n",
      "398\n",
      "399\n"
     ]
    },
    {
     "output_type": "stream",
     "name": "stderr",
     "text": [
      " 79%|███████▉  | 403/510 [00:30<00:07, 14.09it/s]"
     ]
    },
    {
     "output_type": "stream",
     "name": "stdout",
     "text": [
      "400\n",
      "401\n",
      "402\n",
      "403\n"
     ]
    },
    {
     "output_type": "stream",
     "name": "stderr",
     "text": [
      " 80%|███████▉  | 407/510 [00:30<00:06, 15.22it/s]"
     ]
    },
    {
     "output_type": "stream",
     "name": "stdout",
     "text": [
      "404\n",
      "405\n",
      "406\n",
      "407\n",
      "408\n"
     ]
    },
    {
     "output_type": "stream",
     "name": "stderr",
     "text": [
      " 80%|████████  | 410/510 [00:30<00:06, 16.15it/s]"
     ]
    },
    {
     "output_type": "stream",
     "name": "stdout",
     "text": [
      "409\n",
      "410\n",
      "411\n"
     ]
    },
    {
     "output_type": "stream",
     "name": "stderr",
     "text": [
      " 81%|████████  | 414/510 [00:30<00:07, 12.62it/s]"
     ]
    },
    {
     "output_type": "stream",
     "name": "stdout",
     "text": [
      "412\n",
      "413\n",
      "414\n",
      "415\n"
     ]
    },
    {
     "output_type": "stream",
     "name": "stderr",
     "text": [
      " 82%|████████▏ | 418/510 [00:31<00:07, 12.83it/s]"
     ]
    },
    {
     "output_type": "stream",
     "name": "stdout",
     "text": [
      "416\n",
      "417\n",
      "418\n",
      "419\n"
     ]
    },
    {
     "output_type": "stream",
     "name": "stderr",
     "text": [
      " 83%|████████▎ | 422/510 [00:31<00:06, 13.08it/s]"
     ]
    },
    {
     "output_type": "stream",
     "name": "stdout",
     "text": [
      "420\n",
      "421\n",
      "422\n",
      "423\n"
     ]
    },
    {
     "output_type": "stream",
     "name": "stderr",
     "text": [
      " 84%|████████▎ | 426/510 [00:31<00:06, 12.50it/s]"
     ]
    },
    {
     "output_type": "stream",
     "name": "stdout",
     "text": [
      "424\n",
      "425\n"
     ]
    },
    {
     "output_type": "stream",
     "name": "stderr",
     "text": [
      " 84%|████████▍ | 428/510 [00:31<00:06, 12.39it/s]"
     ]
    },
    {
     "output_type": "stream",
     "name": "stdout",
     "text": [
      "426\n",
      "427\n",
      "428\n"
     ]
    },
    {
     "output_type": "stream",
     "name": "stderr",
     "text": [
      " 85%|████████▍ | 432/510 [00:32<00:06, 11.43it/s]"
     ]
    },
    {
     "output_type": "stream",
     "name": "stdout",
     "text": [
      "429\n",
      "430\n",
      "431\n"
     ]
    },
    {
     "output_type": "stream",
     "name": "stderr",
     "text": [
      " 85%|████████▌ | 434/510 [00:32<00:06, 12.38it/s]"
     ]
    },
    {
     "output_type": "stream",
     "name": "stdout",
     "text": [
      "432\n",
      "433\n",
      "434\n"
     ]
    },
    {
     "output_type": "stream",
     "name": "stderr",
     "text": [
      " 85%|████████▌ | 436/510 [00:32<00:06, 12.23it/s]"
     ]
    },
    {
     "output_type": "stream",
     "name": "stdout",
     "text": [
      "435\n",
      "436\n",
      "437\n"
     ]
    },
    {
     "output_type": "stream",
     "name": "stderr",
     "text": [
      " 86%|████████▋ | 440/510 [00:32<00:05, 13.43it/s]"
     ]
    },
    {
     "output_type": "stream",
     "name": "stdout",
     "text": [
      "438\n",
      "439\n",
      "440\n"
     ]
    },
    {
     "output_type": "stream",
     "name": "stderr",
     "text": [
      " 87%|████████▋ | 444/510 [00:33<00:05, 12.41it/s]"
     ]
    },
    {
     "output_type": "stream",
     "name": "stdout",
     "text": [
      "441\n",
      "442\n",
      "443\n"
     ]
    },
    {
     "output_type": "stream",
     "name": "stderr",
     "text": [
      " 87%|████████▋ | 446/510 [00:33<00:05, 11.78it/s]"
     ]
    },
    {
     "output_type": "stream",
     "name": "stdout",
     "text": [
      "444\n",
      "445\n"
     ]
    },
    {
     "output_type": "stream",
     "name": "stderr",
     "text": [
      " 88%|████████▊ | 448/510 [00:33<00:05, 10.84it/s]"
     ]
    },
    {
     "output_type": "stream",
     "name": "stdout",
     "text": [
      "446\n",
      "447\n",
      "448\n"
     ]
    },
    {
     "output_type": "stream",
     "name": "stderr",
     "text": [
      " 89%|████████▊ | 452/510 [00:33<00:04, 12.99it/s]"
     ]
    },
    {
     "output_type": "stream",
     "name": "stdout",
     "text": [
      "449\n",
      "450\n",
      "451\n",
      "452\n"
     ]
    },
    {
     "output_type": "stream",
     "name": "stderr",
     "text": [
      " 89%|████████▉ | 455/510 [00:34<00:03, 14.11it/s]"
     ]
    },
    {
     "output_type": "stream",
     "name": "stdout",
     "text": [
      "453\n",
      "454\n",
      "455\n"
     ]
    },
    {
     "output_type": "stream",
     "name": "stderr",
     "text": [
      " 90%|█████████ | 459/510 [00:34<00:03, 13.77it/s]"
     ]
    },
    {
     "output_type": "stream",
     "name": "stdout",
     "text": [
      "456\n",
      "457\n",
      "458\n"
     ]
    },
    {
     "output_type": "stream",
     "name": "stderr",
     "text": [
      " 90%|█████████ | 461/510 [00:34<00:03, 13.88it/s]"
     ]
    },
    {
     "output_type": "stream",
     "name": "stdout",
     "text": [
      "459\n",
      "460\n",
      "461\n"
     ]
    },
    {
     "output_type": "stream",
     "name": "stderr",
     "text": [
      " 91%|█████████ | 465/510 [00:34<00:03, 12.39it/s]"
     ]
    },
    {
     "output_type": "stream",
     "name": "stdout",
     "text": [
      "462\n",
      "463\n",
      "464\n"
     ]
    },
    {
     "output_type": "stream",
     "name": "stderr",
     "text": [
      " 92%|█████████▏| 468/510 [00:35<00:02, 14.08it/s]"
     ]
    },
    {
     "output_type": "stream",
     "name": "stdout",
     "text": [
      "465\n",
      "466\n",
      "467\n",
      "468"
     ]
    },
    {
     "output_type": "stream",
     "name": "stderr",
     "text": [
      " 92%|█████████▏| 470/510 [00:35<00:02, 13.75it/s]"
     ]
    },
    {
     "output_type": "stream",
     "name": "stdout",
     "text": [
      "\n",
      "469\n",
      "470\n",
      "471\n"
     ]
    },
    {
     "output_type": "stream",
     "name": "stderr",
     "text": [
      " 93%|█████████▎| 474/510 [00:35<00:02, 14.56it/s]"
     ]
    },
    {
     "output_type": "stream",
     "name": "stdout",
     "text": [
      "472\n",
      "473\n",
      "474\n"
     ]
    },
    {
     "output_type": "stream",
     "name": "stderr",
     "text": [
      " 94%|█████████▎| 478/510 [00:35<00:02, 13.44it/s]"
     ]
    },
    {
     "output_type": "stream",
     "name": "stdout",
     "text": [
      "475\n",
      "476\n",
      "477\n",
      "478\n"
     ]
    },
    {
     "output_type": "stream",
     "name": "stderr",
     "text": [
      " 95%|█████████▍| 483/510 [00:36<00:01, 16.26it/s]"
     ]
    },
    {
     "output_type": "stream",
     "name": "stdout",
     "text": [
      "479\n",
      "480\n",
      "481\n",
      "482\n"
     ]
    },
    {
     "output_type": "stream",
     "name": "stderr",
     "text": [
      " 95%|█████████▌| 485/510 [00:36<00:01, 15.43it/s]"
     ]
    },
    {
     "output_type": "stream",
     "name": "stdout",
     "text": [
      "483\n",
      "484\n",
      "485\n",
      "486\n"
     ]
    },
    {
     "output_type": "stream",
     "name": "stderr",
     "text": [
      " 96%|█████████▌| 489/510 [00:36<00:01, 15.81it/s]"
     ]
    },
    {
     "output_type": "stream",
     "name": "stdout",
     "text": [
      "487\n",
      "488\n",
      "489\n",
      "490\n"
     ]
    },
    {
     "output_type": "stream",
     "name": "stderr",
     "text": [
      " 97%|█████████▋| 493/510 [00:36<00:01, 14.56it/s]"
     ]
    },
    {
     "output_type": "stream",
     "name": "stdout",
     "text": [
      "491\n",
      "492\n",
      "493\n",
      "494\n"
     ]
    },
    {
     "output_type": "stream",
     "name": "stderr",
     "text": [
      " 97%|█████████▋| 497/510 [00:37<00:00, 13.63it/s]"
     ]
    },
    {
     "output_type": "stream",
     "name": "stdout",
     "text": [
      "495\n",
      "496\n",
      "497\n"
     ]
    },
    {
     "output_type": "stream",
     "name": "stderr",
     "text": [
      " 98%|█████████▊| 501/510 [00:37<00:00, 14.28it/s]"
     ]
    },
    {
     "output_type": "stream",
     "name": "stdout",
     "text": [
      "498\n",
      "499\n",
      "500\n",
      "501\n"
     ]
    },
    {
     "output_type": "stream",
     "name": "stderr",
     "text": [
      " 99%|█████████▉| 505/510 [00:37<00:00, 16.59it/s]"
     ]
    },
    {
     "output_type": "stream",
     "name": "stdout",
     "text": [
      "502\n",
      "503\n",
      "504\n",
      "505\n",
      "506\n"
     ]
    },
    {
     "output_type": "stream",
     "name": "stderr",
     "text": [
      "100%|██████████| 510/510 [00:37<00:00, 13.49it/s]\n"
     ]
    },
    {
     "output_type": "stream",
     "name": "stdout",
     "text": [
      "507\n",
      "508\n",
      "509\n"
     ]
    }
   ],
   "metadata": {}
  },
  {
   "cell_type": "code",
   "execution_count": 60,
   "source": [
    "df.head()"
   ],
   "outputs": [
    {
     "output_type": "execute_result",
     "data": {
      "text/html": [
       "<div>\n",
       "<style scoped>\n",
       "    .dataframe tbody tr th:only-of-type {\n",
       "        vertical-align: middle;\n",
       "    }\n",
       "\n",
       "    .dataframe tbody tr th {\n",
       "        vertical-align: top;\n",
       "    }\n",
       "\n",
       "    .dataframe thead th {\n",
       "        text-align: right;\n",
       "    }\n",
       "</style>\n",
       "<table border=\"1\" class=\"dataframe tex2jax_ignore\">\n",
       "  <thead>\n",
       "    <tr style=\"text-align: right;\">\n",
       "      <th></th>\n",
       "      <th>title</th>\n",
       "      <th>article</th>\n",
       "      <th>summary</th>\n",
       "    </tr>\n",
       "  </thead>\n",
       "  <tbody>\n",
       "    <tr>\n",
       "      <th>0</th>\n",
       "      <td>A</td>\n",
       "      <td>sales boost Time Warner profit\\n\\nQuarterly profits at US media giant TimeWarner jumped 76% to $1.13bn (Â£600m) for the three months to December,...</td>\n",
       "      <td>T</td>\n",
       "    </tr>\n",
       "    <tr>\n",
       "      <th>1</th>\n",
       "      <td>D</td>\n",
       "      <td>llar gains on Greenspan speech\\n\\nThe dollar has hit its highest level against the euro in almost three months after the Federal Reserve head said...</td>\n",
       "      <td>T</td>\n",
       "    </tr>\n",
       "    <tr>\n",
       "      <th>2</th>\n",
       "      <td>Y</td>\n",
       "      <td>kos unit buyer faces loan claim\\n\\nThe owners of embattled Russian oil giant Yukos are to ask the buyer of its former production unit to pay back ...</td>\n",
       "      <td>Y</td>\n",
       "    </tr>\n",
       "    <tr>\n",
       "      <th>3</th>\n",
       "      <td>H</td>\n",
       "      <td>gh fuel prices hit BA's profits\\n\\nBritish Airways has blamed high fuel prices for a 40% drop in profits.\\n\\nReporting its results for the three m...</td>\n",
       "      <td>R</td>\n",
       "    </tr>\n",
       "    <tr>\n",
       "      <th>4</th>\n",
       "      <td>P</td>\n",
       "      <td>rnod takeover talk lifts Domecq\\n\\nShares in UK drinks and food firm Allied Domecq have risen on speculation that it could be the target of a take...</td>\n",
       "      <td>P</td>\n",
       "    </tr>\n",
       "  </tbody>\n",
       "</table>\n",
       "</div>"
      ],
      "text/plain": [
       "  title  \\\n",
       "0     A   \n",
       "1     D   \n",
       "2     Y   \n",
       "3     H   \n",
       "4     P   \n",
       "\n",
       "                                                                                                                                                 article  \\\n",
       "0   sales boost Time Warner profit\\n\\nQuarterly profits at US media giant TimeWarner jumped 76% to $1.13bn (Â£600m) for the three months to December,...   \n",
       "1  llar gains on Greenspan speech\\n\\nThe dollar has hit its highest level against the euro in almost three months after the Federal Reserve head said...   \n",
       "2  kos unit buyer faces loan claim\\n\\nThe owners of embattled Russian oil giant Yukos are to ask the buyer of its former production unit to pay back ...   \n",
       "3  gh fuel prices hit BA's profits\\n\\nBritish Airways has blamed high fuel prices for a 40% drop in profits.\\n\\nReporting its results for the three m...   \n",
       "4  rnod takeover talk lifts Domecq\\n\\nShares in UK drinks and food firm Allied Domecq have risen on speculation that it could be the target of a take...   \n",
       "\n",
       "  summary  \n",
       "0       T  \n",
       "1       T  \n",
       "2       Y  \n",
       "3       R  \n",
       "4       P  "
      ]
     },
     "metadata": {},
     "execution_count": 60
    }
   ],
   "metadata": {}
  },
  {
   "cell_type": "code",
   "execution_count": 70,
   "source": [
    "def print_article(article):\r\n",
    "    for item in article:\r\n",
    "        print(item)\r\n",
    "\r\n",
    "sample_text = clean(df['article'][0])\r\n",
    "print( sample_text)"
   ],
   "outputs": [
    {
     "output_type": "stream",
     "name": "stdout",
     "text": [
      "sales boost Time Warner profit Quarterly profits at US media giant TimeWarner jumped 76% to $1.13bn (Â£600m) for the three months to December, from $639m year-earlier. The firm, which is now one of the biggest investors in Google, benefited from sales of high-speed internet connections and higher advert sales. TimeWarner said fourth quarter sales rose 2% to $11.1bn from $10.9bn. Its profits were buoyed by one-off gains which offset a profit dip at Warner Bros, and less users for AOL. Time Warner said on Friday that it now owns 8% of search-engine Google. But its own internet business, AOL, had has mixed fortunes. It lost 464,000 subscribers in the fourth quarter profits were lower than in the preceding three quarters. However, the company said AOL's underlying profit before exceptional items rose 8% on the back of stronger internet advertising revenues. It hopes to increase subscribers by offering the online service free to TimeWarner internet customers and will try to sign up AOL's existing customers for high-speed broadband. TimeWarner also has to restate 2000 and 2003 results following a probe by the US Securities Exchange Commission (SEC), which is close to concluding. Time Warner's fourth quarter profits were slightly better than analysts' expectations. But its film division saw profits slump 27% to $284m, helped by box-office flops Alexander and Catwoman, a sharp contrast to year-earlier, when the third and final film in the Lord of the Rings trilogy boosted results. For the full-year, TimeWarner posted a profit of $3.36bn, up 27% from its 2003 performance, while revenues grew 6.4% to $42.09bn. \"Our financial performance was strong, meeting or exceeding all of our full-year objectives and greatly enhancing our flexibility,\" chairman and chief executive Richard Parsons said. For 2005, TimeWarner is projecting operating earnings growth of around 5%, and also expects higher revenue and wider profit margins. TimeWarner is to restate its accounts as part of efforts to resolve an inquiry into AOL by US market regulators. It has already offered to pay $300m to settle charges, in a deal that is under review by the SEC. The company said it was unable to estimate the amount it needed to set aside for legal reserves, which it previously set at $500m. It intends to adjust the way it accounts for a deal with German music publisher Bertelsmann's purchase of a stake in AOL Europe, which it had reported as advertising revenue. It will now book the sale of its stake in AOL Europe as a loss on the value of that stake.\n"
     ]
    }
   ],
   "metadata": {}
  },
  {
   "cell_type": "code",
   "execution_count": 66,
   "source": [
    "sample_summary = clean(df['summary'][0])\r\n",
    "print(sample_summary)"
   ],
   "outputs": [
    {
     "output_type": "stream",
     "name": "stdout",
     "text": [
      "TimeWarner said fourth quarter sales rose 2% to $11.1bn from $10.9bn.For the full-year, TimeWarner posted a profit of $3.36bn, up 27% from its 2003 performance, while revenues grew 6.4% to $42.09bn.Quarterly profits at US media giant TimeWarner jumped 76% to $1.13bn (Â£600m) for the three months to December, from $639m year-earlier.However, the company said AOL's underlying profit before exceptional items rose 8% on the back of stronger internet advertising revenues.Its profits were buoyed by one-off gains which offset a profit dip at Warner Bros, and less users for AOL.For 2005, TimeWarner is projecting operating earnings growth of around 5%, and also expects higher revenue and wider profit margins.It lost 464,000 subscribers in the fourth quarter profits were lower than in the preceding three quarters.Time Warner's fourth quarter profits were slightly better than analysts' expectations.\n"
     ]
    }
   ],
   "metadata": {}
  },
  {
   "cell_type": "code",
   "execution_count": 72,
   "source": [
    "num_summary_sentence = 6 ##\r\n",
    "gold_standard = sample_summary\r\n",
    "summary = \"\"\r\n",
    "\r\n",
    "summary = ''.join(textrank_summary(sample_text, num_summary_sentence))\r\n",
    "scorer = rouge_scorer.RougeScorer(['rouge1'], use_stemmer=True)\r\n",
    "scores = scorer.score(gold_standard, summary)\r\n",
    "print_rouge_score(scores)\r\n",
    "print(summary)"
   ],
   "outputs": [
    {
     "output_type": "stream",
     "name": "stdout",
     "text": [
      "rouge1 Precision: 0.82 Recall: 0.70 fmeasure: 0.75\n",
      "sales boost Time Warner profit Quarterly profits at US media giant TimeWarner jumped 76% to $1.13bn (Â£600m) for the three months to December, from $639m year-earlier.Its profits were buoyed by one-off gains which offset a profit dip at Warner Bros, and less users for AOL.However, the company said AOL's underlying profit before exceptional items rose 8% on the back of stronger internet advertising revenues.It hopes to increase subscribers by offering the online service free to TimeWarner internet customers and will try to sign up AOL's existing customers for high-speed broadband.Time Warner's fourth quarter profits were slightly better than analysts' expectations.For 2005, TimeWarner is projecting operating earnings growth of around 5%, and also expects higher revenue and wider profit margins.\n"
     ]
    }
   ],
   "metadata": {}
  },
  {
   "cell_type": "code",
   "execution_count": null,
   "source": [],
   "outputs": [],
   "metadata": {}
  }
 ],
 "metadata": {
  "orig_nbformat": 4,
  "language_info": {
   "name": "python",
   "version": "3.9.7",
   "mimetype": "text/x-python",
   "codemirror_mode": {
    "name": "ipython",
    "version": 3
   },
   "pygments_lexer": "ipython3",
   "nbconvert_exporter": "python",
   "file_extension": ".py"
  },
  "kernelspec": {
   "name": "python3",
   "display_name": "Python 3.9.7 64-bit ('text': conda)"
  },
  "interpreter": {
   "hash": "5caea8df2d6b3afe4c6a8fa5e4ec8aa952f5ed6f914beaca74edf16901303bb7"
  }
 },
 "nbformat": 4,
 "nbformat_minor": 2
}